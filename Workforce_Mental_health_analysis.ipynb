{
 "cells": [
  {
   "cell_type": "markdown",
   "metadata": {
    "id": "0325Ma6DEsW-"
   },
   "source": [
    "# **Mental Health in the Workforce**\n",
    "### **A look at Tech Industry Employees**\n"
   ]
  },
  {
   "cell_type": "markdown",
   "metadata": {
    "id": "RgmV6sRVHxsJ"
   },
   "source": [
    "# **Introduction**"
   ]
  },
  {
   "cell_type": "markdown",
   "metadata": {
    "id": "is7zAWQgfF_G"
   },
   "source": [
    "### **Background**\n",
    "Our project delves into Employees’ mental health experiences in the Tech industry and ways that mental health is handled. We are utilizing information from the present day to apply to our 2016 dataset in order to make inferences about the past to project how the history of Mental Health has changed for the Tech industry.<br>\n",
    "The motive for this action derived from tech workers facing key challenges in the workplace in terms of increased workloads, long hours, hierarchical pressure, loss of productivity, lack of camaraderie, and socialization. As a group we were interested in gauging mental health as a challenge for tech workers using data analytics, and providing our input on strategies and methodologies to help support those individuals who might be facing these issues in the ever growing technology universe.<br>\n",
    "Our goals entailed capturing employees' mental health experiences through examining the frequency of disorders to detect possible trends, proposing approaches to address and manage this problem, in order to assist companies in enhancing employee's engagement and well-being. <br>\n",
    "This topic is of significance to our cohort in particular, because as current and aspiring Tech employees, we are interested in researching and understanding the current climate surrounding mental health, and happiness/satisfaction within the Tech workplace."
   ]
  },
  {
   "cell_type": "markdown",
   "metadata": {
    "id": "WVLQU43Y3EO2"
   },
   "source": [
    "### **Dataset**\n",
    "The dataset,  “Data on Prevalence and Attitudes Towards Mental Health Among Tech Workers” was generated from the OSMI mental health in Tech Survey 2016. ‘Open Sourcing Mental Illness’ (OSMI) is a non-profit organization that aims at educating, raising awareness and providing resources in support of mental wellness in the tech community. <br>\n",
    "The dataset is a csv file containing over 1433 voluntary responses from employees in a survey collected since 2016.  [1434 rows x 63 columns].\n",
    "The data that is analyzed will be used to display findings on the state of mental health and any current stigmas surrounding mental health in the open era (2016+). We ultimately aspire to use these findings to present to stakeholders, in efforts to improve conditions, and ease the stigma surrounding mental health in Tech.<br>\n",
    "2016 was the most recent year that recorded over 1000 responses - hence, the decision to analyze this specific dataset for accuracy purposes. We observed the datasets for the responses from years (2017+) and determined that they would not provide significant insight due to the few number of responses, and decided to continue using the 2016 dataset. In the future, we would like to revisit this topic once the 2021 survey responses are completed at the end of the year and gather a current look at the mental state of tech employees in respect to the present world - ie. Covid Pandemic. Using that information, we would like to take this project beyond this course and make a comparison of 2016 responses to 2021, and hopefully begin a chain reaction that changes the outlook on mental health once again for the future. \n"
   ]
  },
  {
   "cell_type": "markdown",
   "metadata": {
    "id": "G-cz8izsDzGL"
   },
   "source": [
    "### **Key Questions**\n",
    "The key questions that were utilized for consideration are as follows:\n",
    "- How do employees feel about possible freedom of discussing mental health issues in the workplace?\n",
    "- How does the size of an organization affect the proportion of employees suffering from a Mental Health Disorder?\n",
    "- What are the most prevalent mental disorders among tech workers?\n",
    "- What, if any, specific age group suffers the most from mental health issues in Tech? Why?\n",
    "- What, if any, specific United States’ region suffers the most from mental health issues in Tech? Why?\n"
   ]
  },
  {
   "cell_type": "markdown",
   "metadata": {
    "id": "Kbi6hbyzE2IV"
   },
   "source": [
    "Our questions for analysis and the subsequent findings are of the utmost importance to all stakeholders in the Tech industry. For employers, our results can help provide starting points for opening up discussions about mental wellness, subsequently allowing for employees to feel more comfortable sharing their experiences, leaving them happier and satisfied with their environment. For employees, when reviewing the findings of this topic, the results can incite many to begin to realize that they are not alone in facing mental health issues. \n",
    "Our results are especially significant to the ever-expanding technological world, as more employees enter the Tech workforce - with these very employees playing a pivotal role in the present and future of technological advancements. This is vital for companies to better engage, and develop plans of action/strategies with their employees regarding mental wellness. \n",
    "Overall, our entire project provides key contributions for the Tech industry as a whole, allowing for the people behind some of the most pivotal advancements to be mentally taken care of."
   ]
  },
  {
   "cell_type": "markdown",
   "metadata": {
    "id": "DXUMWDNsi0C5"
   },
   "source": [
    "## **Outline**\n",
    "- Choice for Heavier Grading on Data Processing or Data Analysis\n",
    "- Data Processing\n",
    "  - Data Cleaning and Transformation\n",
    "    - Renaming the columns\n",
    "    - Handling `Gender` column and managing missing values\n",
    "    - Handling `Age` column and managing outliers\n",
    "    - Droping columns with subjective data\n",
    "    - Indexing\n",
    "    - Removing irrelevant data\n",
    "    - Slicing\n",
    "- Data Visualiztion and Analysis\n",
    "  - Anonymity and Negative Consequences\n",
    "  - Mental disorder within differnt organizations - In terms of size\n",
    "  - Most common type of Mental Health Disorders among Tech employees\n",
    "  - Finding the employee position suffering from MHD\n",
    "  - Distribution of Mental Health Disorders as per the age of employees\n",
    "- Conclusion"
   ]
  },
  {
   "cell_type": "markdown",
   "metadata": {
    "id": "X1syYzfdhTNA"
   },
   "source": [
    "# **Choice for Heavier Grading on Data Processing or Data Analysis**"
   ]
  },
  {
   "cell_type": "markdown",
   "metadata": {
    "id": "omp-i-6L2FDz"
   },
   "source": [
    "<em>Guardians of Tech</em> would like to be graded more heavily on data analysis. We believe our work goes above and beyond in order to answer our key questions and also provide clear observations and inferences about the state of Mental Health in the Tech industry. Our work provides great analysis into a real world problem that will be utilized in the future by any interested organizations. One of our key ‘real-world’ stakeholders is Paul L. Shank, CIO and Chief Engineer at the Baltimore Washington International Airport, who is utilizing our findings to present to his Tech employees, in order to destigmatize mental wellness in the workplace.\n"
   ]
  },
  {
   "cell_type": "markdown",
   "metadata": {
    "id": "8LsqDftb_0lz"
   },
   "source": [
    "# **Data Processing**"
   ]
  },
  {
   "cell_type": "markdown",
   "metadata": {
    "id": "GmIqxqrchcfR"
   },
   "source": [
    "#### **Data Cleaning**"
   ]
  },
  {
   "cell_type": "markdown",
   "metadata": {
    "id": "QMs2CYa2IxUd"
   },
   "source": [
    "Our first aim was to prepare the data before it could be analyzed. Preparing data involves tasks like managing missing values, filtering the data, interpreting the outliers and padding them with the necessary appropriate statistical values and more."
   ]
  },
  {
   "cell_type": "markdown",
   "metadata": {
    "id": "vtZbuu2ejlYK"
   },
   "source": [
    "Our group utilized technology and collaboratively worked on creating this notebook using Google Collab."
   ]
  },
  {
   "cell_type": "markdown",
   "metadata": {
    "id": "2UmPimRpMZHU"
   },
   "source": [
    "#### **Loading the Data**\n"
   ]
  },
  {
   "cell_type": "code",
   "execution_count": null,
   "metadata": {
    "colab": {
     "base_uri": "https://localhost:8080/"
    },
    "id": "gHqjX9S5ljic",
    "outputId": "42d1dbcb-61cc-41a0-d310-fcce0c2ab922"
   },
   "outputs": [
    {
     "name": "stdout",
     "output_type": "stream",
     "text": [
      "Requirement already satisfied: colour in /usr/local/lib/python3.7/dist-packages (0.1.5)\n",
      "Requirement already satisfied: us in /usr/local/lib/python3.7/dist-packages (2.0.2)\n",
      "Requirement already satisfied: jellyfish==0.6.1 in /usr/local/lib/python3.7/dist-packages (from us) (0.6.1)\n"
     ]
    }
   ],
   "source": [
    "!pip install colour\n",
    "!pip install us"
   ]
  },
  {
   "cell_type": "code",
   "execution_count": null,
   "metadata": {
    "id": "5xbm_DjTFkug"
   },
   "outputs": [],
   "source": [
    "# importing necessary libraries to start with data cleaning\n",
    "import pandas as pd\n",
    "import numpy as np\n",
    "import matplotlib.pyplot as plt\n",
    "import seaborn as sns\n",
    "import plotly.graph_objects as go\n",
    "import plotly.offline as pyo\n",
    "import us"
   ]
  },
  {
   "cell_type": "code",
   "execution_count": null,
   "metadata": {
    "id": "hKgolG3MKHBr",
    "tags": []
   },
   "outputs": [],
   "source": [
    "# setting the path of our data file and importing the data\n",
    "# Add path where the downloaded excel file is present\n",
    "path =\"\"  \n",
    "df_survey = pd.read_csv(path + 'mental-health-data.csv')"
   ]
  },
  {
   "cell_type": "markdown",
   "metadata": {
    "id": "Boc_WxP9h_AQ"
   },
   "source": [
    "Let's take a look at the data we have have in the excel(csv) file. Accessing the data for cleaning and transformation: "
   ]
  },
  {
   "cell_type": "code",
   "execution_count": null,
   "metadata": {
    "colab": {
     "base_uri": "https://localhost:8080/",
     "height": 938
    },
    "id": "Ox2jFk9nvbC-",
    "outputId": "fb074e42-4937-48e3-8303-ce81ac73511c"
   },
   "outputs": [
    {
     "data": {
      "text/html": [
       "<div>\n",
       "<style scoped>\n",
       "    .dataframe tbody tr th:only-of-type {\n",
       "        vertical-align: middle;\n",
       "    }\n",
       "\n",
       "    .dataframe tbody tr th {\n",
       "        vertical-align: top;\n",
       "    }\n",
       "\n",
       "    .dataframe thead th {\n",
       "        text-align: right;\n",
       "    }\n",
       "</style>\n",
       "<table border=\"1\" class=\"dataframe\">\n",
       "  <thead>\n",
       "    <tr style=\"text-align: right;\">\n",
       "      <th></th>\n",
       "      <th>Are you self-employed?</th>\n",
       "      <th>How many employees does your company or organization have?</th>\n",
       "      <th>Is your employer primarily a tech company/organization?</th>\n",
       "      <th>Is your primary role within your company related to tech/IT?</th>\n",
       "      <th>Does your employer provide mental health benefits as part of healthcare coverage?</th>\n",
       "      <th>Do you know the options for mental health care available under your employer-provided coverage?</th>\n",
       "      <th>Has your employer ever formally discussed mental health (for example, as part of a wellness campaign or other official communication)?</th>\n",
       "      <th>Does your employer offer resources to learn more about mental health concerns and options for seeking help?</th>\n",
       "      <th>Is your anonymity protected if you choose to take advantage of mental health or substance abuse treatment resources provided by your employer?</th>\n",
       "      <th>If a mental health issue prompted you to request a medical leave from work, asking for that leave would be:</th>\n",
       "      <th>Do you think that discussing a mental health disorder with your employer would have negative consequences?</th>\n",
       "      <th>Do you think that discussing a physical health issue with your employer would have negative consequences?</th>\n",
       "      <th>Would you feel comfortable discussing a mental health disorder with your coworkers?</th>\n",
       "      <th>Would you feel comfortable discussing a mental health disorder with your direct supervisor(s)?</th>\n",
       "      <th>Do you feel that your employer takes mental health as seriously as physical health?</th>\n",
       "      <th>Have you heard of or observed negative consequences for co-workers who have been open about mental health issues in your workplace?</th>\n",
       "      <th>Do you have medical coverage (private insurance or state-provided) which includes treatment of  mental health issues?</th>\n",
       "      <th>Do you know local or online resources to seek help for a mental health disorder?</th>\n",
       "      <th>If you have been diagnosed or treated for a mental health disorder, do you ever reveal this to clients or business contacts?</th>\n",
       "      <th>If you have revealed a mental health issue to a client or business contact, do you believe this has impacted you negatively?</th>\n",
       "      <th>If you have been diagnosed or treated for a mental health disorder, do you ever reveal this to coworkers or employees?</th>\n",
       "      <th>If you have revealed a mental health issue to a coworker or employee, do you believe this has impacted you negatively?</th>\n",
       "      <th>Do you believe your productivity is ever affected by a mental health issue?</th>\n",
       "      <th>If yes, what percentage of your work time (time performing primary or secondary job functions) is affected by a mental health issue?</th>\n",
       "      <th>Do you have previous employers?</th>\n",
       "      <th>Have your previous employers provided mental health benefits?</th>\n",
       "      <th>Were you aware of the options for mental health care provided by your previous employers?</th>\n",
       "      <th>Did your previous employers ever formally discuss mental health (as part of a wellness campaign or other official communication)?</th>\n",
       "      <th>Did your previous employers provide resources to learn more about mental health issues and how to seek help?</th>\n",
       "      <th>Was your anonymity protected if you chose to take advantage of mental health or substance abuse treatment resources with previous employers?</th>\n",
       "      <th>Do you think that discussing a mental health disorder with previous employers would have negative consequences?</th>\n",
       "      <th>Do you think that discussing a physical health issue with previous employers would have negative consequences?</th>\n",
       "      <th>Would you have been willing to discuss a mental health issue with your previous co-workers?</th>\n",
       "      <th>Would you have been willing to discuss a mental health issue with your direct supervisor(s)?</th>\n",
       "      <th>Did you feel that your previous employers took mental health as seriously as physical health?</th>\n",
       "      <th>Did you hear of or observe negative consequences for co-workers with mental health issues in your previous workplaces?</th>\n",
       "      <th>Would you be willing to bring up a physical health issue with a potential employer in an interview?</th>\n",
       "      <th>Why or why not?</th>\n",
       "      <th>Would you bring up a mental health issue with a potential employer in an interview?</th>\n",
       "      <th>Why or why not?.1</th>\n",
       "      <th>Do you feel that being identified as a person with a mental health issue would hurt your career?</th>\n",
       "      <th>Do you think that team members/co-workers would view you more negatively if they knew you suffered from a mental health issue?</th>\n",
       "      <th>How willing would you be to share with friends and family that you have a mental illness?</th>\n",
       "      <th>Have you observed or experienced an unsupportive or badly handled response to a mental health issue in your current or previous workplace?</th>\n",
       "      <th>Have your observations of how another individual who discussed a mental health disorder made you less likely to reveal a mental health issue yourself in your current workplace?</th>\n",
       "      <th>Do you have a family history of mental illness?</th>\n",
       "      <th>Have you had a mental health disorder in the past?</th>\n",
       "      <th>Do you currently have a mental health disorder?</th>\n",
       "      <th>If yes, what condition(s) have you been diagnosed with?</th>\n",
       "      <th>If maybe, what condition(s) do you believe you have?</th>\n",
       "      <th>Have you been diagnosed with a mental health condition by a medical professional?</th>\n",
       "      <th>If so, what condition(s) were you diagnosed with?</th>\n",
       "      <th>Have you ever sought treatment for a mental health issue from a mental health professional?</th>\n",
       "      <th>If you have a mental health issue, do you feel that it interferes with your work when being treated effectively?</th>\n",
       "      <th>If you have a mental health issue, do you feel that it interferes with your work when NOT being treated effectively?</th>\n",
       "      <th>What is your age?</th>\n",
       "      <th>What is your gender?</th>\n",
       "      <th>What country do you live in?</th>\n",
       "      <th>What US state or territory do you live in?</th>\n",
       "      <th>What country do you work in?</th>\n",
       "      <th>What US state or territory do you work in?</th>\n",
       "      <th>Which of the following best describes your work position?</th>\n",
       "      <th>Do you work remotely?</th>\n",
       "    </tr>\n",
       "  </thead>\n",
       "  <tbody>\n",
       "    <tr>\n",
       "      <th>0</th>\n",
       "      <td>0</td>\n",
       "      <td>26-100</td>\n",
       "      <td>1.0</td>\n",
       "      <td>NaN</td>\n",
       "      <td>Not eligible for coverage / N/A</td>\n",
       "      <td>NaN</td>\n",
       "      <td>No</td>\n",
       "      <td>No</td>\n",
       "      <td>I don't know</td>\n",
       "      <td>Very easy</td>\n",
       "      <td>No</td>\n",
       "      <td>No</td>\n",
       "      <td>Maybe</td>\n",
       "      <td>Yes</td>\n",
       "      <td>I don't know</td>\n",
       "      <td>No</td>\n",
       "      <td>NaN</td>\n",
       "      <td>NaN</td>\n",
       "      <td>NaN</td>\n",
       "      <td>NaN</td>\n",
       "      <td>NaN</td>\n",
       "      <td>NaN</td>\n",
       "      <td>NaN</td>\n",
       "      <td>NaN</td>\n",
       "      <td>1</td>\n",
       "      <td>No, none did</td>\n",
       "      <td>N/A (not currently aware)</td>\n",
       "      <td>I don't know</td>\n",
       "      <td>None did</td>\n",
       "      <td>I don't know</td>\n",
       "      <td>Some of them</td>\n",
       "      <td>None of them</td>\n",
       "      <td>Some of my previous employers</td>\n",
       "      <td>Some of my previous employers</td>\n",
       "      <td>I don't know</td>\n",
       "      <td>None of them</td>\n",
       "      <td>Maybe</td>\n",
       "      <td>NaN</td>\n",
       "      <td>Maybe</td>\n",
       "      <td>NaN</td>\n",
       "      <td>Maybe</td>\n",
       "      <td>No, I don't think they would</td>\n",
       "      <td>Somewhat open</td>\n",
       "      <td>No</td>\n",
       "      <td>NaN</td>\n",
       "      <td>No</td>\n",
       "      <td>Yes</td>\n",
       "      <td>No</td>\n",
       "      <td>NaN</td>\n",
       "      <td>NaN</td>\n",
       "      <td>Yes</td>\n",
       "      <td>Anxiety Disorder (Generalized, Social, Phobia,...</td>\n",
       "      <td>0</td>\n",
       "      <td>Not applicable to me</td>\n",
       "      <td>Not applicable to me</td>\n",
       "      <td>39</td>\n",
       "      <td>Male</td>\n",
       "      <td>United Kingdom</td>\n",
       "      <td>NaN</td>\n",
       "      <td>United Kingdom</td>\n",
       "      <td>NaN</td>\n",
       "      <td>Back-end Developer</td>\n",
       "      <td>Sometimes</td>\n",
       "    </tr>\n",
       "    <tr>\n",
       "      <th>1</th>\n",
       "      <td>0</td>\n",
       "      <td>6-25</td>\n",
       "      <td>1.0</td>\n",
       "      <td>NaN</td>\n",
       "      <td>No</td>\n",
       "      <td>Yes</td>\n",
       "      <td>Yes</td>\n",
       "      <td>Yes</td>\n",
       "      <td>Yes</td>\n",
       "      <td>Somewhat easy</td>\n",
       "      <td>No</td>\n",
       "      <td>No</td>\n",
       "      <td>Maybe</td>\n",
       "      <td>Yes</td>\n",
       "      <td>Yes</td>\n",
       "      <td>No</td>\n",
       "      <td>NaN</td>\n",
       "      <td>NaN</td>\n",
       "      <td>NaN</td>\n",
       "      <td>NaN</td>\n",
       "      <td>NaN</td>\n",
       "      <td>NaN</td>\n",
       "      <td>NaN</td>\n",
       "      <td>NaN</td>\n",
       "      <td>1</td>\n",
       "      <td>Yes, they all did</td>\n",
       "      <td>I was aware of some</td>\n",
       "      <td>None did</td>\n",
       "      <td>Some did</td>\n",
       "      <td>Yes, always</td>\n",
       "      <td>None of them</td>\n",
       "      <td>None of them</td>\n",
       "      <td>No, at none of my previous employers</td>\n",
       "      <td>Some of my previous employers</td>\n",
       "      <td>Some did</td>\n",
       "      <td>None of them</td>\n",
       "      <td>Maybe</td>\n",
       "      <td>It would depend on the health issue. If there ...</td>\n",
       "      <td>No</td>\n",
       "      <td>While mental health has become a more prominen...</td>\n",
       "      <td>No, I don't think it would</td>\n",
       "      <td>No, I don't think they would</td>\n",
       "      <td>Somewhat open</td>\n",
       "      <td>No</td>\n",
       "      <td>NaN</td>\n",
       "      <td>Yes</td>\n",
       "      <td>Yes</td>\n",
       "      <td>Yes</td>\n",
       "      <td>Anxiety Disorder (Generalized, Social, Phobia,...</td>\n",
       "      <td>NaN</td>\n",
       "      <td>Yes</td>\n",
       "      <td>Anxiety Disorder (Generalized, Social, Phobia,...</td>\n",
       "      <td>1</td>\n",
       "      <td>Rarely</td>\n",
       "      <td>Sometimes</td>\n",
       "      <td>29</td>\n",
       "      <td>male</td>\n",
       "      <td>United States of America</td>\n",
       "      <td>Illinois</td>\n",
       "      <td>United States of America</td>\n",
       "      <td>Illinois</td>\n",
       "      <td>Back-end Developer|Front-end Developer</td>\n",
       "      <td>Never</td>\n",
       "    </tr>\n",
       "    <tr>\n",
       "      <th>2</th>\n",
       "      <td>0</td>\n",
       "      <td>6-25</td>\n",
       "      <td>1.0</td>\n",
       "      <td>NaN</td>\n",
       "      <td>No</td>\n",
       "      <td>NaN</td>\n",
       "      <td>No</td>\n",
       "      <td>No</td>\n",
       "      <td>I don't know</td>\n",
       "      <td>Neither easy nor difficult</td>\n",
       "      <td>Maybe</td>\n",
       "      <td>No</td>\n",
       "      <td>Maybe</td>\n",
       "      <td>Maybe</td>\n",
       "      <td>I don't know</td>\n",
       "      <td>No</td>\n",
       "      <td>NaN</td>\n",
       "      <td>NaN</td>\n",
       "      <td>NaN</td>\n",
       "      <td>NaN</td>\n",
       "      <td>NaN</td>\n",
       "      <td>NaN</td>\n",
       "      <td>NaN</td>\n",
       "      <td>NaN</td>\n",
       "      <td>1</td>\n",
       "      <td>No, none did</td>\n",
       "      <td>N/A (not currently aware)</td>\n",
       "      <td>None did</td>\n",
       "      <td>Some did</td>\n",
       "      <td>I don't know</td>\n",
       "      <td>I don't know</td>\n",
       "      <td>Some of them</td>\n",
       "      <td>Some of my previous employers</td>\n",
       "      <td>I don't know</td>\n",
       "      <td>I don't know</td>\n",
       "      <td>Some of them</td>\n",
       "      <td>Yes</td>\n",
       "      <td>They would provable need to know, to Judge if ...</td>\n",
       "      <td>Yes</td>\n",
       "      <td>Stigma, mainly.</td>\n",
       "      <td>Maybe</td>\n",
       "      <td>Maybe</td>\n",
       "      <td>Somewhat open</td>\n",
       "      <td>Maybe/Not sure</td>\n",
       "      <td>Yes</td>\n",
       "      <td>No</td>\n",
       "      <td>Maybe</td>\n",
       "      <td>No</td>\n",
       "      <td>NaN</td>\n",
       "      <td>NaN</td>\n",
       "      <td>No</td>\n",
       "      <td>NaN</td>\n",
       "      <td>1</td>\n",
       "      <td>Not applicable to me</td>\n",
       "      <td>Not applicable to me</td>\n",
       "      <td>38</td>\n",
       "      <td>Male</td>\n",
       "      <td>United Kingdom</td>\n",
       "      <td>NaN</td>\n",
       "      <td>United Kingdom</td>\n",
       "      <td>NaN</td>\n",
       "      <td>Back-end Developer</td>\n",
       "      <td>Always</td>\n",
       "    </tr>\n",
       "    <tr>\n",
       "      <th>3</th>\n",
       "      <td>1</td>\n",
       "      <td>NaN</td>\n",
       "      <td>NaN</td>\n",
       "      <td>NaN</td>\n",
       "      <td>NaN</td>\n",
       "      <td>NaN</td>\n",
       "      <td>NaN</td>\n",
       "      <td>NaN</td>\n",
       "      <td>NaN</td>\n",
       "      <td>NaN</td>\n",
       "      <td>NaN</td>\n",
       "      <td>NaN</td>\n",
       "      <td>NaN</td>\n",
       "      <td>NaN</td>\n",
       "      <td>NaN</td>\n",
       "      <td>NaN</td>\n",
       "      <td>1.0</td>\n",
       "      <td>Yes, I know several</td>\n",
       "      <td>Sometimes, if it comes up</td>\n",
       "      <td>I'm not sure</td>\n",
       "      <td>Sometimes, if it comes up</td>\n",
       "      <td>I'm not sure</td>\n",
       "      <td>Yes</td>\n",
       "      <td>1-25%</td>\n",
       "      <td>1</td>\n",
       "      <td>Some did</td>\n",
       "      <td>N/A (not currently aware)</td>\n",
       "      <td>None did</td>\n",
       "      <td>None did</td>\n",
       "      <td>I don't know</td>\n",
       "      <td>Some of them</td>\n",
       "      <td>Some of them</td>\n",
       "      <td>Some of my previous employers</td>\n",
       "      <td>Some of my previous employers</td>\n",
       "      <td>I don't know</td>\n",
       "      <td>Some of them</td>\n",
       "      <td>Yes</td>\n",
       "      <td>old back injury, doesn't cause me many issues ...</td>\n",
       "      <td>Maybe</td>\n",
       "      <td>would not if I was not 100% sure that the disc...</td>\n",
       "      <td>Yes, I think it would</td>\n",
       "      <td>Maybe</td>\n",
       "      <td>Neutral</td>\n",
       "      <td>No</td>\n",
       "      <td>NaN</td>\n",
       "      <td>No</td>\n",
       "      <td>Yes</td>\n",
       "      <td>Yes</td>\n",
       "      <td>Anxiety Disorder (Generalized, Social, Phobia,...</td>\n",
       "      <td>NaN</td>\n",
       "      <td>Yes</td>\n",
       "      <td>Anxiety Disorder (Generalized, Social, Phobia,...</td>\n",
       "      <td>1</td>\n",
       "      <td>Sometimes</td>\n",
       "      <td>Sometimes</td>\n",
       "      <td>43</td>\n",
       "      <td>male</td>\n",
       "      <td>United Kingdom</td>\n",
       "      <td>NaN</td>\n",
       "      <td>United Kingdom</td>\n",
       "      <td>NaN</td>\n",
       "      <td>Supervisor/Team Lead</td>\n",
       "      <td>Sometimes</td>\n",
       "    </tr>\n",
       "    <tr>\n",
       "      <th>4</th>\n",
       "      <td>0</td>\n",
       "      <td>6-25</td>\n",
       "      <td>0.0</td>\n",
       "      <td>1.0</td>\n",
       "      <td>Yes</td>\n",
       "      <td>Yes</td>\n",
       "      <td>No</td>\n",
       "      <td>No</td>\n",
       "      <td>No</td>\n",
       "      <td>Neither easy nor difficult</td>\n",
       "      <td>Yes</td>\n",
       "      <td>Maybe</td>\n",
       "      <td>Maybe</td>\n",
       "      <td>No</td>\n",
       "      <td>No</td>\n",
       "      <td>No</td>\n",
       "      <td>NaN</td>\n",
       "      <td>NaN</td>\n",
       "      <td>NaN</td>\n",
       "      <td>NaN</td>\n",
       "      <td>NaN</td>\n",
       "      <td>NaN</td>\n",
       "      <td>NaN</td>\n",
       "      <td>NaN</td>\n",
       "      <td>1</td>\n",
       "      <td>I don't know</td>\n",
       "      <td>N/A (not currently aware)</td>\n",
       "      <td>Some did</td>\n",
       "      <td>None did</td>\n",
       "      <td>I don't know</td>\n",
       "      <td>Some of them</td>\n",
       "      <td>Some of them</td>\n",
       "      <td>No, at none of my previous employers</td>\n",
       "      <td>Some of my previous employers</td>\n",
       "      <td>Some did</td>\n",
       "      <td>Some of them</td>\n",
       "      <td>Maybe</td>\n",
       "      <td>Depending on the interview stage and whether I...</td>\n",
       "      <td>No</td>\n",
       "      <td>I don't know</td>\n",
       "      <td>Yes, I think it would</td>\n",
       "      <td>Maybe</td>\n",
       "      <td>Somewhat open</td>\n",
       "      <td>Yes, I experienced</td>\n",
       "      <td>Yes</td>\n",
       "      <td>Yes</td>\n",
       "      <td>Yes</td>\n",
       "      <td>Yes</td>\n",
       "      <td>Anxiety Disorder (Generalized, Social, Phobia,...</td>\n",
       "      <td>NaN</td>\n",
       "      <td>Yes</td>\n",
       "      <td>Anxiety Disorder (Generalized, Social, Phobia,...</td>\n",
       "      <td>1</td>\n",
       "      <td>Sometimes</td>\n",
       "      <td>Sometimes</td>\n",
       "      <td>43</td>\n",
       "      <td>Female</td>\n",
       "      <td>United States of America</td>\n",
       "      <td>Illinois</td>\n",
       "      <td>United States of America</td>\n",
       "      <td>Illinois</td>\n",
       "      <td>Executive Leadership|Supervisor/Team Lead|Dev ...</td>\n",
       "      <td>Sometimes</td>\n",
       "    </tr>\n",
       "  </tbody>\n",
       "</table>\n",
       "</div>"
      ],
      "text/plain": [
       "   Are you self-employed?  ... Do you work remotely?\n",
       "0                       0  ...             Sometimes\n",
       "1                       0  ...                 Never\n",
       "2                       0  ...                Always\n",
       "3                       1  ...             Sometimes\n",
       "4                       0  ...             Sometimes\n",
       "\n",
       "[5 rows x 63 columns]"
      ]
     },
     "execution_count": 5,
     "metadata": {},
     "output_type": "execute_result"
    }
   ],
   "source": [
    "df_survey.head()"
   ]
  },
  {
   "cell_type": "markdown",
   "metadata": {
    "id": "M10tAsS4yiwW"
   },
   "source": [
    "#### **Renaming the columns**"
   ]
  },
  {
   "cell_type": "markdown",
   "metadata": {
    "id": "SZXZrMFokngi"
   },
   "source": [
    "\n",
    "We see the columns names as the questions submitted with respect to the survey conducted. This makes it really difficult to understand and process the data in python. Hence, we must rename the columns for accessibility and comprehension before proceeding."
   ]
  },
  {
   "cell_type": "code",
   "execution_count": null,
   "metadata": {
    "colab": {
     "base_uri": "https://localhost:8080/"
    },
    "id": "hBNY3aDU_gM7",
    "outputId": "d404924e-e05b-4444-8c53-337e4675d164"
   },
   "outputs": [
    {
     "data": {
      "text/plain": [
       "Index(['Are you self-employed?',\n",
       "       'How many employees does your company or organization have?',\n",
       "       'Is your employer primarily a tech company/organization?',\n",
       "       'Is your primary role within your company related to tech/IT?',\n",
       "       'Does your employer provide mental health benefits as part of healthcare coverage?',\n",
       "       'Do you know the options for mental health care available under your employer-provided coverage?',\n",
       "       'Has your employer ever formally discussed mental health (for example, as part of a wellness campaign or other official communication)?',\n",
       "       'Does your employer offer resources to learn more about mental health concerns and options for seeking help?',\n",
       "       'Is your anonymity protected if you choose to take advantage of mental health or substance abuse treatment resources provided by your employer?',\n",
       "       'If a mental health issue prompted you to request a medical leave from work, asking for that leave would be:',\n",
       "       'Do you think that discussing a mental health disorder with your employer would have negative consequences?',\n",
       "       'Do you think that discussing a physical health issue with your employer would have negative consequences?',\n",
       "       'Would you feel comfortable discussing a mental health disorder with your coworkers?',\n",
       "       'Would you feel comfortable discussing a mental health disorder with your direct supervisor(s)?',\n",
       "       'Do you feel that your employer takes mental health as seriously as physical health?',\n",
       "       'Have you heard of or observed negative consequences for co-workers who have been open about mental health issues in your workplace?',\n",
       "       'Do you have medical coverage (private insurance or state-provided) which includes treatment of  mental health issues?',\n",
       "       'Do you know local or online resources to seek help for a mental health disorder?',\n",
       "       'If you have been diagnosed or treated for a mental health disorder, do you ever reveal this to clients or business contacts?',\n",
       "       'If you have revealed a mental health issue to a client or business contact, do you believe this has impacted you negatively?',\n",
       "       'If you have been diagnosed or treated for a mental health disorder, do you ever reveal this to coworkers or employees?',\n",
       "       'If you have revealed a mental health issue to a coworker or employee, do you believe this has impacted you negatively?',\n",
       "       'Do you believe your productivity is ever affected by a mental health issue?',\n",
       "       'If yes, what percentage of your work time (time performing primary or secondary job functions) is affected by a mental health issue?',\n",
       "       'Do you have previous employers?',\n",
       "       'Have your previous employers provided mental health benefits?',\n",
       "       'Were you aware of the options for mental health care provided by your previous employers?',\n",
       "       'Did your previous employers ever formally discuss mental health (as part of a wellness campaign or other official communication)?',\n",
       "       'Did your previous employers provide resources to learn more about mental health issues and how to seek help?',\n",
       "       'Was your anonymity protected if you chose to take advantage of mental health or substance abuse treatment resources with previous employers?',\n",
       "       'Do you think that discussing a mental health disorder with previous employers would have negative consequences?',\n",
       "       'Do you think that discussing a physical health issue with previous employers would have negative consequences?',\n",
       "       'Would you have been willing to discuss a mental health issue with your previous co-workers?',\n",
       "       'Would you have been willing to discuss a mental health issue with your direct supervisor(s)?',\n",
       "       'Did you feel that your previous employers took mental health as seriously as physical health?',\n",
       "       'Did you hear of or observe negative consequences for co-workers with mental health issues in your previous workplaces?',\n",
       "       'Would you be willing to bring up a physical health issue with a potential employer in an interview?',\n",
       "       'Why or why not?',\n",
       "       'Would you bring up a mental health issue with a potential employer in an interview?',\n",
       "       'Why or why not?.1',\n",
       "       'Do you feel that being identified as a person with a mental health issue would hurt your career?',\n",
       "       'Do you think that team members/co-workers would view you more negatively if they knew you suffered from a mental health issue?',\n",
       "       'How willing would you be to share with friends and family that you have a mental illness?',\n",
       "       'Have you observed or experienced an unsupportive or badly handled response to a mental health issue in your current or previous workplace?',\n",
       "       'Have your observations of how another individual who discussed a mental health disorder made you less likely to reveal a mental health issue yourself in your current workplace?',\n",
       "       'Do you have a family history of mental illness?',\n",
       "       'Have you had a mental health disorder in the past?',\n",
       "       'Do you currently have a mental health disorder?',\n",
       "       'If yes, what condition(s) have you been diagnosed with?',\n",
       "       'If maybe, what condition(s) do you believe you have?',\n",
       "       'Have you been diagnosed with a mental health condition by a medical professional?',\n",
       "       'If so, what condition(s) were you diagnosed with?',\n",
       "       'Have you ever sought treatment for a mental health issue from a mental health professional?',\n",
       "       'If you have a mental health issue, do you feel that it interferes with your work when being treated effectively?',\n",
       "       'If you have a mental health issue, do you feel that it interferes with your work when NOT being treated effectively?',\n",
       "       'What is your age?', 'What is your gender?',\n",
       "       'What country do you live in?',\n",
       "       'What US state or territory do you live in?',\n",
       "       'What country do you work in?',\n",
       "       'What US state or territory do you work in?',\n",
       "       'Which of the following best describes your work position?',\n",
       "       'Do you work remotely?'],\n",
       "      dtype='object')"
      ]
     },
     "execution_count": 6,
     "metadata": {},
     "output_type": "execute_result"
    }
   ],
   "source": [
    "# listing all the column names\n",
    "df_survey.columns"
   ]
  },
  {
   "cell_type": "markdown",
   "metadata": {
    "id": "9xJP442IrxKm"
   },
   "source": [
    "We would use following table to associate survey questions with the column names in `Pandas Data Frame`"
   ]
  },
  {
   "cell_type": "markdown",
   "metadata": {
    "id": "-3IchhVaiMKX"
   },
   "source": [
    "<table style=\"border-collapse:\n",
    " collapse;table-layout:fixed;width:588pt\" width=\"784\" cellspacing=\"0\" cellpadding=\"0\" border=\"0\">\n",
    " <colgroup><col class=\"xl69\" style=\"mso-width-source:userset;mso-width-alt:18147;\n",
    " width:383pt\" width=\"510\">\n",
    " <col style=\"mso-width-source:userset;mso-width-alt:9728;width:205pt\" width=\"274\">\n",
    " </colgroup><tbody>\n",
    " <tr style=\"height:15.6pt\" height=\"21\">\n",
    "  <td class=\"xl65\" style=\"height:15.6pt;width:383pt\" width=\"510\" height=\"21\"><center>Survey\n",
    "  Questions</center></td>\n",
    "  <td class=\"xl66\" style=\"border-left:none;width:205pt\" width=\"274\"><center>Column Names</center></td>\n",
    " </tr>\n",
    " <tr style=\"height:14.4pt\" height=\"19\">\n",
    "  <td class=\"xl67\" style=\"height:14.4pt;word-wrap: break-word;border-top:none;\n",
    "  width:383pt\" width=\"510\" height=\"19\">Are you self-employed?</td>\n",
    "  <td class=\"xl68\" style=\"border-top:none;border-left:none\">self_employed</td>\n",
    " </tr>\n",
    " <tr style=\"height:14.4pt\" height=\"19\">\n",
    "  <td class=\"xl67\" style=\"height:14.4pt;word-wrap: break-word;border-top:none;\n",
    "  width:383pt\" width=\"510\" height=\"19\">How many employees does your company or organization have?</td>\n",
    "  <td class=\"xl68\" style=\"border-top:none;border-left:none\">no_of_employees</td>\n",
    " </tr>\n",
    " <tr style=\"height:14.4pt\" height=\"19\">\n",
    "  <td class=\"xl67\" style=\"height:14.4pt;word-wrap: break-word;border-top:none;\n",
    "  width:383pt\" width=\"510\" height=\"19\">Is your employer primarily a tech company/organization?</td>\n",
    "  <td class=\"xl68\" style=\"border-top:none;border-left:none\">tech_comp</td>\n",
    " </tr>\n",
    " <tr style=\"height:14.4pt\" height=\"19\">\n",
    "  <td class=\"xl67\" style=\"height:14.4pt;word-wrap: break-word;border-top:none;\n",
    "  width:383pt\" width=\"510\" height=\"19\">Is your primary role within your company related to tech/IT?</td>\n",
    "  <td class=\"xl68\" style=\"border-top:none;border-left:none\">tech_role_IT</td>\n",
    " </tr>\n",
    " <tr style=\"height:14.4pt\" height=\"19\">\n",
    "  <td class=\"xl67\" style=\"height:14.4pt;word-wrap: break-word;border-top:none;\n",
    "  width:383pt\" width=\"510\" height=\"19\">Does your employer provide mental health benefits as part of\n",
    "  healthcare coverage?</td>\n",
    "  <td class=\"xl68\" style=\"border-top:none;border-left:none\">mh_coverage_benefits</td>\n",
    " </tr>\n",
    " <tr style=\"height:14.4pt\" height=\"19\">\n",
    "  <td class=\"xl67\" style=\"height:14.4pt;word-wrap: break-word;border-top:none;\n",
    "  width:383pt\" width=\"510\" height=\"19\">Do you know the options for mental health care available under\n",
    "  your employer-provided coverage?</td>\n",
    "  <td class=\"xl68\" style=\"border-top:none;border-left:none\">mh_avail_options</td>\n",
    " </tr>\n",
    " <tr style=\"height:28.8pt\" height=\"38\">\n",
    "  <td class=\"xl67\" style=\"height:28.8pt;border-top:none;\n",
    "  width:383pt\" width=\"510\" height=\"38\">Has your employer ever formally discussed mental health (for\n",
    "  example, as part of a wellness campaign or other official communication)?</td>\n",
    "  <td class=\"xl68\" style=\"border-top:none;border-left:none\">mh_employer_discussion</td>\n",
    " </tr>\n",
    " <tr style=\"height:14.4pt\" height=\"19\">\n",
    "  <td class=\"xl67\" style=\"height:14.4pt;word-wrap: break-word;border-top:none;\n",
    "  width:383pt\" width=\"510\" height=\"19\">Does your employer offer resources to learn more about mental\n",
    "  health concerns and options for seeking help?</td>\n",
    "  <td class=\"xl68\" style=\"border-top:none;border-left:none\">mh_resources_provided</td>\n",
    " </tr>\n",
    " <tr style=\"height:28.8pt\" height=\"38\">\n",
    "  <td class=\"xl67\" style=\"height:28.8pt;border-top:none;\n",
    "  width:383pt\" width=\"510\" height=\"38\">Is your anonymity protected if you choose to take advantage of\n",
    "  mental health or substance abuse treatment resources provided by your\n",
    "  employer?</td>\n",
    "  <td class=\"xl68\" style=\"border-top:none;border-left:none\">mh_anonimity_proctected</td>\n",
    " </tr>\n",
    " <tr style=\"height:14.4pt\" height=\"19\">\n",
    "  <td class=\"xl67\" style=\"height:14.4pt;word-wrap: break-word;border-top:none;\n",
    "  width:383pt\" width=\"510\" height=\"19\">If a mental health issue prompted you to request a medical leave\n",
    "  from work, asking for that leave would be:</td>\n",
    "  <td class=\"xl68\" style=\"border-top:none;border-left:none\">mh_leave</td>\n",
    " </tr>\n",
    " <tr style=\"height:14.4pt\" height=\"19\">\n",
    "  <td class=\"xl67\" style=\"height:14.4pt;word-wrap: break-word;border-top:none;\n",
    "  width:383pt\" width=\"510\" height=\"19\">Do you think that discussing a mental health disorder with your\n",
    "  employer would have negative consequences?</td>\n",
    "  <td class=\"xl68\" style=\"border-top:none;border-left:none\">mh_emp_discussion_neg_conseq</td>\n",
    " </tr>\n",
    " <tr style=\"height:14.4pt\" height=\"19\">\n",
    "  <td class=\"xl67\" style=\"height:14.4pt;word-wrap: break-word;border-top:none;\n",
    "  width:383pt\" width=\"510\" height=\"19\">Do you think that discussing a physical health issue with your\n",
    "  employer would have negative consequences?</td>\n",
    "  <td class=\"xl68\" style=\"border-top:none;border-left:none\">ph_emp_discussion_neg_conseq</td>\n",
    " </tr>\n",
    " <tr style=\"height:14.4pt\" height=\"19\">\n",
    "  <td class=\"xl67\" style=\"height:14.4pt;word-wrap: break-word;border-top:none;\n",
    "  width:383pt\" width=\"510\" height=\"19\">Would you feel comfortable discussing a mental health disorder\n",
    "  with your coworkers?</td>\n",
    "  <td class=\"xl68\" style=\"border-top:none;border-left:none\">mh_discussion_cowork</td>\n",
    " </tr>\n",
    " <tr style=\"height:14.4pt\" height=\"19\">\n",
    "  <td class=\"xl67\" style=\"height:14.4pt;word-wrap: break-word;border-top:none;\n",
    "  width:383pt\" width=\"510\" height=\"19\">Would you feel comfortable discussing a mental health disorder\n",
    "  with your direct supervisor(s)?</td>\n",
    "  <td class=\"xl68\" style=\"border-top:none;border-left:none\">mh_discussion_dirsuperv</td>\n",
    " </tr>\n",
    " <tr style=\"height:14.4pt\" height=\"19\">\n",
    "  <td class=\"xl67\" style=\"height:14.4pt;word-wrap: break-word;border-top:none;\n",
    "  width:383pt\" width=\"510\" height=\"19\">Do you feel that your employer takes mental health as seriously\n",
    "  as physical health?</td>\n",
    "  <td class=\"xl68\" style=\"border-top:none;border-left:none\">mh_as_serious_as_ph_employer</td>\n",
    " </tr>\n",
    " <tr style=\"height:28.8pt\" height=\"38\">\n",
    "  <td class=\"xl67\" style=\"height:28.8pt;border-top:none;\n",
    "  width:383pt\" width=\"510\" height=\"38\">Have you heard of or observed negative consequences for\n",
    "  co-workers who have been open about mental health issues in your workplace?</td>\n",
    "  <td class=\"xl68\" style=\"border-top:none;border-left:none\">mh_obv_neg_conseq_coworkers</td>\n",
    " </tr>\n",
    " <tr style=\"height:28.8pt\" height=\"38\">\n",
    "  <td class=\"xl67\" style=\"height:28.8pt;border-top:none;\n",
    "  width:383pt\" width=\"510\" height=\"38\">Do you have medical coverage (private insurance or\n",
    "  state-provided) which includes treatment of Â&nbsp;mental health issues?</td>\n",
    "  <td class=\"xl68\" style=\"border-top:none;border-left:none\">mh_medical_coverage</td>\n",
    " </tr>\n",
    " <tr style=\"height:14.4pt\" height=\"19\">\n",
    "  <td class=\"xl67\" style=\"height:14.4pt;word-wrap: break-word;border-top:none;\n",
    "  width:383pt\" width=\"510\" height=\"19\">Do you know local or online resources to seek help for a mental\n",
    "  health disorder?</td>\n",
    "  <td class=\"xl68\" style=\"border-top:none;border-left:none\">mh_seek_help_loc_onl_resources</td>\n",
    " </tr>\n",
    " <tr style=\"height:28.8pt\" height=\"38\">\n",
    "  <td class=\"xl67\" style=\"height:28.8pt;border-top:none;\n",
    "  width:383pt\" width=\"510\" height=\"38\">If you have been diagnosed or treated for a mental health\n",
    "  disorder, do you ever reveal this to clients or business contacts?</td>\n",
    "  <td class=\"xl68\" style=\"border-top:none;border-left:none\">mh_diag_reveal_to_clients</td>\n",
    " </tr>\n",
    " <tr style=\"height:28.8pt\" height=\"38\">\n",
    "  <td class=\"xl67\" style=\"height:28.8pt;border-top:none;\n",
    "  width:383pt\" width=\"510\" height=\"38\">If you have revealed a mental health issue to a client or\n",
    "  business contact, do you believe this has impacted you negatively?</td>\n",
    "  <td class=\"xl68\" style=\"border-top:none;border-left:none\">mh_diag_reveal_to_clients_impact</td>\n",
    " </tr>\n",
    " <tr style=\"height:28.8pt\" height=\"38\">\n",
    "  <td class=\"xl67\" style=\"height:28.8pt;border-top:none;\n",
    "  width:383pt\" width=\"510\" height=\"38\">If you have been diagnosed or treated for a mental health\n",
    "  disorder, do you ever reveal this to coworkers or employees?</td>\n",
    "  <td class=\"xl68\" style=\"border-top:none;border-left:none\">mh_diag_reveal_to_cowork</td>\n",
    " </tr>\n",
    " <tr style=\"height:28.8pt\" height=\"38\">\n",
    "  <td class=\"xl67\" style=\"height:28.8pt;border-top:none;\n",
    "  width:383pt\" width=\"510\" height=\"38\">If you have revealed a mental health issue to a coworker or\n",
    "  employee, do you believe this has impacted you negatively?</td>\n",
    "  <td class=\"xl68\" style=\"border-top:none;border-left:none\">mh_diag_reveal_to_cowork_impact</td>\n",
    " </tr>\n",
    " <tr style=\"height:14.4pt\" height=\"19\">\n",
    "  <td class=\"xl67\" style=\"height:14.4pt;word-wrap: break-word;border-top:none;\n",
    "  width:383pt\" width=\"510\" height=\"19\">Do you believe your productivity is ever affected by a mental\n",
    "  health issue?</td>\n",
    "  <td class=\"xl68\" style=\"border-top:none;border-left:none\">mh_productivity</td>\n",
    " </tr>\n",
    " <tr style=\"height:28.8pt\" height=\"38\">\n",
    "  <td class=\"xl67\" style=\"height:28.8pt;border-top:none;\n",
    "  width:383pt\" width=\"510\" height=\"38\">If yes, what percentage of your work time (time performing\n",
    "  primary or secondary job functions) is affected by a mental health issue?</td>\n",
    "  <td class=\"xl68\" style=\"border-top:none;border-left:none\">mh_work_impact</td>\n",
    " </tr>\n",
    " <tr style=\"height:14.4pt\" height=\"19\">\n",
    "  <td class=\"xl67\" style=\"height:14.4pt;word-wrap: break-word;border-top:none;\n",
    "  width:383pt\" width=\"510\" height=\"19\">Do you have previous employers?</td>\n",
    "  <td class=\"xl68\" style=\"border-top:none;border-left:none\">mh_prev_employer</td>\n",
    " </tr>\n",
    " <tr style=\"height:14.4pt\" height=\"19\">\n",
    "  <td class=\"xl67\" style=\"height:14.4pt;word-wrap: break-word;border-top:none;\n",
    "  width:383pt\" width=\"510\" height=\"19\">Have your previous employers provided mental health benefits?</td>\n",
    "  <td class=\"xl68\" style=\"border-top:none;border-left:none\">prev_mh_benefits</td>\n",
    " </tr>\n",
    " <tr style=\"height:14.4pt\" height=\"19\">\n",
    "  <td class=\"xl67\" style=\"height:14.4pt;word-wrap: break-word;border-top:none;\n",
    "  width:383pt\" width=\"510\" height=\"19\">Were you aware of the options for mental health care provided by\n",
    "  your previous employers?</td>\n",
    "  <td class=\"xl68\" style=\"border-top:none;border-left:none\">prev_mh_benefits_awareness</td>\n",
    " </tr>\n",
    " <tr style=\"height:28.8pt\" height=\"38\">\n",
    "  <td class=\"xl67\" style=\"height:28.8pt;border-top:none;\n",
    "  width:383pt\" width=\"510\" height=\"38\">Did your previous employers ever formally discuss mental health\n",
    "  (as part of a wellness campaign or other official communication)?</td>\n",
    "  <td class=\"xl68\" style=\"border-top:none;border-left:none\">prev_mh_discussion</td>\n",
    " </tr>\n",
    " <tr style=\"height:14.4pt\" height=\"19\">\n",
    "  <td class=\"xl67\" style=\"height:14.4pt;word-wrap: break-word;border-top:none;\n",
    "  width:383pt\" width=\"510\" height=\"19\">Did your previous employers provide resources to learn more\n",
    "  about mental health issues and how to seek help?</td>\n",
    "  <td class=\"xl68\" style=\"border-top:none;border-left:none\">prev_mh_resources_provided</td>\n",
    " </tr>\n",
    " <tr style=\"height:28.8pt\" height=\"38\">\n",
    "  <td class=\"xl67\" style=\"height:28.8pt;border-top:none;\n",
    "  width:383pt\" width=\"510\" height=\"38\">Was your anonymity protected if you chose to take advantage of\n",
    "  mental health or substance abuse treatment resources with previous employers?</td>\n",
    "  <td class=\"xl68\" style=\"border-top:none;border-left:none\">prev_mh_anonimity_protection</td>\n",
    " </tr>\n",
    " <tr style=\"height:28.8pt\" height=\"38\">\n",
    "  <td class=\"xl67\" style=\"height:28.8pt;border-top:none;\n",
    "  width:383pt\" width=\"510\" height=\"38\">Do you think that discussing a mental health disorder with\n",
    "  previous employers would have negative consequences?</td>\n",
    "  <td class=\"xl68\" style=\"border-top:none;border-left:none\">prev_mh_discussion_neg_conseq</td>\n",
    " </tr>\n",
    " <tr style=\"height:28.8pt\" height=\"38\">\n",
    "  <td class=\"xl67\" style=\"height:28.8pt;border-top:none;\n",
    "  width:383pt\" width=\"510\" height=\"38\">Do you think that discussing a physical health issue with\n",
    "  previous employers would have negative consequences?</td>\n",
    "  <td class=\"xl68\" style=\"border-top:none;border-left:none\">prev_ph_discussion_neg_conseq</td>\n",
    " </tr>\n",
    " <tr style=\"height:14.4pt\" height=\"19\">\n",
    "  <td class=\"xl67\" style=\"height:14.4pt;word-wrap: break-word;border-top:none;\n",
    "  width:383pt\" width=\"510\" height=\"19\">Would you have been willing to discuss a mental health issue\n",
    "  with your previous co-workers?</td>\n",
    "  <td class=\"xl68\" style=\"border-top:none;border-left:none\">prev_mh_discussion_cowork</td>\n",
    " </tr>\n",
    " <tr style=\"height:14.4pt\" height=\"19\">\n",
    "  <td class=\"xl67\" style=\"height:14.4pt;word-wrap: break-word;border-top:none;\n",
    "  width:383pt\" width=\"510\" height=\"19\">Would you have been willing to discuss a mental health issue\n",
    "  with your direct supervisor(s)?</td>\n",
    "  <td class=\"xl68\" style=\"border-top:none;border-left:none\">prev_mh_discussion_dir_superv</td>\n",
    " </tr>\n",
    " <tr style=\"height:14.4pt\" height=\"19\">\n",
    "  <td class=\"xl67\" style=\"height:14.4pt;word-wrap: break-word;border-top:none;\n",
    "  width:383pt\" width=\"510\" height=\"19\">Did you feel that your previous employers took mental health as\n",
    "  seriously as physical health?</td>\n",
    "  <td class=\"xl68\" style=\"border-top:none;border-left:none\">prev_mh_eq_ph_employer</td>\n",
    " </tr>\n",
    " <tr style=\"height:28.8pt\" height=\"38\">\n",
    "  <td class=\"xl67\" style=\"height:28.8pt;border-top:none;\n",
    "  width:383pt\" width=\"510\" height=\"38\">Did you hear of or observe negative consequences for co-workers\n",
    "  with mental health issues in your previous workplaces?</td>\n",
    "  <td class=\"xl68\" style=\"border-top:none;border-left:none\">prev_mh_conseq_coworkers</td>\n",
    " </tr>\n",
    " <tr style=\"height:14.4pt\" height=\"19\">\n",
    "  <td class=\"xl67\" style=\"height:14.4pt;word-wrap: break-word;border-top:none;\n",
    "  width:383pt\" width=\"510\" height=\"19\">Would you be willing to bring up a physical health issue with a\n",
    "  potential employer in an interview?</td>\n",
    "  <td class=\"xl68\" style=\"border-top:none;border-left:none\">ph_future_interview</td>\n",
    " </tr>\n",
    " <tr style=\"height:14.4pt\" height=\"19\">\n",
    "  <td class=\"xl67\" style=\"height:14.4pt;word-wrap: break-word;border-top:none;\n",
    "  width:383pt\" width=\"510\" height=\"19\">Why or why not?</td>\n",
    "  <td class=\"xl68\" style=\"border-top:none;border-left:none\">ph_future_interview_why_whynot</td>\n",
    " </tr>\n",
    " <tr style=\"height:14.4pt\" height=\"19\">\n",
    "  <td class=\"xl67\" style=\"height:14.4pt;word-wrap: break-word;border-top:none;\n",
    "  width:383pt\" width=\"510\" height=\"19\">Would you bring up a mental health issue with a potential\n",
    "  employer in an interview?</td>\n",
    "  <td class=\"xl68\" style=\"border-top:none;border-left:none\">mh_future_interview</td>\n",
    " </tr>\n",
    " <tr style=\"height:14.4pt\" height=\"19\">\n",
    "  <td class=\"xl67\" style=\"height:14.4pt;word-wrap: break-word;border-top:none;\n",
    "  width:383pt\" width=\"510\" height=\"19\">Why or why not?</td>\n",
    "  <td class=\"xl68\" style=\"border-top:none;border-left:none\">mh_future_interview_why_whynot</td>\n",
    " </tr>\n",
    " <tr style=\"height:14.4pt\" height=\"19\">\n",
    "  <td class=\"xl67\" style=\"height:14.4pt;word-wrap: break-word;border-top:none;\n",
    "  width:383pt\" width=\"510\" height=\"19\">Do you feel that being identified as a person with a mental\n",
    "  health issue would hurt your career?</td>\n",
    "  <td class=\"xl68\" style=\"border-top:none;border-left:none\">mh_hurt_your_career</td>\n",
    " </tr>\n",
    " <tr style=\"height:28.8pt\" height=\"38\">\n",
    "  <td class=\"xl67\" style=\"height:28.8pt;border-top:none;\n",
    "  width:383pt\" width=\"510\" height=\"38\">Do you think that team members/co-workers would view you more\n",
    "  negatively if they knew you suffered from a mental health issue?</td>\n",
    "  <td class=\"xl68\" style=\"border-top:none;border-left:none\">mh_neg_view_coworker</td>\n",
    " </tr>\n",
    " <tr style=\"height:14.4pt\" height=\"19\">\n",
    "  <td class=\"xl67\" style=\"height:14.4pt;word-wrap: break-word;border-top:none;\n",
    "  width:383pt\" width=\"510\" height=\"19\">How willing would you be to share with friends and family that\n",
    "  you have a mental illness?</td>\n",
    "  <td class=\"xl68\" style=\"border-top:none;border-left:none\">mh_sharing_friends_fam</td>\n",
    " </tr>\n",
    " <tr style=\"height:28.8pt\" height=\"38\">\n",
    "  <td class=\"xl67\" style=\"height:28.8pt;border-top:none;\n",
    "  width:383pt\" width=\"510\" height=\"38\">Have you observed or experienced an unsupportive or badly\n",
    "  handled response to a mental health issue in your current or previous\n",
    "  workplace?</td>\n",
    "  <td class=\"xl68\" style=\"border-top:none;border-left:none\">mh_bad_response_workplace</td>\n",
    " </tr>\n",
    " <tr style=\"height:28.8pt\" height=\"38\">\n",
    "  <td class=\"xl67\" style=\"height:28.8pt;border-top:none;\n",
    "  width:383pt\" width=\"510\" height=\"38\">Have your observations of how another individual who discussed a\n",
    "  mental health disorder made you less likely to reveal a mental health issue\n",
    "  yourself in your current workplace?</td>\n",
    "  <td class=\"xl68\" style=\"border-top:none;border-left:none\">mh_for_others_bad_response_workplace</td>\n",
    " </tr>\n",
    " <tr style=\"height:14.4pt\" height=\"19\">\n",
    "  <td class=\"xl67\" style=\"height:14.4pt;word-wrap: break-word;border-top:none;\n",
    "  width:383pt\" width=\"510\" height=\"19\">Do you have a family history of mental illness?</td>\n",
    "  <td class=\"xl68\" style=\"border-top:none;border-left:none\">mh_family_hist</td>\n",
    " </tr>\n",
    " <tr style=\"height:14.4pt\" height=\"19\">\n",
    "  <td class=\"xl67\" style=\"height:14.4pt;word-wrap: break-word;border-top:none;\n",
    "  width:383pt\" width=\"510\" height=\"19\">Have you had a mental health disorder in the past?</td>\n",
    "  <td class=\"xl68\" style=\"border-top:none;border-left:none\">mh_disorder_past</td>\n",
    " </tr>\n",
    " <tr style=\"height:14.4pt\" height=\"19\">\n",
    "  <td class=\"xl67\" style=\"height:14.4pt;word-wrap: break-word;border-top:none;\n",
    "  width:383pt\" width=\"510\" height=\"19\">Do you currently have a mental health disorder?</td>\n",
    "  <td class=\"xl68\" style=\"border-top:none;border-left:none\">mh_disorder_current</td>\n",
    " </tr>\n",
    " <tr style=\"height:14.4pt\" height=\"19\">\n",
    "  <td class=\"xl67\" style=\"height:14.4pt;word-wrap: break-word;border-top:none;\n",
    "  width:383pt\" width=\"510\" height=\"19\">If yes, what condition(s) have you been diagnosed with?</td>\n",
    "  <td class=\"xl68\" style=\"border-top:none;border-left:none\">mh_disorder_current_yes_diagnos</td>\n",
    " </tr>\n",
    " <tr style=\"height:14.4pt\" height=\"19\">\n",
    "  <td class=\"xl67\" style=\"height:14.4pt;word-wrap: break-word;border-top:none;\n",
    "  width:383pt\" width=\"510\" height=\"19\">If maybe, what condition(s) do you believe you have?</td>\n",
    "  <td class=\"xl68\" style=\"border-top:none;border-left:none\">mh_disorder_current_maybe_diagnos</td>\n",
    " </tr>\n",
    " <tr style=\"height:14.4pt\" height=\"19\">\n",
    "  <td class=\"xl67\" style=\"height:14.4pt;word-wrap: break-word;border-top:none;\n",
    "  width:383pt\" width=\"510\" height=\"19\">Have you been diagnosed with a mental health condition by a\n",
    "  medical professional?</td>\n",
    "  <td class=\"xl68\" style=\"border-top:none;border-left:none\">mh_diagnos_professional</td>\n",
    " </tr>\n",
    " <tr style=\"height:14.4pt\" height=\"19\">\n",
    "  <td class=\"xl67\" style=\"height:14.4pt;word-wrap: break-word;border-top:none;\n",
    "  width:383pt\" width=\"510\" height=\"19\">If so, what condition(s) were you diagnosed with?</td>\n",
    "  <td class=\"xl68\" style=\"border-top:none;border-left:none\">mh_diagnos_professional_yes</td>\n",
    " </tr>\n",
    " <tr style=\"height:14.4pt\" height=\"19\">\n",
    "  <td class=\"xl67\" style=\"height:14.4pt;word-wrap: break-word;border-top:none;\n",
    "  width:383pt\" width=\"510\" height=\"19\">Have you ever sought treatment for a mental health issue from a\n",
    "  mental health professional?</td>\n",
    "  <td class=\"xl68\" style=\"border-top:none;border-left:none\">mh_treament_from_professional</td>\n",
    " </tr>\n",
    " <tr style=\"height:14.4pt\" height=\"19\">\n",
    "  <td class=\"xl67\" style=\"height:14.4pt;word-wrap: break-word;border-top:none;\n",
    "  width:383pt\" width=\"510\" height=\"19\">If you have a mental health issue, do you feel that it\n",
    "  interferes with your work when being treated effectively?</td>\n",
    "  <td class=\"xl68\" style=\"border-top:none;border-left:none\">mh_effective_treatment_impact_on_work</td>\n",
    " </tr>\n",
    " <tr style=\"height:28.8pt\" height=\"38\">\n",
    "  <td class=\"xl67\" style=\"height:28.8pt;border-top:none;\n",
    "  width:383pt\" width=\"510\" height=\"38\">If you have a mental health issue, do you feel that it\n",
    "  interferes with your work when NOT being treated effectively?</td>\n",
    "  <td class=\"xl68\" style=\"border-top:none;border-left:none\">mh_not_effective_treatment_impact_on_work</td>\n",
    " </tr>\n",
    " <tr style=\"height:14.4pt\" height=\"19\">\n",
    "  <td class=\"xl67\" style=\"height:14.4pt;word-wrap: break-word;border-top:none;\n",
    "  width:383pt\" width=\"510\" height=\"19\">What is your age?</td>\n",
    "  <td class=\"xl68\" style=\"border-top:none;border-left:none\">age</td>\n",
    " </tr>\n",
    " <tr style=\"height:14.4pt\" height=\"19\">\n",
    "  <td class=\"xl67\" style=\"height:14.4pt;word-wrap: break-word;border-top:none;\n",
    "  width:383pt\" width=\"510\" height=\"19\">What is your gender?</td>\n",
    "  <td class=\"xl68\" style=\"border-top:none;border-left:none\">gender</td>\n",
    " </tr>\n",
    " <tr style=\"height:14.4pt\" height=\"19\">\n",
    "  <td class=\"xl67\" style=\"height:14.4pt;word-wrap: break-word;border-top:none;\n",
    "  width:383pt\" width=\"510\" height=\"19\">What country do you live in?</td>\n",
    "  <td class=\"xl68\" style=\"border-top:none;border-left:none\">residence_country</td>\n",
    " </tr>\n",
    " <tr style=\"height:14.4pt\" height=\"19\">\n",
    "  <td class=\"xl67\" style=\"height:14.4pt;word-wrap: break-word;border-top:none;\n",
    "  width:383pt\" width=\"510\" height=\"19\">What US state or territory do you live in?</td>\n",
    "  <td class=\"xl68\" style=\"border-top:none;border-left:none\">residence_US_state_territory</td>\n",
    " </tr>\n",
    " <tr style=\"height:14.4pt\" height=\"19\">\n",
    "  <td class=\"xl67\" style=\"height:14.4pt;word-wrap: break-word;border-top:none;\n",
    "  width:383pt\" width=\"510\" height=\"19\">What country do you work in?</td>\n",
    "  <td class=\"xl68\" style=\"border-top:none;border-left:none\">work_country</td>\n",
    " </tr>\n",
    " <tr style=\"height:14.4pt\" height=\"19\">\n",
    "  <td class=\"xl67\" style=\"height:14.4pt;word-wrap: break-word;border-top:none;\n",
    "  width:383pt\" width=\"510\" height=\"19\">What US state or territory do you work in?</td>\n",
    "  <td class=\"xl68\" style=\"border-top:none;border-left:none\">work_US_state_territory</td>\n",
    " </tr>\n",
    " <tr style=\"height:14.4pt\" height=\"19\">\n",
    "  <td class=\"xl67\" style=\"height:14.4pt;word-wrap: break-word;border-top:none;\n",
    "  width:383pt\" width=\"510\" height=\"19\">Which of the following best describes your work position?</td>\n",
    "  <td class=\"xl68\" style=\"border-top:none;border-left:none\">work_position</td>\n",
    " </tr>\n",
    " <tr style=\"height:14.4pt\" height=\"19\">\n",
    "  <td class=\"xl67\" style=\"height:14.4pt;word-wrap: break-word;border-top:none;\n",
    "  width:383pt\" width=\"510\" height=\"19\">Do you work remotely?</td>\n",
    "  <td class=\"xl68\" style=\"border-top:none;border-left:none\">work_remotely</td>\n",
    " </tr>\n",
    " <!--[if supportMisalignedColumns]-->\n",
    " <tr style=\"display:none\" height=\"0\">\n",
    "  <td style=\"width:383pt\" width=\"510\"></td>\n",
    "  <td style=\"width:205pt\" width=\"274\"></td>\n",
    " </tr>\n",
    " <!--[endif]-->\n",
    "</tbody></table>"
   ]
  },
  {
   "cell_type": "code",
   "execution_count": null,
   "metadata": {
    "id": "FBhJEenD_ixc"
   },
   "outputs": [],
   "source": [
    "# creating list of column names intercepted from above table to replace with the existing ones \n",
    "renamed_columns = [\"self_employed\", \"no_of_employees\", \"tech_comp\", \"tech_role_IT\", \"mh_coverage_benefits\", \"mh_avail_options\", \"mh_employer_discussion\", \"mh_resources_provided\", \"mh_anonimity_proctected\", \"mh_leave\", \"mh_emp_discussion_neg_conseq\", \"ph_emp_discussion_neg_conseq\", \"mh_discussion_cowork\", \"mh_discussion_dirsuperv\", \"mh_as_serious_as_ph_employer\", \"mh_obv_neg_conseq_coworkers\", \"mh_medical_coverage\", \"mh_seek_help_loc_onl_resources\", \"mh_diag_reveal_to_clients\", \"mh_diag_reveal_to_clients_impact\", \"mh_diag_reveal_to_cowork\", \"mh_diag_reveal_to_cowork_impact\", \"mh_productivity\", \"mh_work_impact\", \"mh_prev_employer\", \"prev_mh_benefits\", \"prev_mh_benefits_awareness\", \"prev_mh_discussion\", \"prev_mh_resources_provided\", \"prev_mh_anonimity_protection\", \"prev_mh_discussion_neg_conseq\", \"prev_ph_discussion_neg_conseq\", \"prev_mh_discussion_cowork\", \"prev_mh_discussion_dir_superv\", \"prev_mh_eq_ph_employer\", \"prev_mh_conseq_coworkers\", \"ph_future_interview\", \"ph_future_interview_why_whynot\", \"mh_future_interview\", \"mh_future_interview_why_whynot\", \"mh_hurt_your_career\", \"mh_neg_view_coworker\", \"mh_sharing_friends_fam\", \"mh_bad_response_workplace\", \"mh_for_others_bad_response_workplace\", \"mh_family_hist\", \"mh_disorder_past\", \"mh_disorder_current\", \"mh_disorder_current_yes_diagnos\", \"mh_disorder_current_maybe_diagnos\", \"mh_diagnos_professional\", \"mh_diagnos_professional_yes\", \"mh_treament_from_professional\", \"mh_effective_treatment_impact_on_work\", \"mh_not_effective_treatment_impact_on_work\", \"age\", \"gender\", \"residence_country\", \"residence_US_state_territory\", \"work_country\", \"work_US_state_territory\", \"work_position\", \"work_remotely\"]"
   ]
  },
  {
   "cell_type": "code",
   "execution_count": null,
   "metadata": {
    "id": "1-olpZbB_17T"
   },
   "outputs": [],
   "source": [
    "# replacing the column names with list created in previous step\n",
    "df_survey.columns = renamed_columns"
   ]
  },
  {
   "cell_type": "code",
   "execution_count": null,
   "metadata": {
    "colab": {
     "base_uri": "https://localhost:8080/"
    },
    "id": "6lCaZFYhl02A",
    "outputId": "7e0676d3-bc0a-45df-8dea-05f0117d77eb"
   },
   "outputs": [
    {
     "data": {
      "text/plain": [
       "Index(['self_employed', 'no_of_employees', 'tech_comp', 'tech_role_IT',\n",
       "       'mh_coverage_benefits', 'mh_avail_options', 'mh_employer_discussion',\n",
       "       'mh_resources_provided', 'mh_anonimity_proctected', 'mh_leave',\n",
       "       'mh_emp_discussion_neg_conseq', 'ph_emp_discussion_neg_conseq',\n",
       "       'mh_discussion_cowork', 'mh_discussion_dirsuperv',\n",
       "       'mh_as_serious_as_ph_employer', 'mh_obv_neg_conseq_coworkers',\n",
       "       'mh_medical_coverage', 'mh_seek_help_loc_onl_resources',\n",
       "       'mh_diag_reveal_to_clients', 'mh_diag_reveal_to_clients_impact',\n",
       "       'mh_diag_reveal_to_cowork', 'mh_diag_reveal_to_cowork_impact',\n",
       "       'mh_productivity', 'mh_work_impact', 'mh_prev_employer',\n",
       "       'prev_mh_benefits', 'prev_mh_benefits_awareness', 'prev_mh_discussion',\n",
       "       'prev_mh_resources_provided', 'prev_mh_anonimity_protection',\n",
       "       'prev_mh_discussion_neg_conseq', 'prev_ph_discussion_neg_conseq',\n",
       "       'prev_mh_discussion_cowork', 'prev_mh_discussion_dir_superv',\n",
       "       'prev_mh_eq_ph_employer', 'prev_mh_conseq_coworkers',\n",
       "       'ph_future_interview', 'ph_future_interview_why_whynot',\n",
       "       'mh_future_interview', 'mh_future_interview_why_whynot',\n",
       "       'mh_hurt_your_career', 'mh_neg_view_coworker', 'mh_sharing_friends_fam',\n",
       "       'mh_bad_response_workplace', 'mh_for_others_bad_response_workplace',\n",
       "       'mh_family_hist', 'mh_disorder_past', 'mh_disorder_current',\n",
       "       'mh_disorder_current_yes_diagnos', 'mh_disorder_current_maybe_diagnos',\n",
       "       'mh_diagnos_professional', 'mh_diagnos_professional_yes',\n",
       "       'mh_treament_from_professional',\n",
       "       'mh_effective_treatment_impact_on_work',\n",
       "       'mh_not_effective_treatment_impact_on_work', 'age', 'gender',\n",
       "       'residence_country', 'residence_US_state_territory', 'work_country',\n",
       "       'work_US_state_territory', 'work_position', 'work_remotely'],\n",
       "      dtype='object')"
      ]
     },
     "execution_count": 9,
     "metadata": {},
     "output_type": "execute_result"
    }
   ],
   "source": [
    "# printing the renamed columns\n",
    "df_survey.columns"
   ]
  },
  {
   "cell_type": "markdown",
   "metadata": {
    "id": "UMGvqHG5s_3K"
   },
   "source": [
    "\n",
    "Let us take a glance at overall look of data in terms of their data type, and counts of `Non-Null` values."
   ]
  },
  {
   "cell_type": "code",
   "execution_count": null,
   "metadata": {
    "colab": {
     "base_uri": "https://localhost:8080/"
    },
    "id": "brle3vSQAzgT",
    "outputId": "5b7e1627-6d1d-4876-cfc3-e9a7223759d7"
   },
   "outputs": [
    {
     "name": "stdout",
     "output_type": "stream",
     "text": [
      "<class 'pandas.core.frame.DataFrame'>\n",
      "RangeIndex: 1433 entries, 0 to 1432\n",
      "Data columns (total 63 columns):\n",
      " #   Column                                     Non-Null Count  Dtype  \n",
      "---  ------                                     --------------  -----  \n",
      " 0   self_employed                              1433 non-null   int64  \n",
      " 1   no_of_employees                            1146 non-null   object \n",
      " 2   tech_comp                                  1146 non-null   float64\n",
      " 3   tech_role_IT                               263 non-null    float64\n",
      " 4   mh_coverage_benefits                       1146 non-null   object \n",
      " 5   mh_avail_options                           1013 non-null   object \n",
      " 6   mh_employer_discussion                     1146 non-null   object \n",
      " 7   mh_resources_provided                      1146 non-null   object \n",
      " 8   mh_anonimity_proctected                    1146 non-null   object \n",
      " 9   mh_leave                                   1146 non-null   object \n",
      " 10  mh_emp_discussion_neg_conseq               1146 non-null   object \n",
      " 11  ph_emp_discussion_neg_conseq               1146 non-null   object \n",
      " 12  mh_discussion_cowork                       1146 non-null   object \n",
      " 13  mh_discussion_dirsuperv                    1146 non-null   object \n",
      " 14  mh_as_serious_as_ph_employer               1146 non-null   object \n",
      " 15  mh_obv_neg_conseq_coworkers                1146 non-null   object \n",
      " 16  mh_medical_coverage                        287 non-null    float64\n",
      " 17  mh_seek_help_loc_onl_resources             287 non-null    object \n",
      " 18  mh_diag_reveal_to_clients                  287 non-null    object \n",
      " 19  mh_diag_reveal_to_clients_impact           144 non-null    object \n",
      " 20  mh_diag_reveal_to_cowork                   287 non-null    object \n",
      " 21  mh_diag_reveal_to_cowork_impact            287 non-null    object \n",
      " 22  mh_productivity                            287 non-null    object \n",
      " 23  mh_work_impact                             204 non-null    object \n",
      " 24  mh_prev_employer                           1433 non-null   int64  \n",
      " 25  prev_mh_benefits                           1264 non-null   object \n",
      " 26  prev_mh_benefits_awareness                 1264 non-null   object \n",
      " 27  prev_mh_discussion                         1264 non-null   object \n",
      " 28  prev_mh_resources_provided                 1264 non-null   object \n",
      " 29  prev_mh_anonimity_protection               1264 non-null   object \n",
      " 30  prev_mh_discussion_neg_conseq              1264 non-null   object \n",
      " 31  prev_ph_discussion_neg_conseq              1264 non-null   object \n",
      " 32  prev_mh_discussion_cowork                  1264 non-null   object \n",
      " 33  prev_mh_discussion_dir_superv              1264 non-null   object \n",
      " 34  prev_mh_eq_ph_employer                     1264 non-null   object \n",
      " 35  prev_mh_conseq_coworkers                   1264 non-null   object \n",
      " 36  ph_future_interview                        1433 non-null   object \n",
      " 37  ph_future_interview_why_whynot             1095 non-null   object \n",
      " 38  mh_future_interview                        1433 non-null   object \n",
      " 39  mh_future_interview_why_whynot             1126 non-null   object \n",
      " 40  mh_hurt_your_career                        1433 non-null   object \n",
      " 41  mh_neg_view_coworker                       1433 non-null   object \n",
      " 42  mh_sharing_friends_fam                     1433 non-null   object \n",
      " 43  mh_bad_response_workplace                  1344 non-null   object \n",
      " 44  mh_for_others_bad_response_workplace       657 non-null    object \n",
      " 45  mh_family_hist                             1433 non-null   object \n",
      " 46  mh_disorder_past                           1433 non-null   object \n",
      " 47  mh_disorder_current                        1433 non-null   object \n",
      " 48  mh_disorder_current_yes_diagnos            568 non-null    object \n",
      " 49  mh_disorder_current_maybe_diagnos          322 non-null    object \n",
      " 50  mh_diagnos_professional                    1433 non-null   object \n",
      " 51  mh_diagnos_professional_yes                711 non-null    object \n",
      " 52  mh_treament_from_professional              1433 non-null   int64  \n",
      " 53  mh_effective_treatment_impact_on_work      1433 non-null   object \n",
      " 54  mh_not_effective_treatment_impact_on_work  1433 non-null   object \n",
      " 55  age                                        1433 non-null   int64  \n",
      " 56  gender                                     1430 non-null   object \n",
      " 57  residence_country                          1433 non-null   object \n",
      " 58  residence_US_state_territory               840 non-null    object \n",
      " 59  work_country                               1433 non-null   object \n",
      " 60  work_US_state_territory                    851 non-null    object \n",
      " 61  work_position                              1433 non-null   object \n",
      " 62  work_remotely                              1433 non-null   object \n",
      "dtypes: float64(3), int64(4), object(56)\n",
      "memory usage: 705.4+ KB\n"
     ]
    }
   ],
   "source": [
    "df_survey.info(verbose=True)"
   ]
  },
  {
   "cell_type": "markdown",
   "metadata": {
    "id": "o-ggSREUtWM_"
   },
   "source": [
    "Looking at the results from running the `info` command:\n",
    " <ul><li>There are certain columns which have less than 300 values.</li></ul>\n"
   ]
  },
  {
   "cell_type": "markdown",
   "metadata": {
    "id": "rKdaTBcew73Y"
   },
   "source": [
    "This might be because several columns are associated with each other i.e answers to some columns are based on the answers given by the survey taker to it's preceding question. "
   ]
  },
  {
   "cell_type": "markdown",
   "metadata": {
    "id": "56db9-38swzx"
   },
   "source": [
    "Now let us look what more we can do with the data"
   ]
  },
  {
   "cell_type": "code",
   "execution_count": null,
   "metadata": {
    "colab": {
     "base_uri": "https://localhost:8080/",
     "height": 348
    },
    "id": "qmfhImHYAp-n",
    "outputId": "4c2963cb-e8a1-49e5-e0fb-1c7e2593bf4c"
   },
   "outputs": [
    {
     "data": {
      "text/html": [
       "<div>\n",
       "<style scoped>\n",
       "    .dataframe tbody tr th:only-of-type {\n",
       "        vertical-align: middle;\n",
       "    }\n",
       "\n",
       "    .dataframe tbody tr th {\n",
       "        vertical-align: top;\n",
       "    }\n",
       "\n",
       "    .dataframe thead th {\n",
       "        text-align: right;\n",
       "    }\n",
       "</style>\n",
       "<table border=\"1\" class=\"dataframe\">\n",
       "  <thead>\n",
       "    <tr style=\"text-align: right;\">\n",
       "      <th></th>\n",
       "      <th>self_employed</th>\n",
       "      <th>no_of_employees</th>\n",
       "      <th>tech_comp</th>\n",
       "      <th>tech_role_IT</th>\n",
       "      <th>mh_coverage_benefits</th>\n",
       "      <th>mh_avail_options</th>\n",
       "      <th>mh_employer_discussion</th>\n",
       "      <th>mh_resources_provided</th>\n",
       "      <th>mh_anonimity_proctected</th>\n",
       "      <th>mh_leave</th>\n",
       "      <th>mh_emp_discussion_neg_conseq</th>\n",
       "      <th>ph_emp_discussion_neg_conseq</th>\n",
       "      <th>mh_discussion_cowork</th>\n",
       "      <th>mh_discussion_dirsuperv</th>\n",
       "      <th>mh_as_serious_as_ph_employer</th>\n",
       "      <th>mh_obv_neg_conseq_coworkers</th>\n",
       "      <th>mh_medical_coverage</th>\n",
       "      <th>mh_seek_help_loc_onl_resources</th>\n",
       "      <th>mh_diag_reveal_to_clients</th>\n",
       "      <th>mh_diag_reveal_to_clients_impact</th>\n",
       "      <th>mh_diag_reveal_to_cowork</th>\n",
       "      <th>mh_diag_reveal_to_cowork_impact</th>\n",
       "      <th>mh_productivity</th>\n",
       "      <th>mh_work_impact</th>\n",
       "      <th>mh_prev_employer</th>\n",
       "      <th>prev_mh_benefits</th>\n",
       "      <th>prev_mh_benefits_awareness</th>\n",
       "      <th>prev_mh_discussion</th>\n",
       "      <th>prev_mh_resources_provided</th>\n",
       "      <th>prev_mh_anonimity_protection</th>\n",
       "      <th>prev_mh_discussion_neg_conseq</th>\n",
       "      <th>prev_ph_discussion_neg_conseq</th>\n",
       "      <th>prev_mh_discussion_cowork</th>\n",
       "      <th>prev_mh_discussion_dir_superv</th>\n",
       "      <th>prev_mh_eq_ph_employer</th>\n",
       "      <th>prev_mh_conseq_coworkers</th>\n",
       "      <th>ph_future_interview</th>\n",
       "      <th>ph_future_interview_why_whynot</th>\n",
       "      <th>mh_future_interview</th>\n",
       "      <th>mh_future_interview_why_whynot</th>\n",
       "      <th>mh_hurt_your_career</th>\n",
       "      <th>mh_neg_view_coworker</th>\n",
       "      <th>mh_sharing_friends_fam</th>\n",
       "      <th>mh_bad_response_workplace</th>\n",
       "      <th>mh_for_others_bad_response_workplace</th>\n",
       "      <th>mh_family_hist</th>\n",
       "      <th>mh_disorder_past</th>\n",
       "      <th>mh_disorder_current</th>\n",
       "      <th>mh_disorder_current_yes_diagnos</th>\n",
       "      <th>mh_disorder_current_maybe_diagnos</th>\n",
       "      <th>mh_diagnos_professional</th>\n",
       "      <th>mh_diagnos_professional_yes</th>\n",
       "      <th>mh_treament_from_professional</th>\n",
       "      <th>mh_effective_treatment_impact_on_work</th>\n",
       "      <th>mh_not_effective_treatment_impact_on_work</th>\n",
       "      <th>age</th>\n",
       "      <th>gender</th>\n",
       "      <th>residence_country</th>\n",
       "      <th>residence_US_state_territory</th>\n",
       "      <th>work_country</th>\n",
       "      <th>work_US_state_territory</th>\n",
       "      <th>work_position</th>\n",
       "      <th>work_remotely</th>\n",
       "    </tr>\n",
       "  </thead>\n",
       "  <tbody>\n",
       "    <tr>\n",
       "      <th>0</th>\n",
       "      <td>0</td>\n",
       "      <td>26-100</td>\n",
       "      <td>1.0</td>\n",
       "      <td>NaN</td>\n",
       "      <td>Not eligible for coverage / N/A</td>\n",
       "      <td>NaN</td>\n",
       "      <td>No</td>\n",
       "      <td>No</td>\n",
       "      <td>I don't know</td>\n",
       "      <td>Very easy</td>\n",
       "      <td>No</td>\n",
       "      <td>No</td>\n",
       "      <td>Maybe</td>\n",
       "      <td>Yes</td>\n",
       "      <td>I don't know</td>\n",
       "      <td>No</td>\n",
       "      <td>NaN</td>\n",
       "      <td>NaN</td>\n",
       "      <td>NaN</td>\n",
       "      <td>NaN</td>\n",
       "      <td>NaN</td>\n",
       "      <td>NaN</td>\n",
       "      <td>NaN</td>\n",
       "      <td>NaN</td>\n",
       "      <td>1</td>\n",
       "      <td>No, none did</td>\n",
       "      <td>N/A (not currently aware)</td>\n",
       "      <td>I don't know</td>\n",
       "      <td>None did</td>\n",
       "      <td>I don't know</td>\n",
       "      <td>Some of them</td>\n",
       "      <td>None of them</td>\n",
       "      <td>Some of my previous employers</td>\n",
       "      <td>Some of my previous employers</td>\n",
       "      <td>I don't know</td>\n",
       "      <td>None of them</td>\n",
       "      <td>Maybe</td>\n",
       "      <td>NaN</td>\n",
       "      <td>Maybe</td>\n",
       "      <td>NaN</td>\n",
       "      <td>Maybe</td>\n",
       "      <td>No, I don't think they would</td>\n",
       "      <td>Somewhat open</td>\n",
       "      <td>No</td>\n",
       "      <td>NaN</td>\n",
       "      <td>No</td>\n",
       "      <td>Yes</td>\n",
       "      <td>No</td>\n",
       "      <td>NaN</td>\n",
       "      <td>NaN</td>\n",
       "      <td>Yes</td>\n",
       "      <td>Anxiety Disorder (Generalized, Social, Phobia,...</td>\n",
       "      <td>0</td>\n",
       "      <td>Not applicable to me</td>\n",
       "      <td>Not applicable to me</td>\n",
       "      <td>39</td>\n",
       "      <td>Male</td>\n",
       "      <td>United Kingdom</td>\n",
       "      <td>NaN</td>\n",
       "      <td>United Kingdom</td>\n",
       "      <td>NaN</td>\n",
       "      <td>Back-end Developer</td>\n",
       "      <td>Sometimes</td>\n",
       "    </tr>\n",
       "    <tr>\n",
       "      <th>1</th>\n",
       "      <td>0</td>\n",
       "      <td>6-25</td>\n",
       "      <td>1.0</td>\n",
       "      <td>NaN</td>\n",
       "      <td>No</td>\n",
       "      <td>Yes</td>\n",
       "      <td>Yes</td>\n",
       "      <td>Yes</td>\n",
       "      <td>Yes</td>\n",
       "      <td>Somewhat easy</td>\n",
       "      <td>No</td>\n",
       "      <td>No</td>\n",
       "      <td>Maybe</td>\n",
       "      <td>Yes</td>\n",
       "      <td>Yes</td>\n",
       "      <td>No</td>\n",
       "      <td>NaN</td>\n",
       "      <td>NaN</td>\n",
       "      <td>NaN</td>\n",
       "      <td>NaN</td>\n",
       "      <td>NaN</td>\n",
       "      <td>NaN</td>\n",
       "      <td>NaN</td>\n",
       "      <td>NaN</td>\n",
       "      <td>1</td>\n",
       "      <td>Yes, they all did</td>\n",
       "      <td>I was aware of some</td>\n",
       "      <td>None did</td>\n",
       "      <td>Some did</td>\n",
       "      <td>Yes, always</td>\n",
       "      <td>None of them</td>\n",
       "      <td>None of them</td>\n",
       "      <td>No, at none of my previous employers</td>\n",
       "      <td>Some of my previous employers</td>\n",
       "      <td>Some did</td>\n",
       "      <td>None of them</td>\n",
       "      <td>Maybe</td>\n",
       "      <td>It would depend on the health issue. If there ...</td>\n",
       "      <td>No</td>\n",
       "      <td>While mental health has become a more prominen...</td>\n",
       "      <td>No, I don't think it would</td>\n",
       "      <td>No, I don't think they would</td>\n",
       "      <td>Somewhat open</td>\n",
       "      <td>No</td>\n",
       "      <td>NaN</td>\n",
       "      <td>Yes</td>\n",
       "      <td>Yes</td>\n",
       "      <td>Yes</td>\n",
       "      <td>Anxiety Disorder (Generalized, Social, Phobia,...</td>\n",
       "      <td>NaN</td>\n",
       "      <td>Yes</td>\n",
       "      <td>Anxiety Disorder (Generalized, Social, Phobia,...</td>\n",
       "      <td>1</td>\n",
       "      <td>Rarely</td>\n",
       "      <td>Sometimes</td>\n",
       "      <td>29</td>\n",
       "      <td>male</td>\n",
       "      <td>United States of America</td>\n",
       "      <td>Illinois</td>\n",
       "      <td>United States of America</td>\n",
       "      <td>Illinois</td>\n",
       "      <td>Back-end Developer|Front-end Developer</td>\n",
       "      <td>Never</td>\n",
       "    </tr>\n",
       "    <tr>\n",
       "      <th>2</th>\n",
       "      <td>0</td>\n",
       "      <td>6-25</td>\n",
       "      <td>1.0</td>\n",
       "      <td>NaN</td>\n",
       "      <td>No</td>\n",
       "      <td>NaN</td>\n",
       "      <td>No</td>\n",
       "      <td>No</td>\n",
       "      <td>I don't know</td>\n",
       "      <td>Neither easy nor difficult</td>\n",
       "      <td>Maybe</td>\n",
       "      <td>No</td>\n",
       "      <td>Maybe</td>\n",
       "      <td>Maybe</td>\n",
       "      <td>I don't know</td>\n",
       "      <td>No</td>\n",
       "      <td>NaN</td>\n",
       "      <td>NaN</td>\n",
       "      <td>NaN</td>\n",
       "      <td>NaN</td>\n",
       "      <td>NaN</td>\n",
       "      <td>NaN</td>\n",
       "      <td>NaN</td>\n",
       "      <td>NaN</td>\n",
       "      <td>1</td>\n",
       "      <td>No, none did</td>\n",
       "      <td>N/A (not currently aware)</td>\n",
       "      <td>None did</td>\n",
       "      <td>Some did</td>\n",
       "      <td>I don't know</td>\n",
       "      <td>I don't know</td>\n",
       "      <td>Some of them</td>\n",
       "      <td>Some of my previous employers</td>\n",
       "      <td>I don't know</td>\n",
       "      <td>I don't know</td>\n",
       "      <td>Some of them</td>\n",
       "      <td>Yes</td>\n",
       "      <td>They would provable need to know, to Judge if ...</td>\n",
       "      <td>Yes</td>\n",
       "      <td>Stigma, mainly.</td>\n",
       "      <td>Maybe</td>\n",
       "      <td>Maybe</td>\n",
       "      <td>Somewhat open</td>\n",
       "      <td>Maybe/Not sure</td>\n",
       "      <td>Yes</td>\n",
       "      <td>No</td>\n",
       "      <td>Maybe</td>\n",
       "      <td>No</td>\n",
       "      <td>NaN</td>\n",
       "      <td>NaN</td>\n",
       "      <td>No</td>\n",
       "      <td>NaN</td>\n",
       "      <td>1</td>\n",
       "      <td>Not applicable to me</td>\n",
       "      <td>Not applicable to me</td>\n",
       "      <td>38</td>\n",
       "      <td>Male</td>\n",
       "      <td>United Kingdom</td>\n",
       "      <td>NaN</td>\n",
       "      <td>United Kingdom</td>\n",
       "      <td>NaN</td>\n",
       "      <td>Back-end Developer</td>\n",
       "      <td>Always</td>\n",
       "    </tr>\n",
       "    <tr>\n",
       "      <th>3</th>\n",
       "      <td>1</td>\n",
       "      <td>NaN</td>\n",
       "      <td>NaN</td>\n",
       "      <td>NaN</td>\n",
       "      <td>NaN</td>\n",
       "      <td>NaN</td>\n",
       "      <td>NaN</td>\n",
       "      <td>NaN</td>\n",
       "      <td>NaN</td>\n",
       "      <td>NaN</td>\n",
       "      <td>NaN</td>\n",
       "      <td>NaN</td>\n",
       "      <td>NaN</td>\n",
       "      <td>NaN</td>\n",
       "      <td>NaN</td>\n",
       "      <td>NaN</td>\n",
       "      <td>1.0</td>\n",
       "      <td>Yes, I know several</td>\n",
       "      <td>Sometimes, if it comes up</td>\n",
       "      <td>I'm not sure</td>\n",
       "      <td>Sometimes, if it comes up</td>\n",
       "      <td>I'm not sure</td>\n",
       "      <td>Yes</td>\n",
       "      <td>1-25%</td>\n",
       "      <td>1</td>\n",
       "      <td>Some did</td>\n",
       "      <td>N/A (not currently aware)</td>\n",
       "      <td>None did</td>\n",
       "      <td>None did</td>\n",
       "      <td>I don't know</td>\n",
       "      <td>Some of them</td>\n",
       "      <td>Some of them</td>\n",
       "      <td>Some of my previous employers</td>\n",
       "      <td>Some of my previous employers</td>\n",
       "      <td>I don't know</td>\n",
       "      <td>Some of them</td>\n",
       "      <td>Yes</td>\n",
       "      <td>old back injury, doesn't cause me many issues ...</td>\n",
       "      <td>Maybe</td>\n",
       "      <td>would not if I was not 100% sure that the disc...</td>\n",
       "      <td>Yes, I think it would</td>\n",
       "      <td>Maybe</td>\n",
       "      <td>Neutral</td>\n",
       "      <td>No</td>\n",
       "      <td>NaN</td>\n",
       "      <td>No</td>\n",
       "      <td>Yes</td>\n",
       "      <td>Yes</td>\n",
       "      <td>Anxiety Disorder (Generalized, Social, Phobia,...</td>\n",
       "      <td>NaN</td>\n",
       "      <td>Yes</td>\n",
       "      <td>Anxiety Disorder (Generalized, Social, Phobia,...</td>\n",
       "      <td>1</td>\n",
       "      <td>Sometimes</td>\n",
       "      <td>Sometimes</td>\n",
       "      <td>43</td>\n",
       "      <td>male</td>\n",
       "      <td>United Kingdom</td>\n",
       "      <td>NaN</td>\n",
       "      <td>United Kingdom</td>\n",
       "      <td>NaN</td>\n",
       "      <td>Supervisor/Team Lead</td>\n",
       "      <td>Sometimes</td>\n",
       "    </tr>\n",
       "    <tr>\n",
       "      <th>4</th>\n",
       "      <td>0</td>\n",
       "      <td>6-25</td>\n",
       "      <td>0.0</td>\n",
       "      <td>1.0</td>\n",
       "      <td>Yes</td>\n",
       "      <td>Yes</td>\n",
       "      <td>No</td>\n",
       "      <td>No</td>\n",
       "      <td>No</td>\n",
       "      <td>Neither easy nor difficult</td>\n",
       "      <td>Yes</td>\n",
       "      <td>Maybe</td>\n",
       "      <td>Maybe</td>\n",
       "      <td>No</td>\n",
       "      <td>No</td>\n",
       "      <td>No</td>\n",
       "      <td>NaN</td>\n",
       "      <td>NaN</td>\n",
       "      <td>NaN</td>\n",
       "      <td>NaN</td>\n",
       "      <td>NaN</td>\n",
       "      <td>NaN</td>\n",
       "      <td>NaN</td>\n",
       "      <td>NaN</td>\n",
       "      <td>1</td>\n",
       "      <td>I don't know</td>\n",
       "      <td>N/A (not currently aware)</td>\n",
       "      <td>Some did</td>\n",
       "      <td>None did</td>\n",
       "      <td>I don't know</td>\n",
       "      <td>Some of them</td>\n",
       "      <td>Some of them</td>\n",
       "      <td>No, at none of my previous employers</td>\n",
       "      <td>Some of my previous employers</td>\n",
       "      <td>Some did</td>\n",
       "      <td>Some of them</td>\n",
       "      <td>Maybe</td>\n",
       "      <td>Depending on the interview stage and whether I...</td>\n",
       "      <td>No</td>\n",
       "      <td>I don't know</td>\n",
       "      <td>Yes, I think it would</td>\n",
       "      <td>Maybe</td>\n",
       "      <td>Somewhat open</td>\n",
       "      <td>Yes, I experienced</td>\n",
       "      <td>Yes</td>\n",
       "      <td>Yes</td>\n",
       "      <td>Yes</td>\n",
       "      <td>Yes</td>\n",
       "      <td>Anxiety Disorder (Generalized, Social, Phobia,...</td>\n",
       "      <td>NaN</td>\n",
       "      <td>Yes</td>\n",
       "      <td>Anxiety Disorder (Generalized, Social, Phobia,...</td>\n",
       "      <td>1</td>\n",
       "      <td>Sometimes</td>\n",
       "      <td>Sometimes</td>\n",
       "      <td>43</td>\n",
       "      <td>Female</td>\n",
       "      <td>United States of America</td>\n",
       "      <td>Illinois</td>\n",
       "      <td>United States of America</td>\n",
       "      <td>Illinois</td>\n",
       "      <td>Executive Leadership|Supervisor/Team Lead|Dev ...</td>\n",
       "      <td>Sometimes</td>\n",
       "    </tr>\n",
       "  </tbody>\n",
       "</table>\n",
       "</div>"
      ],
      "text/plain": [
       "   self_employed  ... work_remotely\n",
       "0              0  ...     Sometimes\n",
       "1              0  ...         Never\n",
       "2              0  ...        Always\n",
       "3              1  ...     Sometimes\n",
       "4              0  ...     Sometimes\n",
       "\n",
       "[5 rows x 63 columns]"
      ]
     },
     "execution_count": 11,
     "metadata": {},
     "output_type": "execute_result"
    }
   ],
   "source": [
    "# printing the survey at glance\n",
    "df_survey.head()"
   ]
  },
  {
   "cell_type": "markdown",
   "metadata": {
    "id": "jqvIg5s4xJIz"
   },
   "source": [
    "#### **Handling the `gender` column and managing missing values**\n",
    "We need to find the genders in the data and then streamline them into three categories: Male, Female and Others, in order to answer our question of interest proposed above."
   ]
  },
  {
   "cell_type": "markdown",
   "metadata": {
    "id": "cL4zmpPgx4Jm"
   },
   "source": [
    "Let us look at the unique count of genders in the data"
   ]
  },
  {
   "cell_type": "code",
   "execution_count": null,
   "metadata": {
    "colab": {
     "base_uri": "https://localhost:8080/"
    },
    "id": "DoeUG0SlA9ai",
    "outputId": "15be13b1-5619-4edb-863b-fb246fc9108f"
   },
   "outputs": [
    {
     "data": {
      "text/plain": [
       "70"
      ]
     },
     "execution_count": 12,
     "metadata": {},
     "output_type": "execute_result"
    }
   ],
   "source": [
    "# finding unique genders\n",
    "df_survey['gender'].nunique()"
   ]
  },
  {
   "cell_type": "markdown",
   "metadata": {
    "id": "VRUvalylx-Pj"
   },
   "source": [
    "We can see that there are 70 genders and what are expectations were (to find more than 3 genders), considering the data is yet to be cleaned for this column.\n",
    "Now we must filter the genders which don't have any values."
   ]
  },
  {
   "cell_type": "code",
   "execution_count": null,
   "metadata": {
    "colab": {
     "base_uri": "https://localhost:8080/",
     "height": 267
    },
    "id": "a--XUOyUPIzG",
    "outputId": "0a6fcf29-dc8d-42f7-bc99-08caefec4768"
   },
   "outputs": [
    {
     "data": {
      "text/html": [
       "<div>\n",
       "<style scoped>\n",
       "    .dataframe tbody tr th:only-of-type {\n",
       "        vertical-align: middle;\n",
       "    }\n",
       "\n",
       "    .dataframe tbody tr th {\n",
       "        vertical-align: top;\n",
       "    }\n",
       "\n",
       "    .dataframe thead th {\n",
       "        text-align: right;\n",
       "    }\n",
       "</style>\n",
       "<table border=\"1\" class=\"dataframe\">\n",
       "  <thead>\n",
       "    <tr style=\"text-align: right;\">\n",
       "      <th></th>\n",
       "      <th>self_employed</th>\n",
       "      <th>no_of_employees</th>\n",
       "      <th>tech_comp</th>\n",
       "      <th>tech_role_IT</th>\n",
       "      <th>mh_coverage_benefits</th>\n",
       "      <th>mh_avail_options</th>\n",
       "      <th>mh_employer_discussion</th>\n",
       "      <th>mh_resources_provided</th>\n",
       "      <th>mh_anonimity_proctected</th>\n",
       "      <th>mh_leave</th>\n",
       "      <th>mh_emp_discussion_neg_conseq</th>\n",
       "      <th>ph_emp_discussion_neg_conseq</th>\n",
       "      <th>mh_discussion_cowork</th>\n",
       "      <th>mh_discussion_dirsuperv</th>\n",
       "      <th>mh_as_serious_as_ph_employer</th>\n",
       "      <th>mh_obv_neg_conseq_coworkers</th>\n",
       "      <th>mh_medical_coverage</th>\n",
       "      <th>mh_seek_help_loc_onl_resources</th>\n",
       "      <th>mh_diag_reveal_to_clients</th>\n",
       "      <th>mh_diag_reveal_to_clients_impact</th>\n",
       "      <th>mh_diag_reveal_to_cowork</th>\n",
       "      <th>mh_diag_reveal_to_cowork_impact</th>\n",
       "      <th>mh_productivity</th>\n",
       "      <th>mh_work_impact</th>\n",
       "      <th>mh_prev_employer</th>\n",
       "      <th>prev_mh_benefits</th>\n",
       "      <th>prev_mh_benefits_awareness</th>\n",
       "      <th>prev_mh_discussion</th>\n",
       "      <th>prev_mh_resources_provided</th>\n",
       "      <th>prev_mh_anonimity_protection</th>\n",
       "      <th>prev_mh_discussion_neg_conseq</th>\n",
       "      <th>prev_ph_discussion_neg_conseq</th>\n",
       "      <th>prev_mh_discussion_cowork</th>\n",
       "      <th>prev_mh_discussion_dir_superv</th>\n",
       "      <th>prev_mh_eq_ph_employer</th>\n",
       "      <th>prev_mh_conseq_coworkers</th>\n",
       "      <th>ph_future_interview</th>\n",
       "      <th>ph_future_interview_why_whynot</th>\n",
       "      <th>mh_future_interview</th>\n",
       "      <th>mh_future_interview_why_whynot</th>\n",
       "      <th>mh_hurt_your_career</th>\n",
       "      <th>mh_neg_view_coworker</th>\n",
       "      <th>mh_sharing_friends_fam</th>\n",
       "      <th>mh_bad_response_workplace</th>\n",
       "      <th>mh_for_others_bad_response_workplace</th>\n",
       "      <th>mh_family_hist</th>\n",
       "      <th>mh_disorder_past</th>\n",
       "      <th>mh_disorder_current</th>\n",
       "      <th>mh_disorder_current_yes_diagnos</th>\n",
       "      <th>mh_disorder_current_maybe_diagnos</th>\n",
       "      <th>mh_diagnos_professional</th>\n",
       "      <th>mh_diagnos_professional_yes</th>\n",
       "      <th>mh_treament_from_professional</th>\n",
       "      <th>mh_effective_treatment_impact_on_work</th>\n",
       "      <th>mh_not_effective_treatment_impact_on_work</th>\n",
       "      <th>age</th>\n",
       "      <th>gender</th>\n",
       "      <th>residence_country</th>\n",
       "      <th>residence_US_state_territory</th>\n",
       "      <th>work_country</th>\n",
       "      <th>work_US_state_territory</th>\n",
       "      <th>work_position</th>\n",
       "      <th>work_remotely</th>\n",
       "    </tr>\n",
       "  </thead>\n",
       "  <tbody>\n",
       "    <tr>\n",
       "      <th>302</th>\n",
       "      <td>0</td>\n",
       "      <td>More than 1000</td>\n",
       "      <td>0.0</td>\n",
       "      <td>1.0</td>\n",
       "      <td>Not eligible for coverage / N/A</td>\n",
       "      <td>NaN</td>\n",
       "      <td>No</td>\n",
       "      <td>No</td>\n",
       "      <td>I don't know</td>\n",
       "      <td>Somewhat easy</td>\n",
       "      <td>Maybe</td>\n",
       "      <td>No</td>\n",
       "      <td>Yes</td>\n",
       "      <td>Yes</td>\n",
       "      <td>No</td>\n",
       "      <td>No</td>\n",
       "      <td>NaN</td>\n",
       "      <td>NaN</td>\n",
       "      <td>NaN</td>\n",
       "      <td>NaN</td>\n",
       "      <td>NaN</td>\n",
       "      <td>NaN</td>\n",
       "      <td>NaN</td>\n",
       "      <td>NaN</td>\n",
       "      <td>1</td>\n",
       "      <td>No, none did</td>\n",
       "      <td>N/A (not currently aware)</td>\n",
       "      <td>None did</td>\n",
       "      <td>None did</td>\n",
       "      <td>I don't know</td>\n",
       "      <td>Some of them</td>\n",
       "      <td>Some of them</td>\n",
       "      <td>No, at none of my previous employers</td>\n",
       "      <td>No, at none of my previous employers</td>\n",
       "      <td>I don't know</td>\n",
       "      <td>Yes, all of them</td>\n",
       "      <td>Maybe</td>\n",
       "      <td>NaN</td>\n",
       "      <td>Maybe</td>\n",
       "      <td>NaN</td>\n",
       "      <td>No, I don't think it would</td>\n",
       "      <td>No, they do not</td>\n",
       "      <td>Somewhat open</td>\n",
       "      <td>Yes, I observed</td>\n",
       "      <td>No</td>\n",
       "      <td>Yes</td>\n",
       "      <td>Yes</td>\n",
       "      <td>Yes</td>\n",
       "      <td>Mood Disorder (Depression, Bipolar Disorder, e...</td>\n",
       "      <td>NaN</td>\n",
       "      <td>Yes</td>\n",
       "      <td>Mood Disorder (Depression, Bipolar Disorder, etc)</td>\n",
       "      <td>1</td>\n",
       "      <td>Sometimes</td>\n",
       "      <td>Sometimes</td>\n",
       "      <td>24</td>\n",
       "      <td>NaN</td>\n",
       "      <td>United Kingdom</td>\n",
       "      <td>NaN</td>\n",
       "      <td>United Kingdom</td>\n",
       "      <td>NaN</td>\n",
       "      <td>Back-end Developer|Front-end Developer</td>\n",
       "      <td>Sometimes</td>\n",
       "    </tr>\n",
       "    <tr>\n",
       "      <th>643</th>\n",
       "      <td>0</td>\n",
       "      <td>26-100</td>\n",
       "      <td>1.0</td>\n",
       "      <td>NaN</td>\n",
       "      <td>I don't know</td>\n",
       "      <td>No</td>\n",
       "      <td>No</td>\n",
       "      <td>No</td>\n",
       "      <td>I don't know</td>\n",
       "      <td>Somewhat easy</td>\n",
       "      <td>Maybe</td>\n",
       "      <td>No</td>\n",
       "      <td>Maybe</td>\n",
       "      <td>Yes</td>\n",
       "      <td>I don't know</td>\n",
       "      <td>No</td>\n",
       "      <td>NaN</td>\n",
       "      <td>NaN</td>\n",
       "      <td>NaN</td>\n",
       "      <td>NaN</td>\n",
       "      <td>NaN</td>\n",
       "      <td>NaN</td>\n",
       "      <td>NaN</td>\n",
       "      <td>NaN</td>\n",
       "      <td>1</td>\n",
       "      <td>No, none did</td>\n",
       "      <td>N/A (not currently aware)</td>\n",
       "      <td>None did</td>\n",
       "      <td>None did</td>\n",
       "      <td>I don't know</td>\n",
       "      <td>Yes, all of them</td>\n",
       "      <td>Yes, all of them</td>\n",
       "      <td>No, at none of my previous employers</td>\n",
       "      <td>No, at none of my previous employers</td>\n",
       "      <td>None did</td>\n",
       "      <td>Some of them</td>\n",
       "      <td>No</td>\n",
       "      <td>It's none of their business unless I need an a...</td>\n",
       "      <td>No</td>\n",
       "      <td>People have so much stigma and I don't want to...</td>\n",
       "      <td>Yes, I think it would</td>\n",
       "      <td>Yes, they do</td>\n",
       "      <td>Very open</td>\n",
       "      <td>Yes, I observed</td>\n",
       "      <td>Yes</td>\n",
       "      <td>Yes</td>\n",
       "      <td>Yes</td>\n",
       "      <td>Yes</td>\n",
       "      <td>Anxiety Disorder (Generalized, Social, Phobia,...</td>\n",
       "      <td>NaN</td>\n",
       "      <td>Yes</td>\n",
       "      <td>Anxiety Disorder (Generalized, Social, Phobia,...</td>\n",
       "      <td>1</td>\n",
       "      <td>Sometimes</td>\n",
       "      <td>Often</td>\n",
       "      <td>25</td>\n",
       "      <td>NaN</td>\n",
       "      <td>United States of America</td>\n",
       "      <td>Oregon</td>\n",
       "      <td>United States of America</td>\n",
       "      <td>Oregon</td>\n",
       "      <td>Other</td>\n",
       "      <td>Never</td>\n",
       "    </tr>\n",
       "    <tr>\n",
       "      <th>1312</th>\n",
       "      <td>0</td>\n",
       "      <td>100-500</td>\n",
       "      <td>0.0</td>\n",
       "      <td>1.0</td>\n",
       "      <td>Yes</td>\n",
       "      <td>No</td>\n",
       "      <td>No</td>\n",
       "      <td>No</td>\n",
       "      <td>Yes</td>\n",
       "      <td>I don't know</td>\n",
       "      <td>Yes</td>\n",
       "      <td>Yes</td>\n",
       "      <td>No</td>\n",
       "      <td>No</td>\n",
       "      <td>No</td>\n",
       "      <td>Yes</td>\n",
       "      <td>NaN</td>\n",
       "      <td>NaN</td>\n",
       "      <td>NaN</td>\n",
       "      <td>NaN</td>\n",
       "      <td>NaN</td>\n",
       "      <td>NaN</td>\n",
       "      <td>NaN</td>\n",
       "      <td>NaN</td>\n",
       "      <td>1</td>\n",
       "      <td>No, none did</td>\n",
       "      <td>N/A (not currently aware)</td>\n",
       "      <td>None did</td>\n",
       "      <td>None did</td>\n",
       "      <td>No</td>\n",
       "      <td>Yes, all of them</td>\n",
       "      <td>Yes, all of them</td>\n",
       "      <td>Some of my previous employers</td>\n",
       "      <td>No, at none of my previous employers</td>\n",
       "      <td>None did</td>\n",
       "      <td>Some of them</td>\n",
       "      <td>No</td>\n",
       "      <td>You cannot enforce respect for any group of in...</td>\n",
       "      <td>No</td>\n",
       "      <td>It is illegal to not hire someone for having a...</td>\n",
       "      <td>Yes, I think it would</td>\n",
       "      <td>Yes, I think they would</td>\n",
       "      <td>Somewhat not open</td>\n",
       "      <td>Yes, I observed</td>\n",
       "      <td>Yes</td>\n",
       "      <td>Yes</td>\n",
       "      <td>Yes</td>\n",
       "      <td>Yes</td>\n",
       "      <td>Anxiety Disorder (Generalized, Social, Phobia,...</td>\n",
       "      <td>NaN</td>\n",
       "      <td>Yes</td>\n",
       "      <td>Anxiety Disorder (Generalized, Social, Phobia,...</td>\n",
       "      <td>1</td>\n",
       "      <td>Often</td>\n",
       "      <td>Often</td>\n",
       "      <td>26</td>\n",
       "      <td>NaN</td>\n",
       "      <td>United States of America</td>\n",
       "      <td>Pennsylvania</td>\n",
       "      <td>United States of America</td>\n",
       "      <td>Pennsylvania</td>\n",
       "      <td>Support|Back-end Developer|Front-end Developer...</td>\n",
       "      <td>Never</td>\n",
       "    </tr>\n",
       "  </tbody>\n",
       "</table>\n",
       "</div>"
      ],
      "text/plain": [
       "      self_employed  ... work_remotely\n",
       "302               0  ...     Sometimes\n",
       "643               0  ...         Never\n",
       "1312              0  ...         Never\n",
       "\n",
       "[3 rows x 63 columns]"
      ]
     },
     "execution_count": 13,
     "metadata": {},
     "output_type": "execute_result"
    }
   ],
   "source": [
    "# filtering null values from the gender column to decide what futher action we can take for such records\n",
    "df_survey[df_survey['gender'].isnull()]"
   ]
  },
  {
   "cell_type": "markdown",
   "metadata": {
    "id": "7A_O8GwvzMxD"
   },
   "source": [
    "Now we must create three lists to filter out the genders which belong to Male, Female and Others category.\n",
    "<br>\n",
    "We will refer the actual csv data and create such lists. "
   ]
  },
  {
   "cell_type": "code",
   "execution_count": null,
   "metadata": {
    "id": "81IrDsCeCCll"
   },
   "outputs": [],
   "source": [
    "# creating three lists as the values in this list will be replaced later on.\n",
    "male_gender = ['Male', 'Male ', 'male', 'Male.', 'M', 'm', 'man', 'Cis male', 'cis male', 'male 9:1 female, roughly', 'Male (cis)', 'Man', 'Sex is male','mail', 'M|', 'Male/genderqueer', 'male ', 'Cis Male', 'Male (trans, FtM)','cisdude', 'cis man', 'MALE', 'Malr', 'Dude', \"I'm a man why didn't you make this a drop down question. You should of asked sex? And I would of answered yes please. Seriously how much text can this take?\"]\n",
    "female_gender = ['Female', 'female', 'F', 'female ', 'Female assigned at birth ', 'Woman', 'f', 'fm', 'Cis female ', 'M2F', 'Transitioned', 'Genderfluid (born female)', 'I identify as female.', 'Female or Multi-Gender Femme', 'woman', 'Female ', 'female/woman' , 'fem',  'Cisgender Female', 'Female (props for making this a freeform field, though)', ' Female', 'Cis-woman', 'female-bodied; no feelings about gender',  'AFAB']\n",
    "others= ['Bigender', 'non-binary', 'Transitioned, M2F','Other/Transfeminine', 'Androgynous', 'Other', 'nb masculine','none of your business', 'genderqueer', 'Human', 'Genderfluid','Enby', 'genderqueer woman', 'mtf', 'Queer', 'Agender', 'Fluid',\"I'm a man why didn't you make this a drop down question. You should of asked sex? And I would of answered yes please. Seriously how much text can this take? \",'Nonbinary', 'human', 'Unicorn', 'Genderqueer','Genderflux demi-girl', 'Transgender woman']"
   ]
  },
  {
   "cell_type": "markdown",
   "metadata": {
    "id": "ue44BEpizeUz"
   },
   "source": [
    "Now we need to replace those values with one generic value representing each gender like 'Male', 'Female', 'Others'"
   ]
  },
  {
   "cell_type": "code",
   "execution_count": null,
   "metadata": {
    "id": "1RMV1YtFAjiR"
   },
   "outputs": [],
   "source": [
    "# replacing the values in gender column to make it more uderstandable and consistent\n",
    "df_survey['gender'].replace(female_gender,'Female',inplace=True)\n",
    "df_survey['gender'].replace(male_gender,'Male',inplace=True)\n",
    "df_survey['gender'].replace(others,'Others',inplace=True)"
   ]
  },
  {
   "cell_type": "markdown",
   "metadata": {
    "id": "JoFslncO0PEQ"
   },
   "source": [
    "We need to check again if we have expected result on gender column."
   ]
  },
  {
   "cell_type": "code",
   "execution_count": null,
   "metadata": {
    "colab": {
     "base_uri": "https://localhost:8080/"
    },
    "id": "xj6O7iurMBld",
    "outputId": "703e1f3b-88ee-4bd6-9061-9fe132dd07e4"
   },
   "outputs": [
    {
     "data": {
      "text/plain": [
       "array(['Male', 'Female', 'Others', nan], dtype=object)"
      ]
     },
     "execution_count": 16,
     "metadata": {},
     "output_type": "execute_result"
    }
   ],
   "source": [
    "# finding unique values in gender column\n",
    "df_survey['gender'].unique()"
   ]
  },
  {
   "cell_type": "markdown",
   "metadata": {
    "id": "TZaHpp-60vOQ"
   },
   "source": [
    "We observe that we still have some NaN values and we must manage them. We will replace them by adding them in 'Others' category as some of the responses in the gender column indicated that the survey takers were not comfortable with disclosing their gender. Hence, we have considered NaN as same indication as not willing to disclose their gender and gave it the category 'Others'."
   ]
  },
  {
   "cell_type": "code",
   "execution_count": null,
   "metadata": {
    "id": "DLnxxBgMWDqI"
   },
   "outputs": [],
   "source": [
    "# To replace nan values with others to make data consistent and for better analysis\n",
    "df_survey['gender'].replace(np.nan,'Others',inplace=True)"
   ]
  },
  {
   "cell_type": "markdown",
   "metadata": {
    "id": "ItHCuCYs0-r6"
   },
   "source": [
    "#### **Handling the `age` column and managing outliers**\n",
    "We must find if there are any outliers or missing values in the age column."
   ]
  },
  {
   "cell_type": "code",
   "execution_count": null,
   "metadata": {
    "colab": {
     "base_uri": "https://localhost:8080/"
    },
    "id": "ypXkqyl_aFl6",
    "outputId": "dc07c47c-3880-4b68-a502-a1d584f31656"
   },
   "outputs": [
    {
     "data": {
      "text/plain": [
       "count    1433.000000\n",
       "mean       34.286113\n",
       "std        11.290931\n",
       "min         3.000000\n",
       "25%        28.000000\n",
       "50%        33.000000\n",
       "75%        39.000000\n",
       "max       323.000000\n",
       "Name: age, dtype: float64"
      ]
     },
     "execution_count": 18,
     "metadata": {},
     "output_type": "execute_result"
    }
   ],
   "source": [
    "# describing the age column to get an overview of values present in age column\n",
    "df_survey['age'].describe()"
   ]
  },
  {
   "cell_type": "code",
   "execution_count": null,
   "metadata": {
    "colab": {
     "base_uri": "https://localhost:8080/",
     "height": 167
    },
    "id": "EbwO5oUU2G8U",
    "outputId": "58119dfe-514f-4ea1-de30-12bd9d76e968"
   },
   "outputs": [
    {
     "data": {
      "text/html": [
       "<div>\n",
       "<style scoped>\n",
       "    .dataframe tbody tr th:only-of-type {\n",
       "        vertical-align: middle;\n",
       "    }\n",
       "\n",
       "    .dataframe tbody tr th {\n",
       "        vertical-align: top;\n",
       "    }\n",
       "\n",
       "    .dataframe thead th {\n",
       "        text-align: right;\n",
       "    }\n",
       "</style>\n",
       "<table border=\"1\" class=\"dataframe\">\n",
       "  <thead>\n",
       "    <tr style=\"text-align: right;\">\n",
       "      <th></th>\n",
       "      <th>self_employed</th>\n",
       "      <th>no_of_employees</th>\n",
       "      <th>tech_comp</th>\n",
       "      <th>tech_role_IT</th>\n",
       "      <th>mh_coverage_benefits</th>\n",
       "      <th>mh_avail_options</th>\n",
       "      <th>mh_employer_discussion</th>\n",
       "      <th>mh_resources_provided</th>\n",
       "      <th>mh_anonimity_proctected</th>\n",
       "      <th>mh_leave</th>\n",
       "      <th>mh_emp_discussion_neg_conseq</th>\n",
       "      <th>ph_emp_discussion_neg_conseq</th>\n",
       "      <th>mh_discussion_cowork</th>\n",
       "      <th>mh_discussion_dirsuperv</th>\n",
       "      <th>mh_as_serious_as_ph_employer</th>\n",
       "      <th>mh_obv_neg_conseq_coworkers</th>\n",
       "      <th>mh_medical_coverage</th>\n",
       "      <th>mh_seek_help_loc_onl_resources</th>\n",
       "      <th>mh_diag_reveal_to_clients</th>\n",
       "      <th>mh_diag_reveal_to_clients_impact</th>\n",
       "      <th>mh_diag_reveal_to_cowork</th>\n",
       "      <th>mh_diag_reveal_to_cowork_impact</th>\n",
       "      <th>mh_productivity</th>\n",
       "      <th>mh_work_impact</th>\n",
       "      <th>mh_prev_employer</th>\n",
       "      <th>prev_mh_benefits</th>\n",
       "      <th>prev_mh_benefits_awareness</th>\n",
       "      <th>prev_mh_discussion</th>\n",
       "      <th>prev_mh_resources_provided</th>\n",
       "      <th>prev_mh_anonimity_protection</th>\n",
       "      <th>prev_mh_discussion_neg_conseq</th>\n",
       "      <th>prev_ph_discussion_neg_conseq</th>\n",
       "      <th>prev_mh_discussion_cowork</th>\n",
       "      <th>prev_mh_discussion_dir_superv</th>\n",
       "      <th>prev_mh_eq_ph_employer</th>\n",
       "      <th>prev_mh_conseq_coworkers</th>\n",
       "      <th>ph_future_interview</th>\n",
       "      <th>ph_future_interview_why_whynot</th>\n",
       "      <th>mh_future_interview</th>\n",
       "      <th>mh_future_interview_why_whynot</th>\n",
       "      <th>mh_hurt_your_career</th>\n",
       "      <th>mh_neg_view_coworker</th>\n",
       "      <th>mh_sharing_friends_fam</th>\n",
       "      <th>mh_bad_response_workplace</th>\n",
       "      <th>mh_for_others_bad_response_workplace</th>\n",
       "      <th>mh_family_hist</th>\n",
       "      <th>mh_disorder_past</th>\n",
       "      <th>mh_disorder_current</th>\n",
       "      <th>mh_disorder_current_yes_diagnos</th>\n",
       "      <th>mh_disorder_current_maybe_diagnos</th>\n",
       "      <th>mh_diagnos_professional</th>\n",
       "      <th>mh_diagnos_professional_yes</th>\n",
       "      <th>mh_treament_from_professional</th>\n",
       "      <th>mh_effective_treatment_impact_on_work</th>\n",
       "      <th>mh_not_effective_treatment_impact_on_work</th>\n",
       "      <th>age</th>\n",
       "      <th>gender</th>\n",
       "      <th>residence_country</th>\n",
       "      <th>residence_US_state_territory</th>\n",
       "      <th>work_country</th>\n",
       "      <th>work_US_state_territory</th>\n",
       "      <th>work_position</th>\n",
       "      <th>work_remotely</th>\n",
       "    </tr>\n",
       "  </thead>\n",
       "  <tbody>\n",
       "    <tr>\n",
       "      <th>564</th>\n",
       "      <td>0</td>\n",
       "      <td>100-500</td>\n",
       "      <td>1.0</td>\n",
       "      <td>NaN</td>\n",
       "      <td>Yes</td>\n",
       "      <td>No</td>\n",
       "      <td>I don't know</td>\n",
       "      <td>I don't know</td>\n",
       "      <td>I don't know</td>\n",
       "      <td>I don't know</td>\n",
       "      <td>No</td>\n",
       "      <td>No</td>\n",
       "      <td>Maybe</td>\n",
       "      <td>Maybe</td>\n",
       "      <td>I don't know</td>\n",
       "      <td>No</td>\n",
       "      <td>NaN</td>\n",
       "      <td>NaN</td>\n",
       "      <td>NaN</td>\n",
       "      <td>NaN</td>\n",
       "      <td>NaN</td>\n",
       "      <td>NaN</td>\n",
       "      <td>NaN</td>\n",
       "      <td>NaN</td>\n",
       "      <td>1</td>\n",
       "      <td>Some did</td>\n",
       "      <td>N/A (not currently aware)</td>\n",
       "      <td>None did</td>\n",
       "      <td>None did</td>\n",
       "      <td>I don't know</td>\n",
       "      <td>I don't know</td>\n",
       "      <td>Some of them</td>\n",
       "      <td>Some of my previous employers</td>\n",
       "      <td>Some of my previous employers</td>\n",
       "      <td>None did</td>\n",
       "      <td>Some of them</td>\n",
       "      <td>Yes</td>\n",
       "      <td>It may affect time I need to take off or my ab...</td>\n",
       "      <td>Maybe</td>\n",
       "      <td>It hasn't come up for me.</td>\n",
       "      <td>Maybe</td>\n",
       "      <td>No, I don't think they would</td>\n",
       "      <td>Neutral</td>\n",
       "      <td>Maybe/Not sure</td>\n",
       "      <td>NaN</td>\n",
       "      <td>Yes</td>\n",
       "      <td>No</td>\n",
       "      <td>No</td>\n",
       "      <td>NaN</td>\n",
       "      <td>NaN</td>\n",
       "      <td>No</td>\n",
       "      <td>NaN</td>\n",
       "      <td>0</td>\n",
       "      <td>Not applicable to me</td>\n",
       "      <td>Not applicable to me</td>\n",
       "      <td>323</td>\n",
       "      <td>Male</td>\n",
       "      <td>United States of America</td>\n",
       "      <td>Oregon</td>\n",
       "      <td>United States of America</td>\n",
       "      <td>Oregon</td>\n",
       "      <td>Back-end Developer</td>\n",
       "      <td>Sometimes</td>\n",
       "    </tr>\n",
       "    <tr>\n",
       "      <th>656</th>\n",
       "      <td>0</td>\n",
       "      <td>More than 1000</td>\n",
       "      <td>1.0</td>\n",
       "      <td>NaN</td>\n",
       "      <td>Yes</td>\n",
       "      <td>I am not sure</td>\n",
       "      <td>Yes</td>\n",
       "      <td>Yes</td>\n",
       "      <td>I don't know</td>\n",
       "      <td>Somewhat easy</td>\n",
       "      <td>Maybe</td>\n",
       "      <td>No</td>\n",
       "      <td>Maybe</td>\n",
       "      <td>Yes</td>\n",
       "      <td>I don't know</td>\n",
       "      <td>No</td>\n",
       "      <td>NaN</td>\n",
       "      <td>NaN</td>\n",
       "      <td>NaN</td>\n",
       "      <td>NaN</td>\n",
       "      <td>NaN</td>\n",
       "      <td>NaN</td>\n",
       "      <td>NaN</td>\n",
       "      <td>NaN</td>\n",
       "      <td>1</td>\n",
       "      <td>Some did</td>\n",
       "      <td>I was aware of some</td>\n",
       "      <td>None did</td>\n",
       "      <td>Some did</td>\n",
       "      <td>I don't know</td>\n",
       "      <td>Some of them</td>\n",
       "      <td>Some of them</td>\n",
       "      <td>No, at none of my previous employers</td>\n",
       "      <td>Some of my previous employers</td>\n",
       "      <td>I don't know</td>\n",
       "      <td>None of them</td>\n",
       "      <td>Maybe</td>\n",
       "      <td>Legislation in my jurisdiction mandates certai...</td>\n",
       "      <td>No</td>\n",
       "      <td>Despite the legal protections, mental health i...</td>\n",
       "      <td>Maybe</td>\n",
       "      <td>No, I don't think they would</td>\n",
       "      <td>Somewhat open</td>\n",
       "      <td>Maybe/Not sure</td>\n",
       "      <td>Maybe</td>\n",
       "      <td>I don't know</td>\n",
       "      <td>Yes</td>\n",
       "      <td>Maybe</td>\n",
       "      <td>NaN</td>\n",
       "      <td>Anxiety Disorder (Generalized, Social, Phobia,...</td>\n",
       "      <td>Yes</td>\n",
       "      <td>Anxiety Disorder (Generalized, Social, Phobia,...</td>\n",
       "      <td>1</td>\n",
       "      <td>Rarely</td>\n",
       "      <td>Sometimes</td>\n",
       "      <td>3</td>\n",
       "      <td>Male</td>\n",
       "      <td>Canada</td>\n",
       "      <td>NaN</td>\n",
       "      <td>Canada</td>\n",
       "      <td>NaN</td>\n",
       "      <td>Back-end Developer</td>\n",
       "      <td>Sometimes</td>\n",
       "    </tr>\n",
       "  </tbody>\n",
       "</table>\n",
       "</div>"
      ],
      "text/plain": [
       "     self_employed no_of_employees  ...       work_position  work_remotely\n",
       "564              0         100-500  ...  Back-end Developer      Sometimes\n",
       "656              0  More than 1000  ...  Back-end Developer      Sometimes\n",
       "\n",
       "[2 rows x 63 columns]"
      ]
     },
     "execution_count": 19,
     "metadata": {},
     "output_type": "execute_result"
    }
   ],
   "source": [
    "# To determine the outlier as they need to be handled \n",
    "df_survey[((df_survey['age']<10) | (df_survey['age']>100 ))]"
   ]
  },
  {
   "cell_type": "code",
   "execution_count": null,
   "metadata": {
    "id": "kogxhvDeYtYW"
   },
   "outputs": [],
   "source": [
    "# To determine the mean value of age without the outliers as this value will be used to handle the outliers\n",
    "age_des = df_survey['age'].where((df_survey['age']>10) & (df_survey['age']<100 )).describe()"
   ]
  },
  {
   "cell_type": "code",
   "execution_count": null,
   "metadata": {
    "colab": {
     "base_uri": "https://localhost:8080/"
    },
    "id": "2k0bQSMYdPsj",
    "outputId": "ed303e24-ec97-43e1-c297-981ba4b67d6f"
   },
   "outputs": [
    {
     "name": "stdout",
     "output_type": "stream",
     "text": [
      "34\n"
     ]
    }
   ],
   "source": [
    "mean_age = int(age_des['mean'])\n",
    "print(mean_age)"
   ]
  },
  {
   "cell_type": "code",
   "execution_count": null,
   "metadata": {
    "id": "Q8QWszmRZA1V"
   },
   "outputs": [],
   "source": [
    "# To remove outliers present in age\n",
    "df_survey.loc[(df_survey['age']<10) | (df_survey['age']>100 ),['age']]= mean_age"
   ]
  },
  {
   "cell_type": "code",
   "execution_count": null,
   "metadata": {
    "colab": {
     "base_uri": "https://localhost:8080/"
    },
    "id": "EMum_TX3Ss2H",
    "outputId": "2dd48d38-7725-4ffc-9bf0-ead80afa9ccd"
   },
   "outputs": [
    {
     "data": {
      "text/plain": [
       "count    1433.000000\n",
       "mean       34.106071\n",
       "std         8.280095\n",
       "min        15.000000\n",
       "25%        28.000000\n",
       "50%        33.000000\n",
       "75%        39.000000\n",
       "max        99.000000\n",
       "Name: age, dtype: float64"
      ]
     },
     "execution_count": 23,
     "metadata": {},
     "output_type": "execute_result"
    }
   ],
   "source": [
    "# To check if the NaN are replaced properly or not\n",
    "df_survey['age'].describe()"
   ]
  },
  {
   "cell_type": "markdown",
   "metadata": {
    "id": "vP0JfpzFS8iw"
   },
   "source": [
    "#### **Droping columns with subjective data**"
   ]
  },
  {
   "cell_type": "markdown",
   "metadata": {
    "id": "9jWPp4BXTGG7"
   },
   "source": [
    "Dataset contains some columns that are irrelevant for our analysis. Hence, Dropping them. "
   ]
  },
  {
   "cell_type": "code",
   "execution_count": null,
   "metadata": {
    "colab": {
     "base_uri": "https://localhost:8080/",
     "height": 348
    },
    "id": "Rq4KmomSZu0S",
    "outputId": "5c5e1f16-d66d-4e2e-d440-d4a940479589"
   },
   "outputs": [
    {
     "data": {
      "text/html": [
       "<div>\n",
       "<style scoped>\n",
       "    .dataframe tbody tr th:only-of-type {\n",
       "        vertical-align: middle;\n",
       "    }\n",
       "\n",
       "    .dataframe tbody tr th {\n",
       "        vertical-align: top;\n",
       "    }\n",
       "\n",
       "    .dataframe thead th {\n",
       "        text-align: right;\n",
       "    }\n",
       "</style>\n",
       "<table border=\"1\" class=\"dataframe\">\n",
       "  <thead>\n",
       "    <tr style=\"text-align: right;\">\n",
       "      <th></th>\n",
       "      <th>self_employed</th>\n",
       "      <th>no_of_employees</th>\n",
       "      <th>tech_comp</th>\n",
       "      <th>tech_role_IT</th>\n",
       "      <th>mh_coverage_benefits</th>\n",
       "      <th>mh_avail_options</th>\n",
       "      <th>mh_employer_discussion</th>\n",
       "      <th>mh_resources_provided</th>\n",
       "      <th>mh_anonimity_proctected</th>\n",
       "      <th>mh_leave</th>\n",
       "      <th>mh_emp_discussion_neg_conseq</th>\n",
       "      <th>ph_emp_discussion_neg_conseq</th>\n",
       "      <th>mh_discussion_cowork</th>\n",
       "      <th>mh_discussion_dirsuperv</th>\n",
       "      <th>mh_as_serious_as_ph_employer</th>\n",
       "      <th>mh_obv_neg_conseq_coworkers</th>\n",
       "      <th>mh_medical_coverage</th>\n",
       "      <th>mh_seek_help_loc_onl_resources</th>\n",
       "      <th>mh_diag_reveal_to_clients</th>\n",
       "      <th>mh_diag_reveal_to_clients_impact</th>\n",
       "      <th>mh_diag_reveal_to_cowork</th>\n",
       "      <th>mh_diag_reveal_to_cowork_impact</th>\n",
       "      <th>mh_productivity</th>\n",
       "      <th>mh_work_impact</th>\n",
       "      <th>mh_prev_employer</th>\n",
       "      <th>prev_mh_benefits</th>\n",
       "      <th>prev_mh_benefits_awareness</th>\n",
       "      <th>prev_mh_discussion</th>\n",
       "      <th>prev_mh_resources_provided</th>\n",
       "      <th>prev_mh_anonimity_protection</th>\n",
       "      <th>prev_mh_discussion_neg_conseq</th>\n",
       "      <th>prev_ph_discussion_neg_conseq</th>\n",
       "      <th>prev_mh_discussion_cowork</th>\n",
       "      <th>prev_mh_discussion_dir_superv</th>\n",
       "      <th>prev_mh_eq_ph_employer</th>\n",
       "      <th>prev_mh_conseq_coworkers</th>\n",
       "      <th>ph_future_interview</th>\n",
       "      <th>mh_future_interview</th>\n",
       "      <th>mh_hurt_your_career</th>\n",
       "      <th>mh_neg_view_coworker</th>\n",
       "      <th>mh_sharing_friends_fam</th>\n",
       "      <th>mh_bad_response_workplace</th>\n",
       "      <th>mh_for_others_bad_response_workplace</th>\n",
       "      <th>mh_family_hist</th>\n",
       "      <th>mh_disorder_past</th>\n",
       "      <th>mh_disorder_current</th>\n",
       "      <th>mh_disorder_current_yes_diagnos</th>\n",
       "      <th>mh_disorder_current_maybe_diagnos</th>\n",
       "      <th>mh_diagnos_professional</th>\n",
       "      <th>mh_diagnos_professional_yes</th>\n",
       "      <th>mh_treament_from_professional</th>\n",
       "      <th>mh_effective_treatment_impact_on_work</th>\n",
       "      <th>mh_not_effective_treatment_impact_on_work</th>\n",
       "      <th>age</th>\n",
       "      <th>gender</th>\n",
       "      <th>residence_country</th>\n",
       "      <th>residence_US_state_territory</th>\n",
       "      <th>work_country</th>\n",
       "      <th>work_US_state_territory</th>\n",
       "      <th>work_position</th>\n",
       "      <th>work_remotely</th>\n",
       "    </tr>\n",
       "  </thead>\n",
       "  <tbody>\n",
       "    <tr>\n",
       "      <th>0</th>\n",
       "      <td>0</td>\n",
       "      <td>26-100</td>\n",
       "      <td>1.0</td>\n",
       "      <td>NaN</td>\n",
       "      <td>Not eligible for coverage / N/A</td>\n",
       "      <td>NaN</td>\n",
       "      <td>No</td>\n",
       "      <td>No</td>\n",
       "      <td>I don't know</td>\n",
       "      <td>Very easy</td>\n",
       "      <td>No</td>\n",
       "      <td>No</td>\n",
       "      <td>Maybe</td>\n",
       "      <td>Yes</td>\n",
       "      <td>I don't know</td>\n",
       "      <td>No</td>\n",
       "      <td>NaN</td>\n",
       "      <td>NaN</td>\n",
       "      <td>NaN</td>\n",
       "      <td>NaN</td>\n",
       "      <td>NaN</td>\n",
       "      <td>NaN</td>\n",
       "      <td>NaN</td>\n",
       "      <td>NaN</td>\n",
       "      <td>1</td>\n",
       "      <td>No, none did</td>\n",
       "      <td>N/A (not currently aware)</td>\n",
       "      <td>I don't know</td>\n",
       "      <td>None did</td>\n",
       "      <td>I don't know</td>\n",
       "      <td>Some of them</td>\n",
       "      <td>None of them</td>\n",
       "      <td>Some of my previous employers</td>\n",
       "      <td>Some of my previous employers</td>\n",
       "      <td>I don't know</td>\n",
       "      <td>None of them</td>\n",
       "      <td>Maybe</td>\n",
       "      <td>Maybe</td>\n",
       "      <td>Maybe</td>\n",
       "      <td>No, I don't think they would</td>\n",
       "      <td>Somewhat open</td>\n",
       "      <td>No</td>\n",
       "      <td>NaN</td>\n",
       "      <td>No</td>\n",
       "      <td>Yes</td>\n",
       "      <td>No</td>\n",
       "      <td>NaN</td>\n",
       "      <td>NaN</td>\n",
       "      <td>Yes</td>\n",
       "      <td>Anxiety Disorder (Generalized, Social, Phobia,...</td>\n",
       "      <td>0</td>\n",
       "      <td>Not applicable to me</td>\n",
       "      <td>Not applicable to me</td>\n",
       "      <td>39</td>\n",
       "      <td>Male</td>\n",
       "      <td>United Kingdom</td>\n",
       "      <td>NaN</td>\n",
       "      <td>United Kingdom</td>\n",
       "      <td>NaN</td>\n",
       "      <td>Back-end Developer</td>\n",
       "      <td>Sometimes</td>\n",
       "    </tr>\n",
       "    <tr>\n",
       "      <th>1</th>\n",
       "      <td>0</td>\n",
       "      <td>6-25</td>\n",
       "      <td>1.0</td>\n",
       "      <td>NaN</td>\n",
       "      <td>No</td>\n",
       "      <td>Yes</td>\n",
       "      <td>Yes</td>\n",
       "      <td>Yes</td>\n",
       "      <td>Yes</td>\n",
       "      <td>Somewhat easy</td>\n",
       "      <td>No</td>\n",
       "      <td>No</td>\n",
       "      <td>Maybe</td>\n",
       "      <td>Yes</td>\n",
       "      <td>Yes</td>\n",
       "      <td>No</td>\n",
       "      <td>NaN</td>\n",
       "      <td>NaN</td>\n",
       "      <td>NaN</td>\n",
       "      <td>NaN</td>\n",
       "      <td>NaN</td>\n",
       "      <td>NaN</td>\n",
       "      <td>NaN</td>\n",
       "      <td>NaN</td>\n",
       "      <td>1</td>\n",
       "      <td>Yes, they all did</td>\n",
       "      <td>I was aware of some</td>\n",
       "      <td>None did</td>\n",
       "      <td>Some did</td>\n",
       "      <td>Yes, always</td>\n",
       "      <td>None of them</td>\n",
       "      <td>None of them</td>\n",
       "      <td>No, at none of my previous employers</td>\n",
       "      <td>Some of my previous employers</td>\n",
       "      <td>Some did</td>\n",
       "      <td>None of them</td>\n",
       "      <td>Maybe</td>\n",
       "      <td>No</td>\n",
       "      <td>No, I don't think it would</td>\n",
       "      <td>No, I don't think they would</td>\n",
       "      <td>Somewhat open</td>\n",
       "      <td>No</td>\n",
       "      <td>NaN</td>\n",
       "      <td>Yes</td>\n",
       "      <td>Yes</td>\n",
       "      <td>Yes</td>\n",
       "      <td>Anxiety Disorder (Generalized, Social, Phobia,...</td>\n",
       "      <td>NaN</td>\n",
       "      <td>Yes</td>\n",
       "      <td>Anxiety Disorder (Generalized, Social, Phobia,...</td>\n",
       "      <td>1</td>\n",
       "      <td>Rarely</td>\n",
       "      <td>Sometimes</td>\n",
       "      <td>29</td>\n",
       "      <td>Male</td>\n",
       "      <td>United States of America</td>\n",
       "      <td>Illinois</td>\n",
       "      <td>United States of America</td>\n",
       "      <td>Illinois</td>\n",
       "      <td>Back-end Developer|Front-end Developer</td>\n",
       "      <td>Never</td>\n",
       "    </tr>\n",
       "    <tr>\n",
       "      <th>2</th>\n",
       "      <td>0</td>\n",
       "      <td>6-25</td>\n",
       "      <td>1.0</td>\n",
       "      <td>NaN</td>\n",
       "      <td>No</td>\n",
       "      <td>NaN</td>\n",
       "      <td>No</td>\n",
       "      <td>No</td>\n",
       "      <td>I don't know</td>\n",
       "      <td>Neither easy nor difficult</td>\n",
       "      <td>Maybe</td>\n",
       "      <td>No</td>\n",
       "      <td>Maybe</td>\n",
       "      <td>Maybe</td>\n",
       "      <td>I don't know</td>\n",
       "      <td>No</td>\n",
       "      <td>NaN</td>\n",
       "      <td>NaN</td>\n",
       "      <td>NaN</td>\n",
       "      <td>NaN</td>\n",
       "      <td>NaN</td>\n",
       "      <td>NaN</td>\n",
       "      <td>NaN</td>\n",
       "      <td>NaN</td>\n",
       "      <td>1</td>\n",
       "      <td>No, none did</td>\n",
       "      <td>N/A (not currently aware)</td>\n",
       "      <td>None did</td>\n",
       "      <td>Some did</td>\n",
       "      <td>I don't know</td>\n",
       "      <td>I don't know</td>\n",
       "      <td>Some of them</td>\n",
       "      <td>Some of my previous employers</td>\n",
       "      <td>I don't know</td>\n",
       "      <td>I don't know</td>\n",
       "      <td>Some of them</td>\n",
       "      <td>Yes</td>\n",
       "      <td>Yes</td>\n",
       "      <td>Maybe</td>\n",
       "      <td>Maybe</td>\n",
       "      <td>Somewhat open</td>\n",
       "      <td>Maybe/Not sure</td>\n",
       "      <td>Yes</td>\n",
       "      <td>No</td>\n",
       "      <td>Maybe</td>\n",
       "      <td>No</td>\n",
       "      <td>NaN</td>\n",
       "      <td>NaN</td>\n",
       "      <td>No</td>\n",
       "      <td>NaN</td>\n",
       "      <td>1</td>\n",
       "      <td>Not applicable to me</td>\n",
       "      <td>Not applicable to me</td>\n",
       "      <td>38</td>\n",
       "      <td>Male</td>\n",
       "      <td>United Kingdom</td>\n",
       "      <td>NaN</td>\n",
       "      <td>United Kingdom</td>\n",
       "      <td>NaN</td>\n",
       "      <td>Back-end Developer</td>\n",
       "      <td>Always</td>\n",
       "    </tr>\n",
       "    <tr>\n",
       "      <th>3</th>\n",
       "      <td>1</td>\n",
       "      <td>NaN</td>\n",
       "      <td>NaN</td>\n",
       "      <td>NaN</td>\n",
       "      <td>NaN</td>\n",
       "      <td>NaN</td>\n",
       "      <td>NaN</td>\n",
       "      <td>NaN</td>\n",
       "      <td>NaN</td>\n",
       "      <td>NaN</td>\n",
       "      <td>NaN</td>\n",
       "      <td>NaN</td>\n",
       "      <td>NaN</td>\n",
       "      <td>NaN</td>\n",
       "      <td>NaN</td>\n",
       "      <td>NaN</td>\n",
       "      <td>1.0</td>\n",
       "      <td>Yes, I know several</td>\n",
       "      <td>Sometimes, if it comes up</td>\n",
       "      <td>I'm not sure</td>\n",
       "      <td>Sometimes, if it comes up</td>\n",
       "      <td>I'm not sure</td>\n",
       "      <td>Yes</td>\n",
       "      <td>1-25%</td>\n",
       "      <td>1</td>\n",
       "      <td>Some did</td>\n",
       "      <td>N/A (not currently aware)</td>\n",
       "      <td>None did</td>\n",
       "      <td>None did</td>\n",
       "      <td>I don't know</td>\n",
       "      <td>Some of them</td>\n",
       "      <td>Some of them</td>\n",
       "      <td>Some of my previous employers</td>\n",
       "      <td>Some of my previous employers</td>\n",
       "      <td>I don't know</td>\n",
       "      <td>Some of them</td>\n",
       "      <td>Yes</td>\n",
       "      <td>Maybe</td>\n",
       "      <td>Yes, I think it would</td>\n",
       "      <td>Maybe</td>\n",
       "      <td>Neutral</td>\n",
       "      <td>No</td>\n",
       "      <td>NaN</td>\n",
       "      <td>No</td>\n",
       "      <td>Yes</td>\n",
       "      <td>Yes</td>\n",
       "      <td>Anxiety Disorder (Generalized, Social, Phobia,...</td>\n",
       "      <td>NaN</td>\n",
       "      <td>Yes</td>\n",
       "      <td>Anxiety Disorder (Generalized, Social, Phobia,...</td>\n",
       "      <td>1</td>\n",
       "      <td>Sometimes</td>\n",
       "      <td>Sometimes</td>\n",
       "      <td>43</td>\n",
       "      <td>Male</td>\n",
       "      <td>United Kingdom</td>\n",
       "      <td>NaN</td>\n",
       "      <td>United Kingdom</td>\n",
       "      <td>NaN</td>\n",
       "      <td>Supervisor/Team Lead</td>\n",
       "      <td>Sometimes</td>\n",
       "    </tr>\n",
       "    <tr>\n",
       "      <th>4</th>\n",
       "      <td>0</td>\n",
       "      <td>6-25</td>\n",
       "      <td>0.0</td>\n",
       "      <td>1.0</td>\n",
       "      <td>Yes</td>\n",
       "      <td>Yes</td>\n",
       "      <td>No</td>\n",
       "      <td>No</td>\n",
       "      <td>No</td>\n",
       "      <td>Neither easy nor difficult</td>\n",
       "      <td>Yes</td>\n",
       "      <td>Maybe</td>\n",
       "      <td>Maybe</td>\n",
       "      <td>No</td>\n",
       "      <td>No</td>\n",
       "      <td>No</td>\n",
       "      <td>NaN</td>\n",
       "      <td>NaN</td>\n",
       "      <td>NaN</td>\n",
       "      <td>NaN</td>\n",
       "      <td>NaN</td>\n",
       "      <td>NaN</td>\n",
       "      <td>NaN</td>\n",
       "      <td>NaN</td>\n",
       "      <td>1</td>\n",
       "      <td>I don't know</td>\n",
       "      <td>N/A (not currently aware)</td>\n",
       "      <td>Some did</td>\n",
       "      <td>None did</td>\n",
       "      <td>I don't know</td>\n",
       "      <td>Some of them</td>\n",
       "      <td>Some of them</td>\n",
       "      <td>No, at none of my previous employers</td>\n",
       "      <td>Some of my previous employers</td>\n",
       "      <td>Some did</td>\n",
       "      <td>Some of them</td>\n",
       "      <td>Maybe</td>\n",
       "      <td>No</td>\n",
       "      <td>Yes, I think it would</td>\n",
       "      <td>Maybe</td>\n",
       "      <td>Somewhat open</td>\n",
       "      <td>Yes, I experienced</td>\n",
       "      <td>Yes</td>\n",
       "      <td>Yes</td>\n",
       "      <td>Yes</td>\n",
       "      <td>Yes</td>\n",
       "      <td>Anxiety Disorder (Generalized, Social, Phobia,...</td>\n",
       "      <td>NaN</td>\n",
       "      <td>Yes</td>\n",
       "      <td>Anxiety Disorder (Generalized, Social, Phobia,...</td>\n",
       "      <td>1</td>\n",
       "      <td>Sometimes</td>\n",
       "      <td>Sometimes</td>\n",
       "      <td>43</td>\n",
       "      <td>Female</td>\n",
       "      <td>United States of America</td>\n",
       "      <td>Illinois</td>\n",
       "      <td>United States of America</td>\n",
       "      <td>Illinois</td>\n",
       "      <td>Executive Leadership|Supervisor/Team Lead|Dev ...</td>\n",
       "      <td>Sometimes</td>\n",
       "    </tr>\n",
       "  </tbody>\n",
       "</table>\n",
       "</div>"
      ],
      "text/plain": [
       "   self_employed  ... work_remotely\n",
       "0              0  ...     Sometimes\n",
       "1              0  ...         Never\n",
       "2              0  ...        Always\n",
       "3              1  ...     Sometimes\n",
       "4              0  ...     Sometimes\n",
       "\n",
       "[5 rows x 61 columns]"
      ]
     },
     "execution_count": 24,
     "metadata": {},
     "output_type": "execute_result"
    }
   ],
   "source": [
    "# Droping irrelevant columns as this makes the data more concise\n",
    "df_survey.drop(['ph_future_interview_why_whynot', 'mh_future_interview_why_whynot'],axis=1,inplace=True)\n",
    "df_survey.head()"
   ]
  },
  {
   "cell_type": "markdown",
   "metadata": {
    "id": "b9n0a0TFYZ4s"
   },
   "source": [
    "#### **Indexing**"
   ]
  },
  {
   "cell_type": "markdown",
   "metadata": {
    "id": "WjdzQN4QYwRV"
   },
   "source": [
    "Dataframe is not indexed properly which makes it difficult to understand the data.Hence, Reindexing the dataframes with the starting value as 1 and as"
   ]
  },
  {
   "cell_type": "code",
   "execution_count": null,
   "metadata": {
    "colab": {
     "base_uri": "https://localhost:8080/"
    },
    "id": "NSfGDKE9e33c",
    "outputId": "1e36e7a3-1d11-4d06-a843-91d8c04a7a9a"
   },
   "outputs": [
    {
     "data": {
      "text/plain": [
       "self_employed                   1433\n",
       "no_of_employees                 1146\n",
       "tech_comp                       1146\n",
       "tech_role_IT                     263\n",
       "mh_coverage_benefits            1146\n",
       "                                ... \n",
       "residence_US_state_territory     840\n",
       "work_country                    1433\n",
       "work_US_state_territory          851\n",
       "work_position                   1433\n",
       "work_remotely                   1433\n",
       "Length: 61, dtype: int64"
      ]
     },
     "execution_count": 25,
     "metadata": {},
     "output_type": "execute_result"
    }
   ],
   "source": [
    "# to count the number of rows ad this will be used for indexing\n",
    "df_survey.count(axis='rows')"
   ]
  },
  {
   "cell_type": "code",
   "execution_count": null,
   "metadata": {
    "colab": {
     "base_uri": "https://localhost:8080/"
    },
    "id": "3nZsoxZce5Y-",
    "outputId": "6339779b-f650-4bee-b869-a58c7139284b"
   },
   "outputs": [
    {
     "data": {
      "text/plain": [
       "0    1146\n",
       "1     287\n",
       "Name: self_employed, dtype: int64"
      ]
     },
     "execution_count": 26,
     "metadata": {},
     "output_type": "execute_result"
    }
   ],
   "source": [
    "df_survey['self_employed'].value_counts()"
   ]
  },
  {
   "cell_type": "code",
   "execution_count": null,
   "metadata": {
    "colab": {
     "base_uri": "https://localhost:8080/"
    },
    "id": "jBHC9A72dwo3",
    "outputId": "4d2b3ec9-7d28-4b97-8d5c-d59b8f1119d4"
   },
   "outputs": [
    {
     "data": {
      "text/plain": [
       "1418"
      ]
     },
     "execution_count": 92,
     "metadata": {},
     "output_type": "execute_result"
    }
   ],
   "source": [
    "# Fetching total number of rows\n",
    "df_survey.shape[0]"
   ]
  },
  {
   "cell_type": "code",
   "execution_count": null,
   "metadata": {
    "colab": {
     "base_uri": "https://localhost:8080/"
    },
    "id": "Wx9kkVTLdoZa",
    "outputId": "57c9f4cc-70fc-4dc7-853b-560fc7bba724"
   },
   "outputs": [
    {
     "data": {
      "text/plain": [
       "0          1\n",
       "1          2\n",
       "2          3\n",
       "3          4\n",
       "4          5\n",
       "        ... \n",
       "1428    1429\n",
       "1429    1430\n",
       "1430    1431\n",
       "1431    1432\n",
       "1432    1433\n",
       "Length: 1433, dtype: int64"
      ]
     },
     "execution_count": 28,
     "metadata": {},
     "output_type": "execute_result"
    }
   ],
   "source": [
    "# to assign and set the index starting from 1, to make it more understandable.\n",
    "rank = pd.Series(range(1,df_survey.shape[0]+1))"
   ]
  },
  {
   "cell_type": "code",
   "execution_count": null,
   "metadata": {
    "id": "vhZ4VEF2ggfM"
   },
   "outputs": [],
   "source": [
    "# adding the index column\n",
    "df_survey['rank']=rank"
   ]
  },
  {
   "cell_type": "code",
   "execution_count": null,
   "metadata": {
    "id": "qRhmfDLDeA6E"
   },
   "outputs": [],
   "source": [
    "# setting rank as index\n",
    "df_survey = df_survey.set_index('rank')"
   ]
  },
  {
   "cell_type": "markdown",
   "metadata": {
    "id": "3iw5u9PXHrte"
   },
   "source": [
    "#### **Removing the Irrelevant data**"
   ]
  },
  {
   "cell_type": "markdown",
   "metadata": {
    "id": "Yqmazinzycxd"
   },
   "source": [
    "Our Dataset contains data of employees from both tech and non-tech background.For our analysis we only need tech employees. Hence, we removed data of non- tech employees.\n"
   ]
  },
  {
   "cell_type": "code",
   "execution_count": null,
   "metadata": {
    "id": "CbMmX5y-Hrte"
   },
   "outputs": [],
   "source": [
    "#list of employees from non-tech background\n",
    "non_it_positions_list = df_survey.loc[df_survey['tech_role_IT']==0,:].index"
   ]
  },
  {
   "cell_type": "code",
   "execution_count": null,
   "metadata": {
    "id": "Lo1_xgMnHrte"
   },
   "outputs": [],
   "source": [
    "# dropping the above list records\n",
    "df_survey.drop(non_it_positions_list,inplace=True)"
   ]
  },
  {
   "cell_type": "markdown",
   "metadata": {
    "id": "byCDa5w-zjLM"
   },
   "source": [
    "Also, some of the records had incorrect formatting like range of number was interpreted as date, which we changed to correct format and made the data consistent."
   ]
  },
  {
   "cell_type": "code",
   "execution_count": null,
   "metadata": {
    "id": "t7rj8b-zzfju"
   },
   "outputs": [],
   "source": [
    "# replacing date with range to make data accurate\n",
    "df_survey['no_of_employees'].replace('25-Jun','6-25',inplace=True)\n",
    "df_survey['no_of_employees'].replace('5-Jan','1-5',inplace=True)"
   ]
  },
  {
   "cell_type": "markdown",
   "metadata": {
    "id": "_hZ8aQszHrte"
   },
   "source": [
    "#### **Slicing**"
   ]
  },
  {
   "cell_type": "markdown",
   "metadata": {
    "id": "fmhCCtXe3wXZ"
   },
   "source": [
    "There are two categories of tech employees, one which are self- employeed and other that works for an organization. To make our data more explicit we created separate dataframe for each category."
   ]
  },
  {
   "cell_type": "code",
   "execution_count": null,
   "metadata": {
    "id": "0iShUNsgHrte"
   },
   "outputs": [],
   "source": [
    "# Stating the columns names for both categories inorder to use them for processing\n",
    "self_employed_columns = ['mh_medical_coverage', 'mh_seek_help_loc_onl_resources','mh_diag_reveal_to_clients', 'mh_diag_reveal_to_clients_impact','mh_diag_reveal_to_cowork', 'mh_diag_reveal_to_cowork_impact','mh_productivity', 'mh_work_impact', 'mh_prev_employer','prev_mh_benefits', 'prev_mh_benefits_awareness', 'prev_mh_discussion','prev_mh_resources_provided', 'prev_mh_anonimity_protection','prev_mh_discussion_neg_conseq', 'prev_ph_discussion_neg_conseq','prev_mh_discussion_cowork', 'prev_mh_discussion_dir_superv','prev_mh_eq_ph_employer', 'prev_mh_conseq_coworkers','ph_future_interview', 'mh_future_interview', 'mh_hurt_your_career','mh_neg_view_coworker', 'mh_sharing_friends_fam','mh_bad_response_workplace', 'mh_for_others_bad_response_workplace','mh_family_hist', 'mh_disorder_past', 'mh_disorder_current','mh_disorder_current_yes_diagnos', 'mh_disorder_current_maybe_diagnos','mh_diagnos_professional','mh_diagnos_professional_yes','mh_treament_from_professional','mh_effective_treatment_impact_on_work','mh_not_effective_treatment_impact_on_work', 'age', 'gender','residence_country', 'residence_US_state_territory', 'work_country','work_US_state_territory', 'work_position', 'work_remotely']\n",
    "employed_columns = ['no_of_employees', 'tech_comp', 'tech_role_IT','mh_coverage_benefits', 'mh_avail_options', 'mh_employer_discussion','mh_resources_provided', 'mh_anonimity_proctected', 'mh_leave','mh_emp_discussion_neg_conseq', 'ph_emp_discussion_neg_conseq','mh_discussion_cowork', 'mh_discussion_dirsuperv','mh_as_serious_as_ph_employer', 'mh_obv_neg_conseq_coworkers','mh_prev_employer','prev_mh_benefits', 'prev_mh_benefits_awareness', 'prev_mh_discussion','prev_mh_resources_provided', 'prev_mh_anonimity_protection','prev_mh_discussion_neg_conseq', 'prev_ph_discussion_neg_conseq','prev_mh_discussion_cowork', 'prev_mh_discussion_dir_superv','prev_mh_eq_ph_employer', 'prev_mh_conseq_coworkers','ph_future_interview', 'mh_future_interview', 'mh_hurt_your_career','mh_neg_view_coworker', 'mh_sharing_friends_fam','mh_bad_response_workplace', 'mh_for_others_bad_response_workplace','mh_family_hist', 'mh_disorder_past', 'mh_disorder_current','mh_disorder_current_yes_diagnos', 'mh_disorder_current_maybe_diagnos','mh_diagnos_professional', 'mh_diagnos_professional_yes','mh_treament_from_professional','mh_effective_treatment_impact_on_work','mh_not_effective_treatment_impact_on_work', 'age', 'gender','residence_country', 'residence_US_state_territory', 'work_country','work_US_state_territory', 'work_position', 'work_remotely']"
   ]
  },
  {
   "cell_type": "code",
   "execution_count": null,
   "metadata": {
    "id": "A7bl6f7AHrtf"
   },
   "outputs": [],
   "source": [
    "self_employed_df = df_survey.loc[(df_survey['self_employed']==1),self_employed_columns]"
   ]
  },
  {
   "cell_type": "code",
   "execution_count": null,
   "metadata": {
    "id": "vIqK4Em0Hrtf"
   },
   "outputs": [],
   "source": [
    "employed_df = df_survey.loc[(df_survey['self_employed']==0),employed_columns]"
   ]
  },
  {
   "cell_type": "markdown",
   "metadata": {
    "id": "JV77p7CAS5D5"
   },
   "source": [
    "More data processing can be found in the subsequent section to produce relevant charts and plots. Techniques like slicing, merging were used extensively to make analysis-ready dataframes/lists."
   ]
  },
  {
   "cell_type": "markdown",
   "metadata": {
    "id": "9gSSVkwVOmQh"
   },
   "source": [
    "# **Data Analysis and Visualization**"
   ]
  },
  {
   "cell_type": "markdown",
   "metadata": {
    "id": "vwb8pPAVPnUp"
   },
   "source": [
    "#### **Anonymity And Negative Consequences**\n",
    "\n",
    "It is predicted that most of the employees are uncomfortable when it come to sharing issues related to their mental health. They are unsure if their identity will be kept anonymous or if dicussing this with their employer will have negative impact on their career.\n",
    "\n",
    "So, let's see if this is really the case.\n"
   ]
  },
  {
   "cell_type": "markdown",
   "metadata": {
    "id": "B9JNU2Z9hkUA"
   },
   "source": [
    "We analyzed relevant columns present in the survey and calculated the proportion of people answering about their awarness related to anonimity while sharing issues related to mental health. This will help us understand thier menatality related to these concerns.\n",
    "\n",
    "\n",
    "\n",
    "\n"
   ]
  },
  {
   "cell_type": "code",
   "execution_count": null,
   "metadata": {
    "id": "STiDwcfMPJOu"
   },
   "outputs": [],
   "source": [
    "# Proportion of people and thier views on anonimity\n",
    "anon_ratio = employed_df['mh_anonimity_proctected'].value_counts().apply(lambda x: x/employed_df['mh_anonimity_proctected'].shape[0] * 100).to_list()\n",
    "anon_labels = employed_df['mh_anonimity_proctected'].value_counts().index.to_list()"
   ]
  },
  {
   "cell_type": "code",
   "execution_count": null,
   "metadata": {
    "id": "tQuk_TcLSjKF"
   },
   "outputs": [],
   "source": [
    "# Proportion of people and thier views on negative consequences\n",
    "neg_conseq_ratio = employed_df['mh_emp_discussion_neg_conseq'].value_counts().apply(lambda x: x/employed_df['mh_emp_discussion_neg_conseq'].shape[0] * 100).to_list()\n",
    "neg_conseq_labels = employed_df['mh_emp_discussion_neg_conseq'].value_counts().index.to_list()"
   ]
  },
  {
   "cell_type": "code",
   "execution_count": null,
   "metadata": {
    "colab": {
     "base_uri": "https://localhost:8080/",
     "height": 338
    },
    "id": "_C5TYA8jSkHo",
    "outputId": "397cd2b1-04d1-44c9-fde5-8bb3ba8f69ab"
   },
   "outputs": [
    {
     "data": {
      "image/png": "[encoded data removed]",
      "text/plain": [
       "<Figure size 648x360 with 2 Axes>"
      ]
     },
     "metadata": {},
     "output_type": "display_data"
    }
   ],
   "source": [
    "# Plotting pie chart for better understanding of these concerns among employees\n",
    "fig = plt.figure(figsize=(9, 5))\n",
    "ax1 = fig.add_subplot(121)\n",
    "ax2 = fig.add_subplot(122)\n",
    "fig.subplots_adjust(left=1,right=3,wspace=0)\n",
    "\n",
    "# pie chart parameters\n",
    "ratios = anon_ratio\n",
    "labels = anon_labels\n",
    "explode = [0, 0.1, 0]\n",
    "colors=['gold','mediumpurple','salmon'] #idk, yes, no\n",
    "# rotate so that first wedge is split by the x-axis\n",
    "angle = -180 * ratios[0]\n",
    "patches, texts, pcts = ax1.pie(ratios, autopct='%1.1f%%', startangle=angle,\n",
    "        labels=labels, colors=colors, explode=explode, textprops={'fontsize':14})\n",
    "plt.setp(pcts, color='white', fontsize=12,fontweight='bold')\n",
    "\n",
    "ax1.set_title('Protection Against anonymity',fontdict={'fontsize':18,'fontweight':550}, pad=20)\n",
    "ax1.axis('equal')\n",
    "# pie chart parameters\n",
    "ratios = neg_conseq_ratio\n",
    "labels = ['I don\\'t know','No','Yes']\n",
    "explode = [0, 0, 0.1]\n",
    "colors=['gold','salmon','mediumpurple'] #maybe, no, yes\n",
    "# rotate so that first wedge is split by the x-axis\n",
    "angle = -90 * ratios[0]\n",
    "patches, texts, pcts = ax2.pie(ratios, autopct='%1.1f%%', startangle=angle,\n",
    "        labels=labels,colors=colors, explode=explode,textprops={'fontsize':14})\n",
    "plt.setp(pcts, color='white', fontsize=12,fontweight='bold')\n",
    "\n",
    "\n",
    "ax2.set_title('Negative Consequences on discussion with Employer',fontdict={'fontsize':16,'fontweight':550}, pad=20)\n",
    "ax2.axis('equal')\n",
    "plt.show()"
   ]
  },
  {
   "cell_type": "markdown",
   "metadata": {
    "id": "jVZaHJtLhNKY"
   },
   "source": [
    "#### **Observations and Inferences**\n",
    " \n",
    "Needless to say very few employees are sure if their anonymity is protected (**7.3%** ). Majority of employees are not sure if their anonymity is protected (**65.1%**).\n",
    "However, majority of people believe that discussing with employer won't result in negative consequences.\n",
    "We can infer that when it comes to talking about mental health issues, most employees feel their anonymity isn't protected, making it most likely that they aren't ready to share sensitive personal information about their mental wellness. This essentially silences employees in the workplace, which is not ideal for employers looking to cultivate a satisfiable environment.\n",
    "Employees also fear that there might be negative consequences to their shared issues like judgement and shaming; this in turn might affect their personal surrounding and productivity in their workplace.\n"
   ]
  },
  {
   "cell_type": "markdown",
   "metadata": {
    "id": "GZZy3jFkPrvA"
   },
   "source": [
    "<hr>"
   ]
  },
  {
   "cell_type": "markdown",
   "metadata": {
    "id": "JsM8xxJtQq1t"
   },
   "source": [
    "### **Mental disorder within different organizations - In terms of Size**"
   ]
  },
  {
   "cell_type": "markdown",
   "metadata": {
    "id": "SpuuUzo9oR5K"
   },
   "source": [
    "Now we want to analyse how many employees are facing mental health issues and does the size of organization has any impact on the mental health of employees. \n",
    "We want to observe if employees belonging to big firms are more prone to mental disorder or employees belonging to smaller firms are less prone to mental disorder?\n",
    "Our main question is: How does the size of an organization affect the proportion of employees suffering from a Mental Health Disorder?"
   ]
  },
  {
   "cell_type": "code",
   "execution_count": null,
   "metadata": {
    "colab": {
     "base_uri": "https://localhost:8080/"
    },
    "id": "ZHG8PEHnuLeo",
    "outputId": "19a10bb7-0468-4ce2-c728-9bf783a1d86b"
   },
   "outputs": [
    {
     "data": {
      "text/plain": [
       "Yes      445\n",
       "No       435\n",
       "Maybe    251\n",
       "Name: mh_disorder_current, dtype: int64"
      ]
     },
     "execution_count": 40,
     "metadata": {},
     "output_type": "execute_result"
    }
   ],
   "source": [
    "# To calculate employees having mental issues as this will be used for further. analysis\n",
    "df_mhd_employed = employed_df.loc[((employed_df['mh_disorder_current']=='Yes')),:]\n",
    "employed_df['mh_disorder_current'].value_counts()"
   ]
  },
  {
   "cell_type": "code",
   "execution_count": null,
   "metadata": {
    "id": "tATDJOjcuLeq"
   },
   "outputs": [],
   "source": [
    "# To calculate proportion of employees facing mental health disorder\n",
    "emp_disorder_ratio = (employed_df['mh_disorder_current'].value_counts()/employed_df['mh_disorder_current'].count()).to_list()"
   ]
  },
  {
   "cell_type": "code",
   "execution_count": null,
   "metadata": {
    "id": "UaP1TTthuLes"
   },
   "outputs": [],
   "source": [
    "# To calculate no of employees in an organization and proportion of employees facing MHD belonging to different organization size.\n",
    "column_chart_df = employed_df.loc[(employed_df['mh_disorder_current']=='Yes'),:].groupby('no_of_employees')['mh_disorder_current'].count().reset_index().sort_values(by='no_of_employees')"
   ]
  },
  {
   "cell_type": "code",
   "execution_count": null,
   "metadata": {
    "id": "mKiORgS6uLes"
   },
   "outputs": [],
   "source": [
    "column_chart_df['no_of_employees'] = column_chart_df['no_of_employees'].astype('str')"
   ]
  },
  {
   "cell_type": "code",
   "execution_count": null,
   "metadata": {
    "id": "MKcDvp0BuLet"
   },
   "outputs": [],
   "source": [
    "total_disorder_yes = column_chart_df['mh_disorder_current'].sum()"
   ]
  },
  {
   "cell_type": "code",
   "execution_count": null,
   "metadata": {
    "id": "xAJEmloIuLet"
   },
   "outputs": [],
   "source": [
    "# \n",
    "org_list = [column_chart_df.iloc[5,0],column_chart_df.iloc[3,0],column_chart_df.iloc[1,0],column_chart_df.iloc[2,0],column_chart_df.iloc[4,0],column_chart_df.iloc[0,0]]\n",
    "emp_dis_value_list = [column_chart_df.iloc[5,1],column_chart_df.iloc[3,1],column_chart_df.iloc[1,1],column_chart_df.iloc[2,1],column_chart_df.iloc[4,1],column_chart_df.iloc[0,1]]"
   ]
  },
  {
   "cell_type": "code",
   "execution_count": null,
   "metadata": {
    "id": "BJIUfrwzuLeu"
   },
   "outputs": [],
   "source": [
    "# caluclating disorder ration for employees\n",
    "emp_dis_ratio_list = [val/total_disorder_yes for val in emp_dis_value_list]"
   ]
  },
  {
   "cell_type": "code",
   "execution_count": null,
   "metadata": {
    "colab": {
     "base_uri": "https://localhost:8080/",
     "height": 379
    },
    "id": "iNFpYRAruLeu",
    "outputId": "1273c6a7-5b1d-469f-bf6a-aee77b3df2e1"
   },
   "outputs": [
    {
     "data": {
      "image/png": "[encoded data removed]",
      "text/plain": [
       "<Figure size 648x432 with 2 Axes>"
      ]
     },
     "metadata": {},
     "output_type": "display_data"
    }
   ],
   "source": [
    "# To understand how many employess face mental health issues and in terms of size what kind of organization they belong to through visualization \n",
    "import matplotlib.pyplot as plt\n",
    "from matplotlib.patches import ConnectionPatch\n",
    "import numpy as np\n",
    "from colour import Color\n",
    "\n",
    "# make figure and assign axis objects\n",
    "fig = plt.figure(figsize=(9, 6))\n",
    "ax1 = fig.add_subplot(121)\n",
    "ax2 = fig.add_subplot(122)\n",
    "fig.subplots_adjust(wspace=0)\n",
    "\n",
    "# pie chart parameters\n",
    "ratios = emp_disorder_ratio\n",
    "labels = ['Yes', 'No', 'Maybe']\n",
    "explode = [0.1, 0, 0]\n",
    "colors=['mediumpurple','salmon','gold']\n",
    "# rotate so that first wedge is split by the x-axis\n",
    "angle = -180 * ratios[0]\n",
    "patches, texts, pcts = ax1.pie(ratios, autopct='%1.1f%%', startangle=angle,\n",
    "        labels=labels,colors=colors, explode=explode,textprops={'fontsize':13})\n",
    "plt.setp(pcts, color='white', fontweight='bold')\n",
    "\n",
    "# ax1.set_title('Employees suffering from MHD',fontdict={'fontsize':14,'fontweight':550},pad=20)\n",
    "\n",
    "# bar chart parameters\n",
    "xpos = 0\n",
    "bottom = 0\n",
    "ratios = emp_dis_ratio_list\n",
    "width = .2\n",
    "colors = [[0.2, .1, .8],[0.2, .2, .8],[0.2, .3, .8],[0.2, .4, .8],[0.2, .5, .8],[0.2, .7, .8]]\n",
    "\n",
    "for j in range(len(ratios)):\n",
    "    height = ratios[j]\n",
    "    ax2.bar(xpos, height, width, bottom=bottom, color=colors[j],label=org_list[j])\n",
    "    ypos = bottom + ax2.patches[j].get_height() / 2 - 0.014\n",
    "    bottom += height\n",
    "    ax2.text(xpos, ypos, \"%d%%\" % (ax2.patches[j].get_height() * 100),\n",
    "             ha='center', color='white', fontweight='bold')\n",
    "\n",
    "ax2.set_title('Size of Organization',fontdict={'fontsize':14,'fontweight':550},pad=10)\n",
    "# ax2.legend(org_list,bbox_to_anchor=(0.7,0.9))\n",
    "handles, lbls = ax2.get_legend_handles_labels()\n",
    "# print(ax2.get_legend_handles_labels())\n",
    "ax2.legend(handles[::-1], lbls[::-1], bbox_to_anchor=(0.6,0.65),title='Size of Organization')\n",
    "ax2.axis('off')\n",
    "ax2.set_xlim(- 2.5 * width, 2.5 * width)\n",
    "\n",
    "# use ConnectionPatch to draw lines between the two plots\n",
    "# get the wedge data\n",
    "theta1, theta2 = ax1.patches[0].theta1, ax1.patches[0].theta2\n",
    "center, r = ax1.patches[0].center, ax1.patches[0].r\n",
    "bar_height = sum([item.get_height() for item in ax2.patches])\n",
    "\n",
    "# draw top connecting line\n",
    "x = r * np.cos(np.pi / 180 * theta2) + center[0]\n",
    "y = np.sin(np.pi / 180 * theta2) + center[1]\n",
    "con = ConnectionPatch(xyA=(- width / 2, bar_height), xyB=(x, y),\n",
    "                      coordsA=\"data\", coordsB=\"data\", axesA=ax2, axesB=ax1)\n",
    "con.set_color('mediumpurple')\n",
    "con.set_linewidth(2)\n",
    "ax2.add_artist(con)\n",
    "\n",
    "# draw bottom connecting line\n",
    "x = r * np.cos(np.pi / 180 * theta1) + center[0]\n",
    "y = np.sin(np.pi / 180 * theta1) + center[1]\n",
    "con = ConnectionPatch(xyA=(- width / 2, 0), xyB=(x, y), coordsA=\"data\",\n",
    "                      coordsB=\"data\", axesA=ax2, axesB=ax1)\n",
    "con.set_color('mediumpurple')\n",
    "ax2.add_artist(con)\n",
    "con.set_linewidth(2)\n",
    "plt.title('Employees suffering from MHD in different sized organizations',fontdict={'fontsize':16,'fontweight':550},pad=10)\n",
    "plt.show()"
   ]
  },
  {
   "cell_type": "markdown",
   "metadata": {
    "id": "Rp05QvdutNl3"
   },
   "source": [
    "#### **Observations and Inferences**\n",
    "\n",
    "From the above pie chart we can see that **39.3%** employees are facing mental health issues and there are **22.2%** people who are not sure if they have mental disorder or not. \n",
    "\n",
    "The bar chart indicates that the employees that face the most mental issues are from growing organization **(26-100)**, followed by larger organizations **(More than 1000)** and the least number of mental disorder employees are from small firms **(1-5)**. This might be due to difference in the workload and competition at big firms, leading to more stressed employees. These employees who are constantly under pressure when working for a big company subsequently leads to these employees more likely to be facing mental disorders.\n",
    "\n",
    "Thus, there is a chance that in future as well people belonging to big firms are more prone to mental issues as the workload and competition is going to only increase within this firms."
   ]
  },
  {
   "cell_type": "markdown",
   "metadata": {
    "id": "c5efKhFTRB20"
   },
   "source": [
    "<hr>"
   ]
  },
  {
   "cell_type": "markdown",
   "metadata": {
    "id": "Ee3gRr2xHrtf"
   },
   "source": [
    "### **Most common type of Mental Heath Disorders among Tech employees**"
   ]
  },
  {
   "cell_type": "markdown",
   "metadata": {
    "id": "h-vM7zp0ZyXA"
   },
   "source": [
    "As a large portion of employees are facing mental disorder, we wanted to know if there is any particular disorder that most of the employees are suffering from. \n",
    "\n",
    "We analysed the column containing all the disorders. As there were alot of diorders mentioned by the employees we categorized all the sub catorgies of disorder into a broader category.\n",
    "\n",
    "This can help employers to decide which areas to focus on while installing mental health campaigns/seminars and what improvements can be done in their current practices to reduce disorders amongst employees. \n"
   ]
  },
  {
   "cell_type": "code",
   "execution_count": null,
   "metadata": {
    "id": "QWjsaM7nHrtf"
   },
   "outputs": [],
   "source": [
    "# To count the number of disorder in each sub category\n",
    "disorderCounts = dict(df_survey['mh_diagnos_professional_yes'].value_counts())"
   ]
  },
  {
   "cell_type": "code",
   "execution_count": null,
   "metadata": {
    "id": "n0ZJRAM-Hrtg"
   },
   "outputs": [],
   "source": [
    "all_disorders = {}\n",
    "for disorders, count in disorderCounts.items():\n",
    "    disordersList = disorders.split('|')\n",
    "    for disorder in disordersList:\n",
    "        disorder = disorder.split(' (')[0]\n",
    "        all_disorders[disorder] = all_disorders.get(disorder,0) + count"
   ]
  },
  {
   "cell_type": "code",
   "execution_count": null,
   "metadata": {
    "id": "rmu_mvBDHrtg"
   },
   "outputs": [],
   "source": [
    "disorders_df = pd.DataFrame(all_disorders.items(),columns=['Disorders','Counts'])"
   ]
  },
  {
   "cell_type": "code",
   "execution_count": null,
   "metadata": {
    "id": "6YNjE0OLHrtg"
   },
   "outputs": [],
   "source": [
    "# creating list of broader categories of disorders\n",
    "dis1 = ['Mood Disorder','Depression']\n",
    "dis2 = ['Anxiety Disorder','Burn out']\n",
    "dis3 = ['Attention Deficit Hyperactivity Disorder','attention deficit disorder','Attention Deficit Disorder','ADD','PDD-NOS']\n",
    "dis4 = ['Post-traumatic Stress Disorder','posttraumatic stress disourder']\n",
    "dis5 = ['Obsessive-Compulsive Disorder']\n",
    "dis6 = ['Stress Response Syndromes']\n",
    "dis7 = ['Psychotic Disorder']\n",
    "dis8 = ['Eating Disorder']\n",
    "dis9 = ['Substance Use Disorder']\n",
    "dis10 = ['Addictive Disorder']\n",
    "dis11 = ['Personality Disorder','Schizotypal Personality Disorder','Dissociative Disorder','Gender Identity Disorder','Gender Dysphoria']\n",
    "dis12 = ['MCD','Intimate Disorder','Suicidal Ideation','Seasonal Affective Disorder']\n",
    "dis13 = ['Autism Spectrum Disorder','Autism - while not a \"mental illness\", still greatly affects how I handle anxiety','Autism','autism spectrum disorder','Aspergers','Asperger Syndrome']"
   ]
  },
  {
   "cell_type": "code",
   "execution_count": null,
   "metadata": {
    "id": "64hCq2vyHrth"
   },
   "outputs": [],
   "source": [
    "disorders_df['Disorders'].replace(dis1,'Mood Disorder',inplace=True)\n",
    "disorders_df['Disorders'].replace(dis2,'Anxiety Disorder',inplace=True)\n",
    "disorders_df['Disorders'].replace(dis3,'Attention Deficit Hyperactivity Disorder',inplace=True)\n",
    "disorders_df['Disorders'].replace(dis4,'Post-traumatic Stress Disorder',inplace=True)\n",
    "disorders_df['Disorders'].replace(dis5,'Obsessive-Compulsive Disorder',inplace=True)\n",
    "disorders_df['Disorders'].replace(dis6,'Stress Response Syndromes',inplace=True)\n",
    "disorders_df['Disorders'].replace(dis7,'Psychotic Disorder',inplace=True)\n",
    "disorders_df['Disorders'].replace(dis8,'Eating Disorder',inplace=True)\n",
    "disorders_df['Disorders'].replace(dis9,'Substance Use Disorder',inplace=True)\n",
    "disorders_df['Disorders'].replace(dis10,'Addictive Disorder',inplace=True)\n",
    "disorders_df['Disorders'].replace(dis11,'Personality Disorder',inplace=True)\n",
    "disorders_df['Disorders'].replace(dis12,'Others',inplace=True)\n",
    "disorders_df['Disorders'].replace(dis13,'Autism Disorder',inplace=True)"
   ]
  },
  {
   "cell_type": "code",
   "execution_count": null,
   "metadata": {
    "colab": {
     "base_uri": "https://localhost:8080/",
     "height": 457
    },
    "id": "AifmlqTuHrti",
    "outputId": "63351130-ddd5-4dc7-c6e6-0eb557e4ef00"
   },
   "outputs": [
    {
     "data": {
      "text/html": [
       "<div>\n",
       "<style scoped>\n",
       "    .dataframe tbody tr th:only-of-type {\n",
       "        vertical-align: middle;\n",
       "    }\n",
       "\n",
       "    .dataframe tbody tr th {\n",
       "        vertical-align: top;\n",
       "    }\n",
       "\n",
       "    .dataframe thead th {\n",
       "        text-align: right;\n",
       "    }\n",
       "</style>\n",
       "<table border=\"1\" class=\"dataframe\">\n",
       "  <thead>\n",
       "    <tr style=\"text-align: right;\">\n",
       "      <th></th>\n",
       "      <th>Disorders</th>\n",
       "      <th>Counts</th>\n",
       "    </tr>\n",
       "  </thead>\n",
       "  <tbody>\n",
       "    <tr>\n",
       "      <th>5</th>\n",
       "      <td>Mood Disorder</td>\n",
       "      <td>526</td>\n",
       "    </tr>\n",
       "    <tr>\n",
       "      <th>1</th>\n",
       "      <td>Anxiety Disorder</td>\n",
       "      <td>370</td>\n",
       "    </tr>\n",
       "    <tr>\n",
       "      <th>2</th>\n",
       "      <td>Attention Deficit Hyperactivity Disorder</td>\n",
       "      <td>138</td>\n",
       "    </tr>\n",
       "    <tr>\n",
       "      <th>9</th>\n",
       "      <td>Post-traumatic Stress Disorder</td>\n",
       "      <td>70</td>\n",
       "    </tr>\n",
       "    <tr>\n",
       "      <th>6</th>\n",
       "      <td>Obsessive-Compulsive Disorder</td>\n",
       "      <td>40</td>\n",
       "    </tr>\n",
       "    <tr>\n",
       "      <th>8</th>\n",
       "      <td>Personality Disorder</td>\n",
       "      <td>40</td>\n",
       "    </tr>\n",
       "    <tr>\n",
       "      <th>11</th>\n",
       "      <td>Stress Response Syndromes</td>\n",
       "      <td>31</td>\n",
       "    </tr>\n",
       "    <tr>\n",
       "      <th>12</th>\n",
       "      <td>Substance Use Disorder</td>\n",
       "      <td>26</td>\n",
       "    </tr>\n",
       "    <tr>\n",
       "      <th>4</th>\n",
       "      <td>Eating Disorder</td>\n",
       "      <td>18</td>\n",
       "    </tr>\n",
       "    <tr>\n",
       "      <th>0</th>\n",
       "      <td>Addictive Disorder</td>\n",
       "      <td>15</td>\n",
       "    </tr>\n",
       "    <tr>\n",
       "      <th>3</th>\n",
       "      <td>Autism Disorder</td>\n",
       "      <td>8</td>\n",
       "    </tr>\n",
       "    <tr>\n",
       "      <th>10</th>\n",
       "      <td>Psychotic Disorder</td>\n",
       "      <td>8</td>\n",
       "    </tr>\n",
       "    <tr>\n",
       "      <th>7</th>\n",
       "      <td>Others</td>\n",
       "      <td>4</td>\n",
       "    </tr>\n",
       "  </tbody>\n",
       "</table>\n",
       "</div>"
      ],
      "text/plain": [
       "                                   Disorders  Counts\n",
       "5                              Mood Disorder     526\n",
       "1                           Anxiety Disorder     370\n",
       "2   Attention Deficit Hyperactivity Disorder     138\n",
       "9             Post-traumatic Stress Disorder      70\n",
       "6              Obsessive-Compulsive Disorder      40\n",
       "8                       Personality Disorder      40\n",
       "11                 Stress Response Syndromes      31\n",
       "12                    Substance Use Disorder      26\n",
       "4                            Eating Disorder      18\n",
       "0                         Addictive Disorder      15\n",
       "3                            Autism Disorder       8\n",
       "10                        Psychotic Disorder       8\n",
       "7                                     Others       4"
      ]
     },
     "execution_count": 53,
     "metadata": {},
     "output_type": "execute_result"
    }
   ],
   "source": [
    "disorders_df = disorders_df.groupby('Disorders').sum().reset_index().sort_values(by='Counts',ascending=False)\n",
    "disorders_df"
   ]
  },
  {
   "cell_type": "code",
   "execution_count": null,
   "metadata": {
    "colab": {
     "base_uri": "https://localhost:8080/",
     "height": 646
    },
    "id": "5ywCHBs8VYH3",
    "outputId": "6db03614-0396-4021-d16f-18739d793914"
   },
   "outputs": [
    {
     "data": {
      "image/png": "[encoded data removed]",
      "text/plain": [
       "<Figure size 1080x720 with 1 Axes>"
      ]
     },
     "metadata": {
      "needs_background": "light"
     },
     "output_type": "display_data"
    }
   ],
   "source": [
    "# plotted horizontal bar graph to analyze which disorder is most prominent among the employees\n",
    "plt.figure(figsize=(15,10))\n",
    "sns.set_style('whitegrid')\n",
    "axes = sns.barplot(y=disorders_df.Disorders, x=disorders_df.Counts, palette='GnBu_r', orient='h')\n",
    "axes.set_title('Mental Health Disorders among Tech Employees',fontdict={'fontsize':20, 'fontweight': 550, 'color': 'black'}, pad=20 )\n",
    "axes.set(xlabel='Frequency of Disorder', ylabel='Types of Disorders')\n",
    "axes.xaxis.label.set_size(15)\n",
    "axes.yaxis.label.set_size(15)\n",
    "for bar, count in zip(axes.patches, disorders_df.Counts): \n",
    "    text_x = bar.get_width() + 8\n",
    "    text_y = bar.get_y() + bar.get_height()\n",
    "    text =  count\n",
    "    axes.text(text_x, text_y, text,fontsize=11, ha='center', va='bottom')\n",
    "axes.grid(False)"
   ]
  },
  {
   "cell_type": "markdown",
   "metadata": {
    "id": "J5LKDbtzeC8L"
   },
   "source": [
    "#### **Observations and Inferences**\n",
    "\n",
    "From the above analysis we can see that the most employees are facing Mood Disorder **(526)**. One of the reasons for this is that these disorders can be related to depression based on various conditions like academical stress, workplace stress, etc. As people live in a constant fear of being judged they do not open up about their difficulties. Specially, in a work environment, showing weakness is something that employees avoid as this can be a disadvantage to them in their workplace. \n",
    "\n",
    "We can draw a few inferences from this information:\n",
    "- People do not open up easily to others and find it difficult to share their issues related to mental health.\n",
    "- Most employers have resources that are not helpful to the employees in improving their mental health and there is very little impact by the practices set by employers.\n",
    "\n",
    "\n",
    "The second most common disorder is Anxiety Disorder **(370)** . With new technologies being used in organizations, many employees are anxious about their jobs; if they are adding any value to the organization and being efficient.\n",
    "\n",
    "With constant pressure and competition in today's work place, there is a higher chance that in the future as well that most of the employees will be suffering from these two disorders *(Mood Disorder, Anxiety Disorder)*.\n"
   ]
  },
  {
   "cell_type": "markdown",
   "metadata": {
    "id": "HzotLcbA9QJ3"
   },
   "source": [
    "### **Finding the employee postion suffering from MHD**"
   ]
  },
  {
   "cell_type": "markdown",
   "metadata": {
    "id": "zQ8QHhB7jh_Z"
   },
   "source": [
    "Now, lets see if employees belonging to certain positions are more likely to suffer from mental issues depending on the workload they have.\n"
   ]
  },
  {
   "cell_type": "code",
   "execution_count": null,
   "metadata": {
    "id": "7tilBehsVYOd"
   },
   "outputs": [],
   "source": [
    "# To count employees having menatl disorders according to their position\n",
    "work_pos_dict = dict(df_survey.loc[df_survey['mh_diagnos_professional']=='Yes',('work_position')].value_counts())"
   ]
  },
  {
   "cell_type": "code",
   "execution_count": null,
   "metadata": {
    "id": "9GOrf_NpVYSE"
   },
   "outputs": [],
   "source": [
    "all_work_pos = {}"
   ]
  },
  {
   "cell_type": "code",
   "execution_count": null,
   "metadata": {
    "id": "RAO-TQsnVYbh"
   },
   "outputs": [],
   "source": [
    "for work_pos, count in work_pos_dict.items():\n",
    "    workPosList = work_pos.split('|')\n",
    "    for postion in workPosList:\n",
    "        all_work_pos[postion] = all_work_pos.get(postion,0) + count"
   ]
  },
  {
   "cell_type": "code",
   "execution_count": null,
   "metadata": {
    "colab": {
     "base_uri": "https://localhost:8080/",
     "height": 237
    },
    "id": "34YuxBj6VYeV",
    "outputId": "d41434e1-3518-4082-e911-019bfd1ee239"
   },
   "outputs": [
    {
     "data": {
      "text/html": [
       "<div>\n",
       "<style scoped>\n",
       "    .dataframe tbody tr th:only-of-type {\n",
       "        vertical-align: middle;\n",
       "    }\n",
       "\n",
       "    .dataframe tbody tr th {\n",
       "        vertical-align: top;\n",
       "    }\n",
       "\n",
       "    .dataframe thead th {\n",
       "        text-align: right;\n",
       "    }\n",
       "</style>\n",
       "<table border=\"1\" class=\"dataframe\">\n",
       "  <thead>\n",
       "    <tr style=\"text-align: right;\">\n",
       "      <th></th>\n",
       "      <th>Counts</th>\n",
       "    </tr>\n",
       "    <tr>\n",
       "      <th>Position</th>\n",
       "      <th></th>\n",
       "    </tr>\n",
       "  </thead>\n",
       "  <tbody>\n",
       "    <tr>\n",
       "      <th>Back-end Developer</th>\n",
       "      <td>355</td>\n",
       "    </tr>\n",
       "    <tr>\n",
       "      <th>Front-end Developer</th>\n",
       "      <td>240</td>\n",
       "    </tr>\n",
       "    <tr>\n",
       "      <th>Supervisor/Team Lead</th>\n",
       "      <td>135</td>\n",
       "    </tr>\n",
       "    <tr>\n",
       "      <th>DevOps/SysAdmin</th>\n",
       "      <td>132</td>\n",
       "    </tr>\n",
       "    <tr>\n",
       "      <th>Other</th>\n",
       "      <td>96</td>\n",
       "    </tr>\n",
       "  </tbody>\n",
       "</table>\n",
       "</div>"
      ],
      "text/plain": [
       "                      Counts\n",
       "Position                    \n",
       "Back-end Developer       355\n",
       "Front-end Developer      240\n",
       "Supervisor/Team Lead     135\n",
       "DevOps/SysAdmin          132\n",
       "Other                     96"
      ]
     },
     "execution_count": 58,
     "metadata": {},
     "output_type": "execute_result"
    }
   ],
   "source": [
    "work_positions_df = pd.DataFrame(all_work_pos.items(),columns=['Position','Counts'])\n",
    "work_positions_df.sort_values(by='Counts',ascending=False).head(5).set_index('Position')"
   ]
  },
  {
   "cell_type": "markdown",
   "metadata": {
    "id": "oxLY60YPkjNb"
   },
   "source": [
    "#### **Observations and Inferences**\n",
    "We can see that employees working as **Back-end Developer and Front-end Developer (355 and 240)** are suffering for mental issues the most. One of the reason for this might be that they work directly with the clients and are answerable to them. Thus, being in constant stress and more time spent working with computer applications involving stressful tasks. \n",
    "\n",
    "Followed by **Supervisor/Team Lead (135)** as they are resposnsible to manage a team and provide diverables on time. They are overlooking alot of project which increase their pressure.\n",
    "\n",
    "\n"
   ]
  },
  {
   "cell_type": "markdown",
   "metadata": {
    "id": "aqpWnODY2PdM"
   },
   "source": [
    "<hr>"
   ]
  },
  {
   "cell_type": "markdown",
   "metadata": {
    "id": "dKDuN65_mhPZ"
   },
   "source": [
    "### **Distribution of Mental Health Disorders as per the age of employees**\n",
    "Here we perform statistical analysis to undertsand the distribution of age with respect to mental health disorders. This can help us to understand which age groups are affected the most and gain some insights on why the specific age groups are affected the most.\n",
    "We use a histogram to present this distribution as it delivers a statistacal outcome related to central tendencies and variability of our data. "
   ]
  },
  {
   "cell_type": "code",
   "execution_count": null,
   "metadata": {
    "id": "nRsYedS0Skrw"
   },
   "outputs": [],
   "source": [
    "disorder_age_list = df_survey.loc[((df_survey['mh_disorder_current'] =='Yes') | (df_survey['mh_disorder_current'] =='Maybe')),('age')].to_list()"
   ]
  },
  {
   "cell_type": "code",
   "execution_count": null,
   "metadata": {
    "colab": {
     "base_uri": "https://localhost:8080/",
     "height": 646
    },
    "id": "78iJ3Z7pSpn_",
    "outputId": "a1a5da91-6e0a-4035-dad4-fa71dde2ee0a"
   },
   "outputs": [
    {
     "data": {
      "image/png": "[encoded data removed]",
      "text/plain": [
       "<Figure size 864x720 with 1 Axes>"
      ]
     },
     "metadata": {},
     "output_type": "display_data"
    }
   ],
   "source": [
    "# Plotted histogram to see which age group employess are more prone to having mental issuse.\n",
    "plt.figure(figsize=(12, 10))\n",
    "hist=sns.histplot(data=disorder_age_list,color='mediumpurple',edgecolor='dimgray',\n",
    "              linewidth=2,bins=10)\n",
    "hist.set_title('Mental Health Disorder among different Age Groups',fontdict={'fontsize':20, 'fontweight':550, 'color': 'black'}, pad=20 )\n",
    "hist.set(xlabel='Employee Age', ylabel='Frequency')\n",
    "hist.xaxis.label.set_size(15)\n",
    "hist.yaxis.label.set_size(15)\n",
    "plt.grid(False)\n",
    "\n",
    "\n",
    "for count in hist.patches:\n",
    "    height = count.get_height()\n",
    "    hist.text(count.get_x() + count.get_width() / 2, height+0.01, height,\n",
    "            ha='center', va='bottom',fontsize=14)\n"
   ]
  },
  {
   "cell_type": "markdown",
   "metadata": {
    "id": "QXxdtc2V0c1a"
   },
   "source": [
    "#### **Observations and Inferences**\n",
    "From our analysis, we observe the age group **20-40** years employee suffer the most from Mental Health Disorders. \n",
    "\n",
    "We can infer the following from this data about employees:\n",
    "\n",
    "- There is a higher chance of suffering from mental health disorders in their mid 20's or 30's and there might be a relation to them getting more independednt. \n",
    "\n",
    "- Entry-level jobs have more tasks involving more work hours and adapting to these conditions would involve stress. This might result in mental disorders.\n",
    "\n",
    "- As per recent surveys, the average age at which people start staying independtly is **26** years and it invovlves various various challenges financially and mentally. This might be another reason for people developing mental health disorders at this age group.\n",
    "\n",
    "\n"
   ]
  },
  {
   "cell_type": "markdown",
   "metadata": {
    "id": "bQkI-Cssq7eA"
   },
   "source": [
    "### **State and Demographic Information of Employees by gender**"
   ]
  },
  {
   "cell_type": "markdown",
   "metadata": {
    "id": "_Xnb91CEuZ0V"
   },
   "source": [
    "Now, we wanted to know which state has the most number of employess suffering from mental issues. We have focused our analysis only to states within US. We also wanted to know demographic of these employees.\n",
    "\n",
    "This will help us understand why employees from some countries are more prone to mental health issues.\n"
   ]
  },
  {
   "cell_type": "code",
   "execution_count": null,
   "metadata": {
    "id": "ph0xLiGZ2srB"
   },
   "outputs": [],
   "source": [
    "mapbox_access_token = 'pk.eyJ1IjoicHJpeWFua3M5OSIsImEiOiJja3c4bTVrcHQwYzkzMnZvcmJqaXFxd3M0In0.pTGteSi6Rc3OPZJTrNUzoQ'"
   ]
  },
  {
   "cell_type": "code",
   "execution_count": null,
   "metadata": {
    "id": "3krQp_Fp2uqR"
   },
   "outputs": [],
   "source": [
    "# Assigning abbrevation to US states inorder to make them more readable\n",
    "us_state_to_abbrev = {\n",
    "    \"Alabama\": \"AL\",\n",
    "    \"Alaska\": \"AK\",\n",
    "    \"Arizona\": \"AZ\",\n",
    "    \"Arkansas\": \"AR\",\n",
    "    \"California\": \"CA\",\n",
    "    \"Colorado\": \"CO\",\n",
    "    \"Connecticut\": \"CT\",\n",
    "    \"Delaware\": \"DE\",\n",
    "    \"Florida\": \"FL\",\n",
    "    \"Georgia\": \"GA\",\n",
    "    \"Hawaii\": \"HI\",\n",
    "    \"Idaho\": \"ID\",\n",
    "    \"Illinois\": \"IL\",\n",
    "    \"Indiana\": \"IN\",\n",
    "    \"Iowa\": \"IA\",\n",
    "    \"Kansas\": \"KS\",\n",
    "    \"Kentucky\": \"KY\",\n",
    "    \"Louisiana\": \"LA\",\n",
    "    \"Maine\": \"ME\",\n",
    "    \"Maryland\": \"MD\",\n",
    "    \"Massachusetts\": \"MA\",\n",
    "    \"Michigan\": \"MI\",\n",
    "    \"Minnesota\": \"MN\",\n",
    "    \"Mississippi\": \"MS\",\n",
    "    \"Missouri\": \"MO\",\n",
    "    \"Montana\": \"MT\",\n",
    "    \"Nebraska\": \"NE\",\n",
    "    \"Nevada\": \"NV\",\n",
    "    \"New Hampshire\": \"NH\",\n",
    "    \"New Jersey\": \"NJ\",\n",
    "    \"New Mexico\": \"NM\",\n",
    "    \"New York\": \"NY\",\n",
    "    \"North Carolina\": \"NC\",\n",
    "    \"North Dakota\": \"ND\",\n",
    "    \"Ohio\": \"OH\",\n",
    "    \"Oklahoma\": \"OK\",\n",
    "    \"Oregon\": \"OR\",\n",
    "    \"Pennsylvania\": \"PA\",\n",
    "    \"Rhode Island\": \"RI\",\n",
    "    \"South Carolina\": \"SC\",\n",
    "    \"South Dakota\": \"SD\",\n",
    "    \"Tennessee\": \"TN\",\n",
    "    \"Texas\": \"TX\",\n",
    "    \"Utah\": \"UT\",\n",
    "    \"Vermont\": \"VT\",\n",
    "    \"Virginia\": \"VA\",\n",
    "    \"Washington\": \"WA\",\n",
    "    \"West Virginia\": \"WV\",\n",
    "    \"Wisconsin\": \"WI\",\n",
    "    \"Wyoming\": \"WY\",\n",
    "    \"District of Columbia\": \"DC\",\n",
    "    \"American Samoa\": \"AS\",\n",
    "    \"Guam\": \"GU\",\n",
    "    \"Northern Mariana Islands\": \"MP\",\n",
    "    \"Puerto Rico\": \"PR\",\n",
    "    \"United States Minor Outlying Islands\": \"UM\",\n",
    "    \"U.S. Virgin Islands\": \"VI\",\n",
    "}"
   ]
  },
  {
   "cell_type": "code",
   "execution_count": null,
   "metadata": {
    "id": "oG6XKbOI2wCa"
   },
   "outputs": [],
   "source": [
    "temp_columns = ['work_US_state_territory','age','mh_disorder_current','gender']"
   ]
  },
  {
   "cell_type": "code",
   "execution_count": null,
   "metadata": {
    "id": "7zQWP1i52xom"
   },
   "outputs": [],
   "source": [
    "temp_map_df = df_survey.filter(temp_columns,axis=1)\n",
    "temp_map_df = temp_map_df.rename(columns={\"work_US_state_territory\": \"state_name\"})\n",
    "temp_map_df = temp_map_df.dropna(subset=['state_name'])\n",
    "temp_map_df['state_code'] = temp_map_df['state_name'].map(us_state_to_abbrev)"
   ]
  },
  {
   "cell_type": "code",
   "execution_count": null,
   "metadata": {
    "id": "ae6m85qj2zlr"
   },
   "outputs": [],
   "source": [
    "# To assign dummy value for employees facing mental disorder\n",
    "temp_map_df['mhd_affected_count'] = df_survey['mh_disorder_current'].apply(lambda x: 1 if x == 'Yes' else 0)\n"
   ]
  },
  {
   "cell_type": "code",
   "execution_count": null,
   "metadata": {
    "id": "8tAiPGh3202G"
   },
   "outputs": [],
   "source": [
    "## To count number of employees facing mental disorder statewise\n",
    "disorder_sw_counts = temp_map_df.groupby('state_code')['mhd_affected_count'].sum().reset_index()\n",
    "disorder_sw_counts.rename({'mhd_affected_count':'disorder_count'},inplace=True)"
   ]
  },
  {
   "cell_type": "code",
   "execution_count": null,
   "metadata": {
    "id": "IuNlLX9i22BZ"
   },
   "outputs": [],
   "source": [
    "## To count number of employees in statewise\n",
    "all_disorder_sw_counts = temp_map_df.groupby('state_code')['mhd_affected_count'].count().reset_index()\n",
    "all_disorder_sw_counts.rename({'mhd_affected_count':'all_disorder_count'},inplace=True)"
   ]
  },
  {
   "cell_type": "code",
   "execution_count": null,
   "metadata": {
    "id": "RCqVxylO2272"
   },
   "outputs": [],
   "source": [
    "# To get average age of employees facing mental issue statewise\n",
    "age_age_sw = temp_map_df.groupby('state_code')['age'].mean().reset_index()\n",
    "age_age_sw.rename({'age':'avg_age'},inplace=True)"
   ]
  },
  {
   "cell_type": "code",
   "execution_count": null,
   "metadata": {
    "id": "E5nY_fUX24DH"
   },
   "outputs": [],
   "source": [
    "# To get count of male, female and other statewise\n",
    "male_sw_count = temp_map_df.loc[((df_survey['gender']=='Male') & (df_survey['mh_disorder_current']=='Yes')),:].groupby('state_code')['gender'].value_counts().unstack().reset_index()\n",
    "female_sw_count = temp_map_df.loc[((df_survey['gender']=='Female') & (df_survey['mh_disorder_current']=='Yes')),:].groupby('state_code')['gender'].value_counts().unstack().reset_index()\n",
    "others_sw_count = temp_map_df.loc[((df_survey['gender']=='Others') & (df_survey['mh_disorder_current']=='Yes')),:].groupby('state_code')['gender'].value_counts().unstack().reset_index()"
   ]
  },
  {
   "cell_type": "code",
   "execution_count": null,
   "metadata": {
    "id": "ULU72I2225GT"
   },
   "outputs": [],
   "source": [
    "# Combining all above columns into a single dataframe to create visualization\n",
    "map_df = pd.DataFrame()\n",
    "map_df = pd.merge(disorder_sw_counts, all_disorder_sw_counts, how='outer', on = 'state_code')\n",
    "map_df = pd.merge(map_df, age_age_sw, how='outer', on = 'state_code')\n",
    "map_df = pd.merge(map_df, male_sw_count, how='outer', on = 'state_code')\n",
    "map_df = pd.merge(map_df, female_sw_count, how='outer', on = 'state_code')\n",
    "map_df = pd.merge(map_df, others_sw_count, how='outer', on = 'state_code')"
   ]
  },
  {
   "cell_type": "code",
   "execution_count": null,
   "metadata": {
    "id": "runOZn853Uqc"
   },
   "outputs": [],
   "source": [
    "# renaming new map_df\n",
    "map_rename_dict = {\n",
    "    'mhd_affected_count_x':'disorder_count',\n",
    "    'mhd_affected_count_y':'all_disorder_count',\n",
    "    'age':'avg_age',\n",
    "    'Male':'male_count',\n",
    "    'Female':'female_count',\n",
    "    'Others':'others_count',\n",
    "}\n",
    "map_df = map_df.rename(columns=map_rename_dict)\n",
    "\n",
    "# filling NA after join and changing datatypes\n",
    "map_df = map_df.fillna(0)\n",
    "map_df['avg_age'] = map_df['avg_age'].astype(int)\n",
    "map_df['male_count'] = map_df['male_count'].astype(int)\n",
    "map_df['female_count'] = map_df['female_count'].astype(int)\n",
    "map_df['others_count'] = map_df['others_count'].astype(int)\n",
    "map_df['disorder_count'] = map_df['disorder_count'].astype(int)\n",
    "map_df['all_disorder_count'] = map_df['all_disorder_count'].astype(int)\n",
    "\n",
    "# adding percentage of respondents with mhd statewise\n",
    "map_df['percentage'] = (map_df['disorder_count'].div(map_df['all_disorder_count']).astype(float)*100).round(2)\n",
    "map_df['state_name'] = map_df['state_code'].apply(lambda x: us.states.lookup(x))"
   ]
  },
  {
   "cell_type": "code",
   "execution_count": null,
   "metadata": {
    "colab": {
     "base_uri": "https://localhost:8080/",
     "height": 617
    },
    "id": "R-hUeLRg3Z93",
    "outputId": "b1080097-dcfe-4b39-f11c-ef01ac1d9507"
   },
   "outputs": [
    {
     "data": {
      "text/html": [
       "<html>\n",
       "<head><meta charset=\"utf-8\" /></head>\n",
       "<body>\n",
       "    <div>\n",
       "            <script src=\"https://cdnjs.cloudflare.com/ajax/libs/mathjax/2.7.5/MathJax.js?config=TeX-AMS-MML_SVG\"></script><script type=\"text/javascript\">if (window.MathJax) {MathJax.Hub.Config({SVG: {font: \"STIX-Web\"}});}</script>\n",
       "                <script type=\"text/javascript\">window.PlotlyConfig = {MathJaxConfig: 'local'};</script>\n",
       "        <script src=\"https://cdn.plot.ly/plotly-latest.min.js\"></script>    \n",
       "            <div id=\"83327174-22a7-4419-9dc7-0e68aa39780f\" class=\"plotly-graph-div\" style=\"height:600px; width:1100px;\"></div>\n",
       "            <script type=\"text/javascript\">\n",
       "                \n",
       "                    window.PLOTLYENV=window.PLOTLYENV || {};\n",
       "                    \n",
       "                if (document.getElementById(\"83327174-22a7-4419-9dc7-0e68aa39780f\")) {\n",
       "                    Plotly.newPlot(\n",
       "                        '83327174-22a7-4419-9dc7-0e68aa39780f',\n",
       "                        [{\"autocolorscale\": false, \"colorbar\": {\"title\": {\"text\": \"Number of People with MHD\"}}, \"colorscale\": [[0.0, \"rgb(255,245,240)\"], [0.125, \"rgb(254,224,210)\"], [0.25, \"rgb(252,187,161)\"], [0.375, \"rgb(252,146,114)\"], [0.5, \"rgb(251,106,74)\"], [0.625, \"rgb(239,59,44)\"], [0.75, \"rgb(203,24,29)\"], [0.875, \"rgb(165,15,21)\"], [1.0, \"rgb(103,0,13)\"]], \"locationmode\": \"USA-states\", \"locations\": [\"AK\", \"AL\", \"AZ\", \"CA\", \"CO\", \"CT\", \"DC\", \"DE\", \"FL\", \"GA\", \"HI\", \"IA\", \"ID\", \"IL\", \"IN\", \"KS\", \"KY\", \"LA\", \"MA\", \"MD\", \"ME\", \"MI\", \"MN\", \"MO\", \"MT\", \"NC\", \"ND\", \"NE\", \"NH\", \"NJ\", \"NM\", \"NV\", \"NY\", \"OH\", \"OK\", \"OR\", \"PA\", \"RI\", \"SC\", \"SD\", \"TN\", \"TX\", \"UT\", \"VA\", \"VT\", \"WA\", \"WI\", \"WV\"], \"marker\": {\"line\": {\"color\": \"black\"}}, \"text\": [\" Overall respondents: 2<br> Mental Health Disorders cases (%): 0.0%<br><br> State:Alaska<br> Avg Age:39 years <br><br> <b>Gender of affected individuals:</b> <br> Male: 0<br> Female: 0<br> Others: 0<br><br>\", \" Overall respondents: 4<br> Mental Health Disorders cases (%): 75.0%<br><br> State:Alabama<br> Avg Age:38 years <br><br> <b>Gender of affected individuals:</b> <br> Male: 3<br> Female: 0<br> Others: 0<br><br>\", \" Overall respondents: 6<br> Mental Health Disorders cases (%): 33.33%<br><br> State:Arizona<br> Avg Age:38 years <br><br> <b>Gender of affected individuals:</b> <br> Male: 2<br> Female: 0<br> Others: 0<br><br>\", \" Overall respondents: 137<br> Mental Health Disorders cases (%): 47.45%<br><br> State:California<br> Avg Age:33 years <br><br> <b>Gender of affected individuals:</b> <br> Male: 42<br> Female: 22<br> Others: 1<br><br>\", \" Overall respondents: 28<br> Mental Health Disorders cases (%): 46.43%<br><br> State:Colorado<br> Avg Age:34 years <br><br> <b>Gender of affected individuals:</b> <br> Male: 10<br> Female: 2<br> Others: 1<br><br>\", \" Overall respondents: 5<br> Mental Health Disorders cases (%): 60.0%<br><br> State:Connecticut<br> Avg Age:38 years <br><br> <b>Gender of affected individuals:</b> <br> Male: 0<br> Female: 3<br> Others: 0<br><br>\", \" Overall respondents: 7<br> Mental Health Disorders cases (%): 28.57%<br><br> State:District of Columbia<br> Avg Age:36 years <br><br> <b>Gender of affected individuals:</b> <br> Male: 0<br> Female: 2<br> Others: 0<br><br>\", \" Overall respondents: 1<br> Mental Health Disorders cases (%): 100.0%<br><br> State:Delaware<br> Avg Age:36 years <br><br> <b>Gender of affected individuals:</b> <br> Male: 1<br> Female: 0<br> Others: 0<br><br>\", \" Overall respondents: 19<br> Mental Health Disorders cases (%): 36.84%<br><br> State:Florida<br> Avg Age:33 years <br><br> <b>Gender of affected individuals:</b> <br> Male: 5<br> Female: 1<br> Others: 1<br><br>\", \" Overall respondents: 14<br> Mental Health Disorders cases (%): 28.57%<br><br> State:Georgia<br> Avg Age:38 years <br><br> <b>Gender of affected individuals:</b> <br> Male: 3<br> Female: 1<br> Others: 0<br><br>\", \" Overall respondents: 1<br> Mental Health Disorders cases (%): 0.0%<br><br> State:Hawaii<br> Avg Age:29 years <br><br> <b>Gender of affected individuals:</b> <br> Male: 0<br> Female: 0<br> Others: 0<br><br>\", \" Overall respondents: 5<br> Mental Health Disorders cases (%): 80.0%<br><br> State:Iowa<br> Avg Age:36 years <br><br> <b>Gender of affected individuals:</b> <br> Male: 3<br> Female: 1<br> Others: 0<br><br>\", \" Overall respondents: 2<br> Mental Health Disorders cases (%): 100.0%<br><br> State:Idaho<br> Avg Age:33 years <br><br> <b>Gender of affected individuals:</b> <br> Male: 2<br> Female: 0<br> Others: 0<br><br>\", \" Overall respondents: 58<br> Mental Health Disorders cases (%): 53.45%<br><br> State:Illinois<br> Avg Age:33 years <br><br> <b>Gender of affected individuals:</b> <br> Male: 17<br> Female: 12<br> Others: 2<br><br>\", \" Overall respondents: 23<br> Mental Health Disorders cases (%): 47.83%<br><br> State:Indiana<br> Avg Age:34 years <br><br> <b>Gender of affected individuals:</b> <br> Male: 8<br> Female: 2<br> Others: 1<br><br>\", \" Overall respondents: 12<br> Mental Health Disorders cases (%): 33.33%<br><br> State:Kansas<br> Avg Age:30 years <br><br> <b>Gender of affected individuals:</b> <br> Male: 2<br> Female: 2<br> Others: 0<br><br>\", \" Overall respondents: 4<br> Mental Health Disorders cases (%): 50.0%<br><br> State:Kentucky<br> Avg Age:37 years <br><br> <b>Gender of affected individuals:</b> <br> Male: 2<br> Female: 0<br> Others: 0<br><br>\", \" Overall respondents: 2<br> Mental Health Disorders cases (%): 100.0%<br><br> State:Louisiana<br> Avg Age:30 years <br><br> <b>Gender of affected individuals:</b> <br> Male: 1<br> Female: 1<br> Others: 0<br><br>\", \" Overall respondents: 24<br> Mental Health Disorders cases (%): 41.67%<br><br> State:Massachusetts<br> Avg Age:33 years <br><br> <b>Gender of affected individuals:</b> <br> Male: 8<br> Female: 2<br> Others: 0<br><br>\", \" Overall respondents: 14<br> Mental Health Disorders cases (%): 35.71%<br><br> State:Maryland<br> Avg Age:42 years <br><br> <b>Gender of affected individuals:</b> <br> Male: 2<br> Female: 3<br> Others: 0<br><br>\", \" Overall respondents: 4<br> Mental Health Disorders cases (%): 50.0%<br><br> State:Maine<br> Avg Age:42 years <br><br> <b>Gender of affected individuals:</b> <br> Male: 1<br> Female: 1<br> Others: 0<br><br>\", \" Overall respondents: 47<br> Mental Health Disorders cases (%): 36.17%<br><br> State:Michigan<br> Avg Age:35 years <br><br> <b>Gender of affected individuals:</b> <br> Male: 10<br> Female: 6<br> Others: 1<br><br>\", \" Overall respondents: 42<br> Mental Health Disorders cases (%): 50.0%<br><br> State:Minnesota<br> Avg Age:35 years <br><br> <b>Gender of affected individuals:</b> <br> Male: 14<br> Female: 7<br> Others: 0<br><br>\", \" Overall respondents: 10<br> Mental Health Disorders cases (%): 30.0%<br><br> State:Missouri<br> Avg Age:43 years <br><br> <b>Gender of affected individuals:</b> <br> Male: 3<br> Female: 0<br> Others: 0<br><br>\", \" Overall respondents: 1<br> Mental Health Disorders cases (%): 0.0%<br><br> State:Montana<br> Avg Age:30 years <br><br> <b>Gender of affected individuals:</b> <br> Male: 0<br> Female: 0<br> Others: 0<br><br>\", \" Overall respondents: 21<br> Mental Health Disorders cases (%): 52.38%<br><br> State:North Carolina<br> Avg Age:37 years <br><br> <b>Gender of affected individuals:</b> <br> Male: 6<br> Female: 5<br> Others: 0<br><br>\", \" Overall respondents: 4<br> Mental Health Disorders cases (%): 50.0%<br><br> State:North Dakota<br> Avg Age:37 years <br><br> <b>Gender of affected individuals:</b> <br> Male: 0<br> Female: 2<br> Others: 0<br><br>\", \" Overall respondents: 12<br> Mental Health Disorders cases (%): 33.33%<br><br> State:Nebraska<br> Avg Age:30 years <br><br> <b>Gender of affected individuals:</b> <br> Male: 2<br> Female: 2<br> Others: 0<br><br>\", \" Overall respondents: 3<br> Mental Health Disorders cases (%): 0.0%<br><br> State:New Hampshire<br> Avg Age:39 years <br><br> <b>Gender of affected individuals:</b> <br> Male: 0<br> Female: 0<br> Others: 0<br><br>\", \" Overall respondents: 7<br> Mental Health Disorders cases (%): 42.86%<br><br> State:New Jersey<br> Avg Age:30 years <br><br> <b>Gender of affected individuals:</b> <br> Male: 0<br> Female: 2<br> Others: 1<br><br>\", \" Overall respondents: 4<br> Mental Health Disorders cases (%): 25.0%<br><br> State:New Mexico<br> Avg Age:31 years <br><br> <b>Gender of affected individuals:</b> <br> Male: 1<br> Female: 0<br> Others: 0<br><br>\", \" Overall respondents: 3<br> Mental Health Disorders cases (%): 0.0%<br><br> State:Nevada<br> Avg Age:37 years <br><br> <b>Gender of affected individuals:</b> <br> Male: 0<br> Female: 0<br> Others: 0<br><br>\", \" Overall respondents: 49<br> Mental Health Disorders cases (%): 51.02%<br><br> State:New York<br> Avg Age:32 years <br><br> <b>Gender of affected individuals:</b> <br> Male: 12<br> Female: 12<br> Others: 1<br><br>\", \" Overall respondents: 23<br> Mental Health Disorders cases (%): 47.83%<br><br> State:Ohio<br> Avg Age:34 years <br><br> <b>Gender of affected individuals:</b> <br> Male: 6<br> Female: 5<br> Others: 0<br><br>\", \" Overall respondents: 14<br> Mental Health Disorders cases (%): 28.57%<br><br> State:Oklahoma<br> Avg Age:31 years <br><br> <b>Gender of affected individuals:</b> <br> Male: 3<br> Female: 1<br> Others: 0<br><br>\", \" Overall respondents: 34<br> Mental Health Disorders cases (%): 47.06%<br><br> State:Oregon<br> Avg Age:36 years <br><br> <b>Gender of affected individuals:</b> <br> Male: 8<br> Female: 7<br> Others: 1<br><br>\", \" Overall respondents: 32<br> Mental Health Disorders cases (%): 65.62%<br><br> State:Pennsylvania<br> Avg Age:31 years <br><br> <b>Gender of affected individuals:</b> <br> Male: 11<br> Female: 9<br> Others: 1<br><br>\", \" Overall respondents: 2<br> Mental Health Disorders cases (%): 50.0%<br><br> State:Rhode Island<br> Avg Age:35 years <br><br> <b>Gender of affected individuals:</b> <br> Male: 1<br> Female: 0<br> Others: 0<br><br>\", \" Overall respondents: 1<br> Mental Health Disorders cases (%): 100.0%<br><br> State:South Carolina<br> Avg Age:21 years <br><br> <b>Gender of affected individuals:</b> <br> Male: 1<br> Female: 0<br> Others: 0<br><br>\", \" Overall respondents: 4<br> Mental Health Disorders cases (%): 50.0%<br><br> State:South Dakota<br> Avg Age:35 years <br><br> <b>Gender of affected individuals:</b> <br> Male: 2<br> Female: 0<br> Others: 0<br><br>\", \" Overall respondents: 28<br> Mental Health Disorders cases (%): 50.0%<br><br> State:Tennessee<br> Avg Age:34 years <br><br> <b>Gender of affected individuals:</b> <br> Male: 11<br> Female: 3<br> Others: 0<br><br>\", \" Overall respondents: 43<br> Mental Health Disorders cases (%): 51.16%<br><br> State:Texas<br> Avg Age:34 years <br><br> <b>Gender of affected individuals:</b> <br> Male: 12<br> Female: 9<br> Others: 1<br><br>\", \" Overall respondents: 6<br> Mental Health Disorders cases (%): 66.67%<br><br> State:Utah<br> Avg Age:39 years <br><br> <b>Gender of affected individuals:</b> <br> Male: 4<br> Female: 0<br> Others: 0<br><br>\", \" Overall respondents: 13<br> Mental Health Disorders cases (%): 46.15%<br><br> State:Virginia<br> Avg Age:32 years <br><br> <b>Gender of affected individuals:</b> <br> Male: 5<br> Female: 1<br> Others: 0<br><br>\", \" Overall respondents: 5<br> Mental Health Disorders cases (%): 40.0%<br><br> State:Vermont<br> Avg Age:42 years <br><br> <b>Gender of affected individuals:</b> <br> Male: 1<br> Female: 1<br> Others: 0<br><br>\", \" Overall respondents: 42<br> Mental Health Disorders cases (%): 45.24%<br><br> State:Washington<br> Avg Age:33 years <br><br> <b>Gender of affected individuals:</b> <br> Male: 8<br> Female: 11<br> Others: 0<br><br>\", \" Overall respondents: 14<br> Mental Health Disorders cases (%): 71.43%<br><br> State:Wisconsin<br> Avg Age:34 years <br><br> <b>Gender of affected individuals:</b> <br> Male: 4<br> Female: 5<br> Others: 1<br><br>\", \" Overall respondents: 1<br> Mental Health Disorders cases (%): 0.0%<br><br> State:West Virginia<br> Avg Age:39 years <br><br> <b>Gender of affected individuals:</b> <br> Male: 0<br> Female: 0<br> Others: 0<br><br>\"], \"type\": \"choropleth\", \"z\": [0.0, 3.0, 2.0, 65.0, 13.0, 3.0, 2.0, 1.0, 7.0, 4.0, 0.0, 4.0, 2.0, 31.0, 11.0, 4.0, 2.0, 2.0, 10.0, 5.0, 2.0, 17.0, 21.0, 3.0, 0.0, 11.0, 2.0, 4.0, 0.0, 3.0, 1.0, 0.0, 25.0, 11.0, 4.0, 16.0, 21.0, 1.0, 1.0, 2.0, 14.0, 22.0, 4.0, 6.0, 2.0, 19.0, 10.0, 0.0]}],\n",
       "                        {\"autosize\": false, \"geo\": {\"lakecolor\": \"rgb(255, 255, 255)\", \"projection\": {\"type\": \"albers usa\"}, \"scope\": \"usa\", \"showlakes\": true}, \"height\": 600, \"mapbox\": {\"accesstoken\": \"pk.eyJ1IjoicHJpeWFua3M5OSIsImEiOiJja3c4bTVrcHQwYzkzMnZvcmJqaXFxd3M0In0.pTGteSi6Rc3OPZJTrNUzoQ\"}, \"template\": {\"data\": {\"bar\": [{\"error_x\": {\"color\": \"#2a3f5f\"}, \"error_y\": {\"color\": \"#2a3f5f\"}, \"marker\": {\"line\": {\"color\": \"#E5ECF6\", \"width\": 0.5}}, \"type\": \"bar\"}], \"barpolar\": [{\"marker\": {\"line\": {\"color\": \"#E5ECF6\", \"width\": 0.5}}, \"type\": \"barpolar\"}], \"carpet\": [{\"aaxis\": {\"endlinecolor\": \"#2a3f5f\", \"gridcolor\": \"white\", \"linecolor\": \"white\", \"minorgridcolor\": \"white\", \"startlinecolor\": \"#2a3f5f\"}, \"baxis\": {\"endlinecolor\": \"#2a3f5f\", \"gridcolor\": \"white\", \"linecolor\": \"white\", \"minorgridcolor\": \"white\", \"startlinecolor\": \"#2a3f5f\"}, \"type\": \"carpet\"}], \"choropleth\": [{\"colorbar\": {\"outlinewidth\": 0, \"ticks\": \"\"}, \"type\": \"choropleth\"}], \"contour\": [{\"colorbar\": {\"outlinewidth\": 0, \"ticks\": \"\"}, \"colorscale\": [[0.0, \"#0d0887\"], [0.1111111111111111, \"#46039f\"], [0.2222222222222222, \"#7201a8\"], [0.3333333333333333, \"#9c179e\"], [0.4444444444444444, \"#bd3786\"], [0.5555555555555556, \"#d8576b\"], [0.6666666666666666, \"#ed7953\"], [0.7777777777777778, \"#fb9f3a\"], [0.8888888888888888, \"#fdca26\"], [1.0, \"#f0f921\"]], \"type\": \"contour\"}], \"contourcarpet\": [{\"colorbar\": {\"outlinewidth\": 0, \"ticks\": \"\"}, \"type\": \"contourcarpet\"}], \"heatmap\": [{\"colorbar\": {\"outlinewidth\": 0, \"ticks\": \"\"}, \"colorscale\": [[0.0, \"#0d0887\"], [0.1111111111111111, \"#46039f\"], [0.2222222222222222, \"#7201a8\"], [0.3333333333333333, \"#9c179e\"], [0.4444444444444444, \"#bd3786\"], [0.5555555555555556, \"#d8576b\"], [0.6666666666666666, \"#ed7953\"], [0.7777777777777778, \"#fb9f3a\"], [0.8888888888888888, \"#fdca26\"], [1.0, \"#f0f921\"]], \"type\": \"heatmap\"}], \"heatmapgl\": [{\"colorbar\": {\"outlinewidth\": 0, \"ticks\": \"\"}, \"colorscale\": [[0.0, \"#0d0887\"], [0.1111111111111111, \"#46039f\"], [0.2222222222222222, \"#7201a8\"], [0.3333333333333333, \"#9c179e\"], [0.4444444444444444, \"#bd3786\"], [0.5555555555555556, \"#d8576b\"], [0.6666666666666666, \"#ed7953\"], [0.7777777777777778, \"#fb9f3a\"], [0.8888888888888888, \"#fdca26\"], [1.0, \"#f0f921\"]], \"type\": \"heatmapgl\"}], \"histogram\": [{\"marker\": {\"colorbar\": {\"outlinewidth\": 0, \"ticks\": \"\"}}, \"type\": \"histogram\"}], \"histogram2d\": [{\"colorbar\": {\"outlinewidth\": 0, \"ticks\": \"\"}, \"colorscale\": [[0.0, \"#0d0887\"], [0.1111111111111111, \"#46039f\"], [0.2222222222222222, \"#7201a8\"], [0.3333333333333333, \"#9c179e\"], [0.4444444444444444, \"#bd3786\"], [0.5555555555555556, \"#d8576b\"], [0.6666666666666666, \"#ed7953\"], [0.7777777777777778, \"#fb9f3a\"], [0.8888888888888888, \"#fdca26\"], [1.0, \"#f0f921\"]], \"type\": \"histogram2d\"}], \"histogram2dcontour\": [{\"colorbar\": {\"outlinewidth\": 0, \"ticks\": \"\"}, \"colorscale\": [[0.0, \"#0d0887\"], [0.1111111111111111, \"#46039f\"], [0.2222222222222222, \"#7201a8\"], [0.3333333333333333, \"#9c179e\"], [0.4444444444444444, \"#bd3786\"], [0.5555555555555556, \"#d8576b\"], [0.6666666666666666, \"#ed7953\"], [0.7777777777777778, \"#fb9f3a\"], [0.8888888888888888, \"#fdca26\"], [1.0, \"#f0f921\"]], \"type\": \"histogram2dcontour\"}], \"mesh3d\": [{\"colorbar\": {\"outlinewidth\": 0, \"ticks\": \"\"}, \"type\": \"mesh3d\"}], \"parcoords\": [{\"line\": {\"colorbar\": {\"outlinewidth\": 0, \"ticks\": \"\"}}, \"type\": \"parcoords\"}], \"pie\": [{\"automargin\": true, \"type\": \"pie\"}], \"scatter\": [{\"marker\": {\"colorbar\": {\"outlinewidth\": 0, \"ticks\": \"\"}}, \"type\": \"scatter\"}], \"scatter3d\": [{\"line\": {\"colorbar\": {\"outlinewidth\": 0, \"ticks\": \"\"}}, \"marker\": {\"colorbar\": {\"outlinewidth\": 0, \"ticks\": \"\"}}, \"type\": \"scatter3d\"}], \"scattercarpet\": [{\"marker\": {\"colorbar\": {\"outlinewidth\": 0, \"ticks\": \"\"}}, \"type\": \"scattercarpet\"}], \"scattergeo\": [{\"marker\": {\"colorbar\": {\"outlinewidth\": 0, \"ticks\": \"\"}}, \"type\": \"scattergeo\"}], \"scattergl\": [{\"marker\": {\"colorbar\": {\"outlinewidth\": 0, \"ticks\": \"\"}}, \"type\": \"scattergl\"}], \"scattermapbox\": [{\"marker\": {\"colorbar\": {\"outlinewidth\": 0, \"ticks\": \"\"}}, \"type\": \"scattermapbox\"}], \"scatterpolar\": [{\"marker\": {\"colorbar\": {\"outlinewidth\": 0, \"ticks\": \"\"}}, \"type\": \"scatterpolar\"}], \"scatterpolargl\": [{\"marker\": {\"colorbar\": {\"outlinewidth\": 0, \"ticks\": \"\"}}, \"type\": \"scatterpolargl\"}], \"scatterternary\": [{\"marker\": {\"colorbar\": {\"outlinewidth\": 0, \"ticks\": \"\"}}, \"type\": \"scatterternary\"}], \"surface\": [{\"colorbar\": {\"outlinewidth\": 0, \"ticks\": \"\"}, \"colorscale\": [[0.0, \"#0d0887\"], [0.1111111111111111, \"#46039f\"], [0.2222222222222222, \"#7201a8\"], [0.3333333333333333, \"#9c179e\"], [0.4444444444444444, \"#bd3786\"], [0.5555555555555556, \"#d8576b\"], [0.6666666666666666, \"#ed7953\"], [0.7777777777777778, \"#fb9f3a\"], [0.8888888888888888, \"#fdca26\"], [1.0, \"#f0f921\"]], \"type\": \"surface\"}], \"table\": [{\"cells\": {\"fill\": {\"color\": \"#EBF0F8\"}, \"line\": {\"color\": \"white\"}}, \"header\": {\"fill\": {\"color\": \"#C8D4E3\"}, \"line\": {\"color\": \"white\"}}, \"type\": \"table\"}]}, \"layout\": {\"annotationdefaults\": {\"arrowcolor\": \"#2a3f5f\", \"arrowhead\": 0, \"arrowwidth\": 1}, \"coloraxis\": {\"colorbar\": {\"outlinewidth\": 0, \"ticks\": \"\"}}, \"colorscale\": {\"diverging\": [[0, \"#8e0152\"], [0.1, \"#c51b7d\"], [0.2, \"#de77ae\"], [0.3, \"#f1b6da\"], [0.4, \"#fde0ef\"], [0.5, \"#f7f7f7\"], [0.6, \"#e6f5d0\"], [0.7, \"#b8e186\"], [0.8, \"#7fbc41\"], [0.9, \"#4d9221\"], [1, \"#276419\"]], \"sequential\": [[0.0, \"#0d0887\"], [0.1111111111111111, \"#46039f\"], [0.2222222222222222, \"#7201a8\"], [0.3333333333333333, \"#9c179e\"], [0.4444444444444444, \"#bd3786\"], [0.5555555555555556, \"#d8576b\"], [0.6666666666666666, \"#ed7953\"], [0.7777777777777778, \"#fb9f3a\"], [0.8888888888888888, \"#fdca26\"], [1.0, \"#f0f921\"]], \"sequentialminus\": [[0.0, \"#0d0887\"], [0.1111111111111111, \"#46039f\"], [0.2222222222222222, \"#7201a8\"], [0.3333333333333333, \"#9c179e\"], [0.4444444444444444, \"#bd3786\"], [0.5555555555555556, \"#d8576b\"], [0.6666666666666666, \"#ed7953\"], [0.7777777777777778, \"#fb9f3a\"], [0.8888888888888888, \"#fdca26\"], [1.0, \"#f0f921\"]]}, \"colorway\": [\"#636efa\", \"#EF553B\", \"#00cc96\", \"#ab63fa\", \"#FFA15A\", \"#19d3f3\", \"#FF6692\", \"#B6E880\", \"#FF97FF\", \"#FECB52\"], \"font\": {\"color\": \"#2a3f5f\"}, \"geo\": {\"bgcolor\": \"white\", \"lakecolor\": \"white\", \"landcolor\": \"#E5ECF6\", \"showlakes\": true, \"showland\": true, \"subunitcolor\": \"white\"}, \"hoverlabel\": {\"align\": \"left\"}, \"hovermode\": \"closest\", \"mapbox\": {\"style\": \"light\"}, \"paper_bgcolor\": \"white\", \"plot_bgcolor\": \"#E5ECF6\", \"polar\": {\"angularaxis\": {\"gridcolor\": \"white\", \"linecolor\": \"white\", \"ticks\": \"\"}, \"bgcolor\": \"#E5ECF6\", \"radialaxis\": {\"gridcolor\": \"white\", \"linecolor\": \"white\", \"ticks\": \"\"}}, \"scene\": {\"xaxis\": {\"backgroundcolor\": \"#E5ECF6\", \"gridcolor\": \"white\", \"gridwidth\": 2, \"linecolor\": \"white\", \"showbackground\": true, \"ticks\": \"\", \"zerolinecolor\": \"white\"}, \"yaxis\": {\"backgroundcolor\": \"#E5ECF6\", \"gridcolor\": \"white\", \"gridwidth\": 2, \"linecolor\": \"white\", \"showbackground\": true, \"ticks\": \"\", \"zerolinecolor\": \"white\"}, \"zaxis\": {\"backgroundcolor\": \"#E5ECF6\", \"gridcolor\": \"white\", \"gridwidth\": 2, \"linecolor\": \"white\", \"showbackground\": true, \"ticks\": \"\", \"zerolinecolor\": \"white\"}}, \"shapedefaults\": {\"line\": {\"color\": \"#2a3f5f\"}}, \"ternary\": {\"aaxis\": {\"gridcolor\": \"white\", \"linecolor\": \"white\", \"ticks\": \"\"}, \"baxis\": {\"gridcolor\": \"white\", \"linecolor\": \"white\", \"ticks\": \"\"}, \"bgcolor\": \"#E5ECF6\", \"caxis\": {\"gridcolor\": \"white\", \"linecolor\": \"white\", \"ticks\": \"\"}}, \"title\": {\"x\": 0.05}, \"xaxis\": {\"automargin\": true, \"gridcolor\": \"white\", \"linecolor\": \"white\", \"ticks\": \"\", \"title\": {\"standoff\": 15}, \"zerolinecolor\": \"white\", \"zerolinewidth\": 2}, \"yaxis\": {\"automargin\": true, \"gridcolor\": \"white\", \"linecolor\": \"white\", \"ticks\": \"\", \"title\": {\"standoff\": 15}, \"zerolinecolor\": \"white\", \"zerolinewidth\": 2}}}, \"title\": {\"text\": \"Heat Map of Mental Health Disorders in the US\"}, \"width\": 1100},\n",
       "                        {\"responsive\": true}\n",
       "                    ).then(function(){\n",
       "                            \n",
       "var gd = document.getElementById('83327174-22a7-4419-9dc7-0e68aa39780f');\n",
       "var x = new MutationObserver(function (mutations, observer) {{\n",
       "        var display = window.getComputedStyle(gd).display;\n",
       "        if (!display || display === 'none') {{\n",
       "            console.log([gd, 'removed!']);\n",
       "            Plotly.purge(gd);\n",
       "            observer.disconnect();\n",
       "        }}\n",
       "}});\n",
       "\n",
       "// Listen for the removal of the full notebook cells\n",
       "var notebookContainer = gd.closest('#notebook-container');\n",
       "if (notebookContainer) {{\n",
       "    x.observe(notebookContainer, {childList: true});\n",
       "}}\n",
       "\n",
       "// Listen for the clearing of the current output cell\n",
       "var outputEl = gd.closest('.output');\n",
       "if (outputEl) {{\n",
       "    x.observe(outputEl, {childList: true});\n",
       "}}\n",
       "\n",
       "                        })\n",
       "                };\n",
       "                \n",
       "            </script>\n",
       "        </div>\n",
       "</body>\n",
       "</html>"
      ]
     },
     "metadata": {},
     "output_type": "display_data"
    }
   ],
   "source": [
    "import plotly.graph_objects as go\n",
    "import plotly.express as px\n",
    "\n",
    "df = map_df\n",
    "for col in df.columns:\n",
    "    df[col] = df[col].astype(str)\n",
    "\n",
    "df['text'] = ' Overall respondents: ' + df['all_disorder_count'] + '<br>' +\\\n",
    "    ' Mental Health Disorders cases (%): ' + df['percentage'] + '%' + '<br>' + \\\n",
    "    '<br> State:' + df['state_name'] + '<br>' + ' Avg Age:' + df['avg_age'] + ' years <br><br>' + \\\n",
    "    ' <b>Gender of affected individuals:</b> <br>' + \\\n",
    "    ' Male: ' + df['male_count'] + '<br>' + ' Female: ' + df['female_count'] + '<br>' + \\\n",
    "    ' Others: ' + df['others_count'] + '<br><br>'\n",
    "    \n",
    "\n",
    "fig = go.Figure(\n",
    "    data=go.Choropleth(\n",
    "        locations=df['state_code'],\n",
    "        z=df['disorder_count'].astype(float),\n",
    "        locationmode='USA-states',\n",
    "        colorscale='Reds',        \n",
    "        autocolorscale=False,\n",
    "        text=df['text'], # hover text\n",
    "        marker_line_color='black', # line markers between states         \n",
    "        colorbar_title=\"Number of People with MHD\",\n",
    "    )\n",
    ")\n",
    "\n",
    "fig.update_layout(\n",
    "    mapbox_accesstoken=mapbox_access_token,\n",
    "    title_text='Heat Map of Mental Health Disorders in the US',\n",
    "    autosize = False,\n",
    "    width = 1100,\n",
    "    height = 600,\n",
    "    geo = dict(\n",
    "        scope='usa',\n",
    "        projection=go.layout.geo.Projection(type = 'albers usa'),\n",
    "        showlakes=True, # lakes\n",
    "        lakecolor='rgb(255, 255, 255)'),\n",
    ")\n",
    "\n",
    "fig.show()"
   ]
  },
  {
   "cell_type": "markdown",
   "metadata": {
    "id": "dyXAyZcvsY8j"
   },
   "source": [
    "#### **Observation and Inferences**\n",
    "\n",
    "From the above graph, we see that there are more respondants from the states where there are more jobs related to technical roles. The states like California, Texas, Washington have higher number of respondents.\n",
    "\n",
    "We can infer that :\n",
    "- Most of the companies in technology growing states do not have enough resources to treat mental health disorders and it might one of the reasons for more responses from those states.\n",
    "- California tops the chart with maximum employees suffering from MHD because it has remained a hub for technology. \n",
    "- The states which have more tech-related postitions and organizations also have more employees that develop mental health diorders at an early age.\n",
    "\n",
    "\n",
    "\n",
    "\n",
    "\n",
    "\n"
   ]
  },
  {
   "cell_type": "markdown",
   "metadata": {
    "id": "GeWwFnm-0ctV"
   },
   "source": [
    "# **Conclusion**"
   ]
  },
  {
   "cell_type": "markdown",
   "metadata": {
    "id": "wnw7Rd0QXFPx"
   },
   "source": [
    "We can infer that when it comes to talking about mental health issues, most employees feel their anonymity isn't protected, making it most likely that they aren't ready to share sensitive personal information about their mental wellness. This essentially silences employees in the workplace, which is not ideal for employers looking to cultivate a satisfiable environment.\n",
    "Employees also fear that there might be negative consequences to their shared issues like judgement and shaming; this in turn might affect their personal surroundings and productivity in their workplace.<br><br>\n",
    "From our visualization ‘Employees Suffering from MHD in Different-Sized Organizations’, we analyzed that there is a higher chance that people belonging to larger organizations/companies are more prone to mental issues as the workload and competition increases within these environments. \n",
    "The workload and competition at big firms essentially leads to more stressed employees, thus, it would be helpful for organizations to look into opening more dialogue to help ease the minds of these employees. <br>\n",
    "Our visualization, ‘Mental Health Disorders among Tech Employees’, shows a great representation of which areas to focus on while installing mental health campaigns/seminars in the workplace. This visualization also assists employers on what improvements can be done in their current practices to reduce disorders amongst employees. <br>\n",
    "As analyzed above, one of the reasons for this is that these disorders listed can be related to depression based on various conditions like work-life balance stress, workplace stress, etc. <br><br>\n",
    "Our visualization, ‘Mental Health Disorder among Different Age Groups’ and ‘Heat Map of Mental Health Disorders in the US’ showcase the differences in age and regions that may place an effect on employees’ mental health. It is inferred that early career employees (aged 20-40 years) have a higher chance of suffering from mental health disorders. This is most likely due to the fact that entry-level jobs have more tasks involving more work hours, and adapting to these conditions would involve stress. This might result in a taxing environment and mental disorders. From the heatmap visualization, we see that there are more respondents from the states where there are more jobs related to technical roles. ie. states like California, Texas, Washington. For example, the Headquarters for Google,  and a lot of other high-tech companies are in these high mental-traffic states. It is inferred that most of the companies in technology-growing states do not have enough resources to treat mental health disorders and it might be one of the reasons for more responses from those states.<br><br>\n",
    "Employers can focus heavily if they find that they are in these high mental-traffic regions, to make sure that their employees are receiving the support they need (ie. resources, therapists, etc).<br>\n",
    "In the work environment, people live in a constant fear of being judged and so they do not open up about their difficulties. Specifically, in a work environment, showing weakness is something that employees try to avoid as this can be a disadvantage to them in their workplace. Employers can host seminars, open table discussions, and fireside chats in order to release this stigma and pressure to ‘appear strong’.<br>\n",
    "Providing extra support goes a long way in making sure that these Tech employees are mentally taken care of and contribute successfully to the future of Technology.<br><br>\n",
    "We are confident that our findings will provide great contributions to any Tech workplace and overall provide a guide for all employers to look at and make changes to their organizations."
   ]
  },
  {
   "cell_type": "markdown",
   "metadata": {
    "id": "l0JYS7RaXd7W"
   },
   "source": [
    "## <center>-- THE END --</center>"
   ]
  }
 ],
 "metadata": {
  "colab": {
   "collapsed_sections": [],
   "name": "Final_Report-1.ipynb",
   "provenance": []
  },
  "kernelspec": {
   "display_name": "Python 3",
   "language": "python",
   "name": "python3"
  },
  "language_info": {
   "codemirror_mode": {
    "name": "ipython",
    "version": 3
   },
   "file_extension": ".py",
   "mimetype": "text/x-python",
   "name": "python",
   "nbconvert_exporter": "python",
   "pygments_lexer": "ipython3",
   "version": "3.8.8"
  }
 },
 "nbformat": 4,
 "nbformat_minor": 1
}
